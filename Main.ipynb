{
 "cells": [
  {
   "cell_type": "code",
   "execution_count": 1,
   "metadata": {},
   "outputs": [],
   "source": [
    "# Citibike 2019 project, analyzing 2018 date of service trip data\n",
    "# Github link: https://github.com/ygchan/Citibike/blob/master/Main.ipynb\n",
    "# Author: George Chan, Sean Guo"
   ]
  },
  {
   "cell_type": "code",
   "execution_count": 2,
   "metadata": {},
   "outputs": [],
   "source": [
    "# Import library and modules\n",
    "import pandas as pd\n",
    "import glob\n",
    "import numpy as np\n",
    "import os\n",
    "import pprint\n",
    "import pickle\n",
    "import logging\n",
    "\n",
    "# Display imagine in jupyter notebook\n",
    "from IPython.display import Image\n",
    "from IPython.core.display import HTML \n",
    "\n",
    "# Setup the graph's style\n",
    "import matplotlib.pyplot as plt\n",
    "plt.style.use('ggplot')\n",
    "\n",
    "from datetime import timedelta\n",
    "\n",
    "logging.basicConfig(level=logging.DEBUG,\n",
    "                    format='%(levelname)s - %(message)s')\n",
    "\n",
    "logging.disable()"
   ]
  },
  {
   "cell_type": "code",
   "execution_count": 3,
   "metadata": {},
   "outputs": [],
   "source": [
    "# Define where are the citibke 2018 zipfiles\n",
    "data_folder = r'./Data/'\n",
    "logging.debug('The data are stored in: ' + data_folder)"
   ]
  },
  {
   "cell_type": "code",
   "execution_count": 4,
   "metadata": {},
   "outputs": [
    {
     "name": "stdout",
     "output_type": "stream",
     "text": [
      "Here are the list of csv zip files you have downloaded.\n",
      "\n",
      "/Users/Study/Citibike_Git/Citibike/Data\n",
      "   01: 201809-citibike-tripdata.csv\n",
      "   02: 201801-citibike-tripdata.csv\n",
      "   03: 201803-citibike-tripdata.csv\n",
      "   04: 201805-citibike-tripdata.csv\n",
      "   05: 201807-citibike-tripdata.csv\n",
      "   06: 201811-citibike-tripdata.csv\n",
      "   07: 201808-citibike-tripdata.csv\n",
      "   08: 201802-citibike-tripdata.csv\n",
      "   09: 201812-citibike-tripdata.csv\n",
      "   10: 201804-citibike-tripdata.csv\n",
      "   11: 201810-citibike-tripdata.csv\n",
      "   12: 201806-citibike-tripdata.csv\n"
     ]
    }
   ],
   "source": [
    "# Check what are the files in that folder\n",
    "for folderName, subfolders, filenames in os.walk(data_folder):\n",
    "    print('Here are the list of csv zip files you have downloaded.\\n')\n",
    "    print(os.path.abspath(folderName))\n",
    "    \n",
    "    number_of_csv_file = 0 # Total count of files read\n",
    "    all_files = []         # List of file path string\n",
    "    \n",
    "    for filename in filenames:\n",
    "        # If and only if they are csv files\n",
    "        if filename.endswith('.csv'):\n",
    "            number_of_csv_file += 1\n",
    "            \n",
    "            # Print to terminal to show user what files is found\n",
    "            print('   ' + str(number_of_csv_file).zfill(2) + ': ' + filename)\n",
    "            all_files.append(data_folder + filename)\n",
    "            \n",
    "    # Error if you forgot to download all 12 months.\n",
    "    # For our project we want exactly 12 file\n",
    "    assert number_of_csv_file == 12, 'Sorry, I think you are missing some files?'"
   ]
  },
  {
   "cell_type": "code",
   "execution_count": 5,
   "metadata": {},
   "outputs": [],
   "source": [
    "def Update_Station(distinct_station_df, new_data_df):\n",
    "    '''Reconcile and append any new stations to it'''\n",
    "    \n",
    "    start_columns = ['start_station_id', \n",
    "                     'start_station_name', \n",
    "                     'start_station_latitude', \n",
    "                     'start_station_longitude']\n",
    "\n",
    "    end_columns = ['end_station_id', \n",
    "                   'end_station_name', \n",
    "                   'end_station_latitude', \n",
    "                   'end_station_longitude'] \n",
    "    \n",
    "    # https://stackoverflow.com/a/14900065\n",
    "    temp_station_start = new_data_df[start_columns].drop_duplicates(subset='start_station_id', keep='last')\n",
    "    temp_station_start.columns = temp_station_start.columns.str.replace('start_', '')\n",
    "\n",
    "    temp_station_end = new_data_df[end_columns].drop_duplicates(subset='end_station_id', keep='last')\n",
    "    temp_station_end.columns = temp_station_end.columns.str.replace('end_', '')\n",
    "    \n",
    "    if distinct_station_df.shape[0] == 0:\n",
    "        df_list = [temp_station_start, \n",
    "                   temp_station_end]\n",
    "    else:\n",
    "        df_list = [distinct_station_df,\n",
    "                   temp_station_start, \n",
    "                   temp_station_end]\n",
    "    \n",
    "    distinct_station_df = pd.concat(df_list, sort=False)\n",
    "    distinct_station_df = distinct_station_df.dropna()\n",
    "    distinct_station_df.station_id = distinct_station_df.station_id.astype(int)\n",
    "    \n",
    "    # print(distinct_station_df.sample(5))\n",
    "    distinct_station_df = distinct_station_df.drop_duplicates(subset='station_id', keep='last')\n",
    "    distinct_station_df = distinct_station_df.sort_values(by='station_id').set_index('station_id')\n",
    "    \n",
    "    return distinct_station_df\n",
    "\n",
    "# station_df = Update_Station(station_df, citibike)\n",
    "# station_df"
   ]
  },
  {
   "cell_type": "code",
   "execution_count": 6,
   "metadata": {},
   "outputs": [
    {
     "name": "stdout",
     "output_type": "stream",
     "text": [
      "201801-citibike-tripdata.csv size: (718994, 8)\n",
      "201802-citibike-tripdata.csv size: (843114, 8)\n",
      "201803-citibike-tripdata.csv size: (976672, 8)\n",
      "201804-citibike-tripdata.csv size: (1307543, 8)\n",
      "201805-citibike-tripdata.csv size: (1824710, 8)\n",
      "201806-citibike-tripdata.csv size: (1953103, 8)\n",
      "201807-citibike-tripdata.csv size: (1913625, 8)\n",
      "201808-citibike-tripdata.csv size: (1977177, 8)\n",
      "201809-citibike-tripdata.csv size: (1877884, 8)\n",
      "201810-citibike-tripdata.csv size: (1878657, 8)\n",
      "201811-citibike-tripdata.csv size: (1260355, 8)\n",
      "201812-citibike-tripdata.csv size: (1016505, 8)\n",
      "\n",
      "There are 17,548,339  number of records.\n",
      "Before dropping NaN: 17,548,339\n",
      "After dropping NaN: 17,545,842\n"
     ]
    }
   ],
   "source": [
    "# tempCitibike list that store the file data frame\n",
    "tempCitibike = []\n",
    "\n",
    "# Citibike station\n",
    "station = pd.DataFrame()\n",
    "\n",
    "# Track how many records total\n",
    "totalRecordCount = 0\n",
    "\n",
    "df_storage = 'citibike_2018.pkl'\n",
    "st_storage = 'citibike_station.pkl'\n",
    "\n",
    "# If the file was properly loaded last time, re-use that dataframe\n",
    "if (os.path.exists(df_storage)):\n",
    "    citibike = pd.read_pickle(df_storage)\n",
    "    station = pd.read_pickle(st_storage)\n",
    "\n",
    "# Otherwise Load it from scratch\n",
    "else:\n",
    "    # Loop and append the dataframes into tempCitibke List\n",
    "    for filename in sorted(all_files):\n",
    "        # Filename is the path/file.ext\n",
    "        print(os.path.basename(filename), end=\" \")\n",
    "\n",
    "        # df contains the entire dataset (CSV)\n",
    "        df = pd.read_csv(filename) \n",
    "\n",
    "        # How to filter by values\n",
    "        # https://stackoverflow.com/q/17071871\n",
    "\n",
    "        # Experiment to see if only using annual membership will show a different\n",
    "        # df = df.loc[df['usertype'] == 'Subscriber']\n",
    "        \n",
    "        # columns.str.replace(' ', '_')\n",
    "        df.columns = df.columns.str.replace(' ', '_')\n",
    "\n",
    "        # Because of limited computer resource (4GB of RAM...)\n",
    "        # Radnomly select 5% of the data to load/test\n",
    "        # with repeatable random state setting\n",
    "        # df = df.sample(frac=0.05, replace=True, random_state=1)\n",
    "\n",
    "        # Refresh the station id cross walk DataFrame\n",
    "        station = Update_Station(station, df)\n",
    "        \n",
    "        # Safely drop the redundant elements to conserve memory\n",
    "        df = df.drop(columns=['start_station_name', \n",
    "                      'start_station_latitude', \n",
    "                      'start_station_longitude',\n",
    "                      'end_station_name', \n",
    "                      'end_station_latitude', \n",
    "                      'end_station_longitude',\n",
    "                      'bikeid'])\n",
    "        \n",
    "        # Output the (rowCount, columnCount) to terminal\n",
    "        print(\"size: \" + str(df.shape))\n",
    "\n",
    "        totalRecordCount += df.shape[0]\n",
    "        tempCitibike.append(df)\n",
    "        \n",
    "        # Release the memory\n",
    "        df = None\n",
    "\n",
    "    # Combine the tempCitibike dfs together\n",
    "    citibike = pd.concat(tempCitibike, sort=False)\n",
    "    print(\"\\nThere are {0:,}  number of records.\".format(totalRecordCount))\n",
    "    print(\"Before dropping NaN: {:,}\".format(citibike.shape[0]))\n",
    "\n",
    "    # Drop rows with any (missing) variables\n",
    "    # Improve performance by not using inplace option\n",
    "    # Reference: https://stackoverflow.com/q/22532302\n",
    "    citibike = citibike.dropna()\n",
    "\n",
    "    print(\"After dropping NaN: {:,}\".format(citibike.shape[0]))\n",
    "    \n",
    "    # Store the citibike dataframe into a pickle object for future reference\n",
    "    # This can save time from re-running the entire 17M records.\n",
    "    citibike.to_pickle('citibike_2018.pkl')\n",
    "    station.to_pickle('citibike_station.pkl')\n",
    "    \n",
    "# Release the memory\n",
    "tempCitibike = None"
   ]
  },
  {
   "cell_type": "code",
   "execution_count": 7,
   "metadata": {
    "scrolled": true
   },
   "outputs": [
    {
     "name": "stdout",
     "output_type": "stream",
     "text": [
      "The citibike DataFrame column names:\n",
      "[   'tripduration',\n",
      "    'starttime',\n",
      "    'stoptime',\n",
      "    'start_station_id',\n",
      "    'end_station_id',\n",
      "    'usertype',\n",
      "    'birth_year',\n",
      "    'gender']\n"
     ]
    }
   ],
   "source": [
    "pp = pprint.PrettyPrinter(indent=4)\n",
    "print('The citibike DataFrame column names:')\n",
    "pp.pprint(list(citibike.columns))\n",
    "\n",
    "# Convert station ids from float to int\n",
    "# https://stackoverflow.com/a/21291622\n",
    "citibike.start_station_id = citibike.start_station_id.astype(int)\n",
    "citibike.end_station_id = citibike.end_station_id.astype(int)"
   ]
  },
  {
   "cell_type": "code",
   "execution_count": 8,
   "metadata": {
    "scrolled": true
   },
   "outputs": [
    {
     "data": {
      "text/html": [
       "<div>\n",
       "<style scoped>\n",
       "    .dataframe tbody tr th:only-of-type {\n",
       "        vertical-align: middle;\n",
       "    }\n",
       "\n",
       "    .dataframe tbody tr th {\n",
       "        vertical-align: top;\n",
       "    }\n",
       "\n",
       "    .dataframe thead th {\n",
       "        text-align: right;\n",
       "    }\n",
       "</style>\n",
       "<table border=\"1\" class=\"dataframe\">\n",
       "  <thead>\n",
       "    <tr style=\"text-align: right;\">\n",
       "      <th></th>\n",
       "      <th>tripduration</th>\n",
       "      <th>starttime</th>\n",
       "      <th>stoptime</th>\n",
       "      <th>start_station_id</th>\n",
       "      <th>end_station_id</th>\n",
       "      <th>usertype</th>\n",
       "      <th>birth_year</th>\n",
       "      <th>gender</th>\n",
       "    </tr>\n",
       "  </thead>\n",
       "  <tbody>\n",
       "    <tr>\n",
       "      <th>881438</th>\n",
       "      <td>515</td>\n",
       "      <td>2018-11-20 09:07:35.2380</td>\n",
       "      <td>2018-11-20 09:16:10.3820</td>\n",
       "      <td>532</td>\n",
       "      <td>3087</td>\n",
       "      <td>Subscriber</td>\n",
       "      <td>1975</td>\n",
       "      <td>1</td>\n",
       "    </tr>\n",
       "    <tr>\n",
       "      <th>751281</th>\n",
       "      <td>952</td>\n",
       "      <td>2018-02-09 16:06:59.4010</td>\n",
       "      <td>2018-02-09 16:22:52.1760</td>\n",
       "      <td>3427</td>\n",
       "      <td>304</td>\n",
       "      <td>Customer</td>\n",
       "      <td>1999</td>\n",
       "      <td>2</td>\n",
       "    </tr>\n",
       "    <tr>\n",
       "      <th>74275</th>\n",
       "      <td>1070</td>\n",
       "      <td>2018-01-23 21:10:29.7530</td>\n",
       "      <td>2018-01-23 21:28:19.9510</td>\n",
       "      <td>279</td>\n",
       "      <td>3632</td>\n",
       "      <td>Subscriber</td>\n",
       "      <td>1994</td>\n",
       "      <td>2</td>\n",
       "    </tr>\n",
       "    <tr>\n",
       "      <th>1007567</th>\n",
       "      <td>895</td>\n",
       "      <td>2018-11-25 10:03:34.9270</td>\n",
       "      <td>2018-11-25 10:18:30.7690</td>\n",
       "      <td>3709</td>\n",
       "      <td>514</td>\n",
       "      <td>Subscriber</td>\n",
       "      <td>1964</td>\n",
       "      <td>1</td>\n",
       "    </tr>\n",
       "    <tr>\n",
       "      <th>1504299</th>\n",
       "      <td>1421</td>\n",
       "      <td>2018-10-24 19:38:46.2250</td>\n",
       "      <td>2018-10-24 20:02:28.1880</td>\n",
       "      <td>79</td>\n",
       "      <td>519</td>\n",
       "      <td>Subscriber</td>\n",
       "      <td>1964</td>\n",
       "      <td>1</td>\n",
       "    </tr>\n",
       "  </tbody>\n",
       "</table>\n",
       "</div>"
      ],
      "text/plain": [
       "         tripduration                 starttime                  stoptime  \\\n",
       "881438            515  2018-11-20 09:07:35.2380  2018-11-20 09:16:10.3820   \n",
       "751281            952  2018-02-09 16:06:59.4010  2018-02-09 16:22:52.1760   \n",
       "74275            1070  2018-01-23 21:10:29.7530  2018-01-23 21:28:19.9510   \n",
       "1007567           895  2018-11-25 10:03:34.9270  2018-11-25 10:18:30.7690   \n",
       "1504299          1421  2018-10-24 19:38:46.2250  2018-10-24 20:02:28.1880   \n",
       "\n",
       "         start_station_id  end_station_id    usertype  birth_year  gender  \n",
       "881438                532            3087  Subscriber        1975       1  \n",
       "751281               3427             304    Customer        1999       2  \n",
       "74275                 279            3632  Subscriber        1994       2  \n",
       "1007567              3709             514  Subscriber        1964       1  \n",
       "1504299                79             519  Subscriber        1964       1  "
      ]
     },
     "execution_count": 8,
     "metadata": {},
     "output_type": "execute_result"
    }
   ],
   "source": [
    "# Sample my dataset\n",
    "citibike.sample(5)"
   ]
  },
  {
   "cell_type": "code",
   "execution_count": 9,
   "metadata": {},
   "outputs": [
    {
     "data": {
      "text/html": [
       "<div>\n",
       "<style scoped>\n",
       "    .dataframe tbody tr th:only-of-type {\n",
       "        vertical-align: middle;\n",
       "    }\n",
       "\n",
       "    .dataframe tbody tr th {\n",
       "        vertical-align: top;\n",
       "    }\n",
       "\n",
       "    .dataframe thead th {\n",
       "        text-align: right;\n",
       "    }\n",
       "</style>\n",
       "<table border=\"1\" class=\"dataframe\">\n",
       "  <thead>\n",
       "    <tr style=\"text-align: right;\">\n",
       "      <th></th>\n",
       "      <th>station_name</th>\n",
       "      <th>station_latitude</th>\n",
       "      <th>station_longitude</th>\n",
       "    </tr>\n",
       "    <tr>\n",
       "      <th>station_id</th>\n",
       "      <th></th>\n",
       "      <th></th>\n",
       "      <th></th>\n",
       "    </tr>\n",
       "  </thead>\n",
       "  <tbody>\n",
       "    <tr>\n",
       "      <th>3106</th>\n",
       "      <td>Driggs Ave &amp; N Henry St</td>\n",
       "      <td>40.723250</td>\n",
       "      <td>-73.943080</td>\n",
       "    </tr>\n",
       "    <tr>\n",
       "      <th>326</th>\n",
       "      <td>E 11 St &amp; 1 Ave</td>\n",
       "      <td>40.729538</td>\n",
       "      <td>-73.984267</td>\n",
       "    </tr>\n",
       "    <tr>\n",
       "      <th>368</th>\n",
       "      <td>Carmine St &amp; 6 Ave</td>\n",
       "      <td>40.730386</td>\n",
       "      <td>-74.002150</td>\n",
       "    </tr>\n",
       "    <tr>\n",
       "      <th>3340</th>\n",
       "      <td>Wolcott St &amp; Dwight St</td>\n",
       "      <td>40.675327</td>\n",
       "      <td>-74.010070</td>\n",
       "    </tr>\n",
       "    <tr>\n",
       "      <th>3314</th>\n",
       "      <td>W 95 St &amp; Broadway</td>\n",
       "      <td>40.793770</td>\n",
       "      <td>-73.971888</td>\n",
       "    </tr>\n",
       "  </tbody>\n",
       "</table>\n",
       "</div>"
      ],
      "text/plain": [
       "                       station_name  station_latitude  station_longitude\n",
       "station_id                                                              \n",
       "3106        Driggs Ave & N Henry St         40.723250         -73.943080\n",
       "326                 E 11 St & 1 Ave         40.729538         -73.984267\n",
       "368              Carmine St & 6 Ave         40.730386         -74.002150\n",
       "3340         Wolcott St & Dwight St         40.675327         -74.010070\n",
       "3314             W 95 St & Broadway         40.793770         -73.971888"
      ]
     },
     "execution_count": 9,
     "metadata": {},
     "output_type": "execute_result"
    }
   ],
   "source": [
    "# Sample my dataset\n",
    "station.sample(5)"
   ]
  },
  {
   "cell_type": "code",
   "execution_count": 10,
   "metadata": {
    "scrolled": false
   },
   "outputs": [
    {
     "name": "stdout",
     "output_type": "stream",
     "text": [
      "<class 'pandas.core.frame.DataFrame'>\n",
      "Int64Index: 17545842 entries, 0 to 1016504\n",
      "Data columns (total 8 columns):\n",
      "tripduration        int64\n",
      "starttime           object\n",
      "stoptime            object\n",
      "start_station_id    int64\n",
      "end_station_id      int64\n",
      "usertype            object\n",
      "birth_year          int64\n",
      "gender              int64\n",
      "dtypes: int64(5), object(3)\n",
      "memory usage: 1.2+ GB\n"
     ]
    }
   ],
   "source": [
    "# Explore the dataset \n",
    "citibike.info()"
   ]
  },
  {
   "cell_type": "markdown",
   "metadata": {},
   "source": [
    "# Question 01: What is daily and monthly total ridership in 2018?"
   ]
  },
  {
   "cell_type": "code",
   "execution_count": 11,
   "metadata": {
    "scrolled": true
   },
   "outputs": [
    {
     "name": "stdout",
     "output_type": "stream",
     "text": [
      "Type: <class 'str'>\n",
      "2018-01-01 13:50:57.4340\n"
     ]
    }
   ],
   "source": [
    "# What is the type of the starttime?\n",
    "print('Type: ' + str(type(citibike['starttime'].values[0])))\n",
    "print(citibike['starttime'].values[0])"
   ]
  },
  {
   "cell_type": "code",
   "execution_count": 12,
   "metadata": {},
   "outputs": [],
   "source": [
    "# Need to convert start_time and stop_time to datetime\n",
    "formatString = '%Y-%m-%d %H:%M:%S.%f'\n",
    "\n",
    "# Convert datetime column into \n",
    "citibike['starttime'] = pd.to_datetime(citibike['starttime'], format=formatString)\n",
    "citibike['stoptime'] = pd.to_datetime(citibike['stoptime'], format=formatString)"
   ]
  },
  {
   "cell_type": "code",
   "execution_count": 13,
   "metadata": {},
   "outputs": [
    {
     "name": "stdout",
     "output_type": "stream",
     "text": [
      "Type: <class 'numpy.datetime64'>\n",
      "2018-01-01T13:50:57.434000000\n"
     ]
    }
   ],
   "source": [
    "# Confirm such convertion work, should be datetime64!\n",
    "print('Type: ' + str(type(citibike['starttime'].values[0])))\n",
    "print(citibike['starttime'].values[0])"
   ]
  },
  {
   "cell_type": "code",
   "execution_count": 14,
   "metadata": {},
   "outputs": [
    {
     "data": {
      "text/html": [
       "<div>\n",
       "<style scoped>\n",
       "    .dataframe tbody tr th:only-of-type {\n",
       "        vertical-align: middle;\n",
       "    }\n",
       "\n",
       "    .dataframe tbody tr th {\n",
       "        vertical-align: top;\n",
       "    }\n",
       "\n",
       "    .dataframe thead th {\n",
       "        text-align: right;\n",
       "    }\n",
       "</style>\n",
       "<table border=\"1\" class=\"dataframe\">\n",
       "  <thead>\n",
       "    <tr style=\"text-align: right;\">\n",
       "      <th></th>\n",
       "      <th>starttime</th>\n",
       "    </tr>\n",
       "  </thead>\n",
       "  <tbody>\n",
       "    <tr>\n",
       "      <th>0</th>\n",
       "      <td>2018-01</td>\n",
       "    </tr>\n",
       "    <tr>\n",
       "      <th>1</th>\n",
       "      <td>2018-01</td>\n",
       "    </tr>\n",
       "    <tr>\n",
       "      <th>2</th>\n",
       "      <td>2018-01</td>\n",
       "    </tr>\n",
       "    <tr>\n",
       "      <th>3</th>\n",
       "      <td>2018-01</td>\n",
       "    </tr>\n",
       "    <tr>\n",
       "      <th>4</th>\n",
       "      <td>2018-01</td>\n",
       "    </tr>\n",
       "  </tbody>\n",
       "</table>\n",
       "</div>"
      ],
      "text/plain": [
       "  starttime\n",
       "0   2018-01\n",
       "1   2018-01\n",
       "2   2018-01\n",
       "3   2018-01\n",
       "4   2018-01"
      ]
     },
     "execution_count": 14,
     "metadata": {},
     "output_type": "execute_result"
    }
   ],
   "source": [
    "# Create another pandas dataframe that only has 1 columns\n",
    "citibike_monthly_df = citibike.filter(['starttime']) # Monthly dataframe\n",
    "citibike_daily_df = citibike.filter(['starttime'])   # Daily dataframe\n",
    "\n",
    "# Each of the starttime is now converted into YYYY-MM\n",
    "citibike_monthly_df.starttime = pd.to_datetime(citibike_monthly_df.starttime).dt.to_period('m')\n",
    "citibike_daily_df.starttime = pd.to_datetime(citibike_daily_df.starttime).dt.to_period('d')\n",
    "\n",
    "# Confirm if they are correct\n",
    "citibike_daily_df.head()\n",
    "citibike_monthly_df.head()"
   ]
  },
  {
   "cell_type": "code",
   "execution_count": 15,
   "metadata": {},
   "outputs": [],
   "source": [
    "# Get frequency count of ridership data by month and day\n",
    "monthly_answer = citibike_monthly_df.groupby(['starttime']).size()\n",
    "daily_answer = citibike_daily_df.groupby(['starttime']).size()"
   ]
  },
  {
   "cell_type": "code",
   "execution_count": 16,
   "metadata": {},
   "outputs": [
    {
     "data": {
      "text/plain": [
       "pandas.core.series.Series"
      ]
     },
     "execution_count": 16,
     "metadata": {},
     "output_type": "execute_result"
    }
   ],
   "source": [
    "# Checking to see what is monthly_answer type.\n",
    "type(monthly_answer)"
   ]
  },
  {
   "cell_type": "code",
   "execution_count": 17,
   "metadata": {},
   "outputs": [
    {
     "data": {
      "text/plain": [
       "<matplotlib.axes._subplots.AxesSubplot at 0x12211cf28>"
      ]
     },
     "execution_count": 17,
     "metadata": {},
     "output_type": "execute_result"
    },
    {
     "data": {
      "image/png": "[encoded data removed]",
      "text/plain": [
       "<Figure size 1440x720 with 1 Axes>"
      ]
     },
     "metadata": {
      "needs_background": "light"
     },
     "output_type": "display_data"
    }
   ],
   "source": [
    "# Draw a basic plot for the monthly ridership data\n",
    "monthly_answer.plot(\n",
    "    figsize=(20,10), \n",
    "    kind='bar',\n",
    "    title='2018 Monthly Citibike Ridership Count',\n",
    "    fontsize=14,\n",
    "    color='k',\n",
    "    alpha=0.7,\n",
    "    rot=0)\n",
    "\n",
    "# Finally learned how to do it, you have to assign it to an object first.\n",
    "# Reference: https://stackoverflow.com/a/21487560\n",
    "\n",
    "# Then use set_xlable ...\n",
    "# ax.set_xlabel('')\n",
    "\n",
    "# Very complicated, \n",
    "# Reference: https://stackoverflow.com/a/25973637\n",
    "# ax.get_yaxis().set_major_formatter(\n",
    "#    matplotlib.ticker.FuncFormatter(lambda y, p: format(int(y), ',')))"
   ]
  },
  {
   "cell_type": "code",
   "execution_count": 18,
   "metadata": {},
   "outputs": [
    {
     "data": {
      "text/plain": [
       "<matplotlib.axes._subplots.AxesSubplot at 0x225b77da0>"
      ]
     },
     "execution_count": 18,
     "metadata": {},
     "output_type": "execute_result"
    },
    {
     "data": {
      "image/png": "[encoded data removed]",
      "text/plain": [
       "<Figure size 1440x720 with 1 Axes>"
      ]
     },
     "metadata": {
      "needs_background": "light"
     },
     "output_type": "display_data"
    }
   ],
   "source": [
    "# Create a monthly temperature dictionary, data otained from google.\n",
    "# probably need to find a way to get daily temperature in order to do more \n",
    "# in depth analysis and build a regression model.\n",
    "temperature_dict = {\n",
    "    'Month':['2018-01', \n",
    "             '2018-02',\n",
    "             '2018-03',\n",
    "             '2018-04',\n",
    "             '2018-05',\n",
    "             '2018-06',\n",
    "             '2018-07',\n",
    "             '2018-08',\n",
    "             '2018-09',\n",
    "             '2018-10',\n",
    "             '2018-11',\n",
    "             '2018-12'],\n",
    "    'Temperature':[32.5, 35.5, 42.5, 53, 62.5, 71.5, 76.5, 75.5, 68, 57, 48, 37.5]\n",
    "}\n",
    "\n",
    "# Create a dataframe using the dictionary data\n",
    "temperature_df = pd.DataFrame.from_dict(temperature_dict)\n",
    "\n",
    "# Rename the columns properly\n",
    "temperature_df = temperature_df.rename(index=str, columns={\"Month\": \"Month\", \"Temperature\": \"Temperature\"})\n",
    "\n",
    "# Learned how to add x & y axis label\n",
    "temperature_df.plot(\n",
    "    x='Month',\n",
    "    y='Temperature',\n",
    "    figsize=(20,10), \n",
    "    kind='line',\n",
    "    title='2018 Average Temperature',\n",
    "    fontsize=14,\n",
    "    linewidth=4.0, \n",
    "    markeredgewidth=10.0,\n",
    "    linestyle='--', \n",
    "    marker='o',\n",
    "    color='k',\n",
    "    alpha=0.7,\n",
    "    rot=0\n",
    ")"
   ]
  },
  {
   "cell_type": "code",
   "execution_count": 19,
   "metadata": {},
   "outputs": [],
   "source": [
    "# From this we can tell there are a strong relationship between the temperature \n",
    "# to the number of riders per day in the citibike. During winter month when it is\n",
    "# really cold, you don't see nearly as much. But when it is warmer (in the summer)\n",
    "# then you start to see a huge increase in the number of rides."
   ]
  },
  {
   "cell_type": "code",
   "execution_count": 20,
   "metadata": {},
   "outputs": [
    {
     "data": {
      "text/plain": [
       "<matplotlib.axes._subplots.AxesSubplot at 0x225b88c88>"
      ]
     },
     "execution_count": 20,
     "metadata": {},
     "output_type": "execute_result"
    },
    {
     "data": {
      "image/png": "[encoded data removed]",
      "text/plain": [
       "<Figure size 1440x720 with 1 Axes>"
      ]
     },
     "metadata": {
      "needs_background": "light"
     },
     "output_type": "display_data"
    }
   ],
   "source": [
    "daily_answer.plot(\n",
    "    figsize=(20,10),\n",
    "    kind='bar',\n",
    "    title='2018 Daily Citibike Ridership Count',\n",
    "    fontsize=14,\n",
    "    legend=False,\n",
    "    color='k',\n",
    "    alpha=0.7,\n",
    "    rot=0\n",
    ")"
   ]
  },
  {
   "cell_type": "code",
   "execution_count": 21,
   "metadata": {},
   "outputs": [],
   "source": [
    "# Through manual checks on weather history, the dip in the individual months are \n",
    "# contributed by rain fall, when it is rainning that day, there are siginficantly\n",
    "# less people riding a citibike. Because their clothings (pants) will get wet.\n",
    "# And it is also unsafe to ride in the rain too, better to use mass transit."
   ]
  },
  {
   "cell_type": "code",
   "execution_count": 22,
   "metadata": {},
   "outputs": [],
   "source": [
    "# Most busy start station\n",
    "# https://stackoverflow.com/q/29836477\n",
    "# http://pandas.pydata.org/pandas-docs/stable/reference/api/pandas.DataFrame.sort_values.html\n",
    "key = 'start_station_id'\n",
    "start_station_df = citibike.groupby(key)[key].count().reset_index(name='count')\n",
    "start_station_df.sort_values(by='count', ascending=False, inplace=True)\n",
    "\n",
    "# Getting the station name\n",
    "start_station_df = start_station_df.merge(station[['station_name']], \n",
    "                                          how='inner', \n",
    "                                          left_on='start_station_id',\n",
    "                                          right_on='station_id')"
   ]
  },
  {
   "cell_type": "markdown",
   "metadata": {},
   "source": [
    "# Question 02: What is the most / least popular station?"
   ]
  },
  {
   "cell_type": "code",
   "execution_count": 23,
   "metadata": {},
   "outputs": [
    {
     "name": "stdout",
     "output_type": "stream",
     "text": [
      "The most popular start station: Pershing Square North (150,257 times)\n",
      "The most popular end station:   Pershing Square North (149,932 times)\n",
      "\n",
      "From Wiki: Pershing Square is a public square in Manhattan, New York City. \n",
      "Located where Park Avenue and 42nd Street intersect in front of Grand Central Terminal.\n",
      "The main roadway of Park Avenue crosses over 42nd Street on the Park Avenue Viaduct. \n",
      "It is also known as the Pershing Square Viaduct.\n"
     ]
    },
    {
     "data": {
      "text/html": [
       "<img src=\"https://upload.wikimedia.org/wikipedia/commons/thumb/a/a8/Park_Avenue_Viaduct_Pershing_Square_from_west.jpg/1920px-Park_Avenue_Viaduct_Pershing_Square_from_west.jpg\" width=\"400\" height=\"400\"/>"
      ],
      "text/plain": [
       "<IPython.core.display.Image object>"
      ]
     },
     "execution_count": 23,
     "metadata": {},
     "output_type": "execute_result"
    }
   ],
   "source": [
    "# Most busy start station\n",
    "# https://stackoverflow.com/q/29836477\n",
    "# http://pandas.pydata.org/pandas-docs/stable/reference/api/pandas.DataFrame.sort_values.html\n",
    "key = 'start_station_id'\n",
    "key = 'start_station_id'\n",
    "\n",
    "start_station_df = citibike.groupby(key)[key].count().reset_index(name='count')\n",
    "start_station_df.sort_values(by='count', ascending=False, inplace=True)\n",
    "\n",
    "# Getting the station name\n",
    "start_station_df = start_station_df.merge(station[['station_name']], \n",
    "                                          how='inner', \n",
    "                                          left_on='start_station_id',\n",
    "                                          right_on='station_id',\n",
    "                                          )\n",
    "\n",
    "# The most popular start stations award goes to...\n",
    "print('The most popular start station: ' + str(start_station_df.iloc[0][2]), end='')\n",
    "print(' ({:,} times)'.format(start_station_df.iloc[0][1]))\n",
    "\n",
    "# Most busy end station\n",
    "key = 'end_station_id'\n",
    "end_station_df = citibike.groupby(key)[key].count().reset_index(name='count')\n",
    "end_station_df.sort_values(by='count', ascending=False, inplace=True)\n",
    "\n",
    "# Getting the station name\n",
    "end_station_df = end_station_df.merge(station[['station_name']],\n",
    "                                      how='inner',\n",
    "                                      left_on='end_station_id',\n",
    "                                      right_on='station_id')\n",
    "\n",
    "print('The most popular end station:   ' + str(end_station_df.iloc[0][2]), end='')\n",
    "print(' ({:,} times)'.format(end_station_df.iloc[0][1]))\n",
    "\n",
    "# Some information about this station\n",
    "print('\\nFrom Wiki: Pershing Square is a public square in Manhattan, New York City. ')\n",
    "print('Located where Park Avenue and 42nd Street intersect in front of Grand Central Terminal.')\n",
    "print('The main roadway of Park Avenue crosses over 42nd Street on the Park Avenue Viaduct. ')\n",
    "print('It is also known as the Pershing Square Viaduct.')\n",
    "\n",
    "Image(url=\"https://upload.wikimedia.org/wikipedia/commons/thumb/a/a8/Park_Avenue_Viaduct_Pershing_Square_from_west.jpg/1920px-Park_Avenue_Viaduct_Pershing_Square_from_west.jpg\",\n",
    "      width=400, \n",
    "      height=400)\n",
    "\n",
    "\n",
    "# Top 10 one way direction...\n",
    "# Chart Annual rider vs. Weekly rider vs. Single rider"
   ]
  },
  {
   "cell_type": "code",
   "execution_count": 24,
   "metadata": {},
   "outputs": [
    {
     "name": "stdout",
     "output_type": "stream",
     "text": [
      "Top 10 popular start station\n"
     ]
    },
    {
     "data": {
      "text/html": [
       "<div>\n",
       "<style scoped>\n",
       "    .dataframe tbody tr th:only-of-type {\n",
       "        vertical-align: middle;\n",
       "    }\n",
       "\n",
       "    .dataframe tbody tr th {\n",
       "        vertical-align: top;\n",
       "    }\n",
       "\n",
       "    .dataframe thead th {\n",
       "        text-align: right;\n",
       "    }\n",
       "</style>\n",
       "<table border=\"1\" class=\"dataframe\">\n",
       "  <thead>\n",
       "    <tr style=\"text-align: right;\">\n",
       "      <th></th>\n",
       "      <th>start_station_id</th>\n",
       "      <th>count</th>\n",
       "      <th>station_name</th>\n",
       "    </tr>\n",
       "  </thead>\n",
       "  <tbody>\n",
       "    <tr>\n",
       "      <th>0</th>\n",
       "      <td>519</td>\n",
       "      <td>150257</td>\n",
       "      <td>Pershing Square North</td>\n",
       "    </tr>\n",
       "    <tr>\n",
       "      <th>1</th>\n",
       "      <td>497</td>\n",
       "      <td>108883</td>\n",
       "      <td>E 17 St &amp; Broadway</td>\n",
       "    </tr>\n",
       "    <tr>\n",
       "      <th>2</th>\n",
       "      <td>435</td>\n",
       "      <td>107165</td>\n",
       "      <td>W 21 St &amp; 6 Ave</td>\n",
       "    </tr>\n",
       "    <tr>\n",
       "      <th>3</th>\n",
       "      <td>402</td>\n",
       "      <td>105605</td>\n",
       "      <td>Broadway &amp; E 22 St</td>\n",
       "    </tr>\n",
       "    <tr>\n",
       "      <th>4</th>\n",
       "      <td>426</td>\n",
       "      <td>94466</td>\n",
       "      <td>West St &amp; Chambers St</td>\n",
       "    </tr>\n",
       "    <tr>\n",
       "      <th>5</th>\n",
       "      <td>285</td>\n",
       "      <td>93370</td>\n",
       "      <td>Broadway &amp; E 14 St</td>\n",
       "    </tr>\n",
       "    <tr>\n",
       "      <th>6</th>\n",
       "      <td>477</td>\n",
       "      <td>87956</td>\n",
       "      <td>W 41 St &amp; 8 Ave</td>\n",
       "    </tr>\n",
       "    <tr>\n",
       "      <th>7</th>\n",
       "      <td>490</td>\n",
       "      <td>85293</td>\n",
       "      <td>8 Ave &amp; W 33 St</td>\n",
       "    </tr>\n",
       "    <tr>\n",
       "      <th>8</th>\n",
       "      <td>499</td>\n",
       "      <td>84963</td>\n",
       "      <td>Broadway &amp; W 60 St</td>\n",
       "    </tr>\n",
       "    <tr>\n",
       "      <th>9</th>\n",
       "      <td>293</td>\n",
       "      <td>83025</td>\n",
       "      <td>Lafayette St &amp; E 8 St</td>\n",
       "    </tr>\n",
       "  </tbody>\n",
       "</table>\n",
       "</div>"
      ],
      "text/plain": [
       "   start_station_id   count           station_name\n",
       "0               519  150257  Pershing Square North\n",
       "1               497  108883     E 17 St & Broadway\n",
       "2               435  107165        W 21 St & 6 Ave\n",
       "3               402  105605     Broadway & E 22 St\n",
       "4               426   94466  West St & Chambers St\n",
       "5               285   93370     Broadway & E 14 St\n",
       "6               477   87956        W 41 St & 8 Ave\n",
       "7               490   85293        8 Ave & W 33 St\n",
       "8               499   84963     Broadway & W 60 St\n",
       "9               293   83025  Lafayette St & E 8 St"
      ]
     },
     "execution_count": 24,
     "metadata": {},
     "output_type": "execute_result"
    }
   ],
   "source": [
    "# Top 10 popular start stations\n",
    "print('Top 10 popular start station')\n",
    "start_station_df.head(10)"
   ]
  },
  {
   "cell_type": "code",
   "execution_count": 25,
   "metadata": {},
   "outputs": [],
   "source": [
    "# Release memory\n",
    "start_station_df = None\n",
    "end_station_df = None"
   ]
  },
  {
   "cell_type": "code",
   "execution_count": 72,
   "metadata": {},
   "outputs": [],
   "source": [
    "# https://stackoverflow.com/q/54009788\n",
    "# This analysis exclude the trip where they start and end at the same station\n",
    "# Because it is actually central park, I am guessing for tourist?\n",
    "\n",
    "# Do not want the trip start and end at the same place\n",
    "citibike_trip = citibike[citibike['start_station_id'] != citibike['end_station_id']]\n",
    "\n",
    "# Create a subset dataframe with only start & end station name\n",
    "citibike_trip = citibike_trip.filter(['start_station_id', 'end_station_id'])\n",
    "\n",
    "# Create the trip string\n",
    "citibike_trip['trip'] = citibike_trip['start_station_id'].astype(str) + ',' + citibike_trip['end_station_id'].astype(str)\n",
    "\n",
    "# Group by trip and add count column\n",
    "trip_df = citibike_trip.groupby('trip')['trip'].count().reset_index(name='count')\n",
    "trip_df.sort_values(by='count', ascending=False, inplace=True)"
   ]
  },
  {
   "cell_type": "code",
   "execution_count": 73,
   "metadata": {},
   "outputs": [],
   "source": [
    "top_5000_trips = trip_df.iloc[0:5000, :]\n",
    "one_off_trip = trip_df[trip_df['count'] == 1]"
   ]
  },
  {
   "cell_type": "code",
   "execution_count": 74,
   "metadata": {},
   "outputs": [
    {
     "data": {
      "text/html": [
       "<div>\n",
       "<style scoped>\n",
       "    .dataframe tbody tr th:only-of-type {\n",
       "        vertical-align: middle;\n",
       "    }\n",
       "\n",
       "    .dataframe tbody tr th {\n",
       "        vertical-align: top;\n",
       "    }\n",
       "\n",
       "    .dataframe thead th {\n",
       "        text-align: right;\n",
       "    }\n",
       "</style>\n",
       "<table border=\"1\" class=\"dataframe\">\n",
       "  <thead>\n",
       "    <tr style=\"text-align: right;\">\n",
       "      <th></th>\n",
       "      <th>trip</th>\n",
       "      <th>count</th>\n",
       "      <th>start_id</th>\n",
       "    </tr>\n",
       "  </thead>\n",
       "  <tbody>\n",
       "    <tr>\n",
       "      <th>290346</th>\n",
       "      <td>432,3263</td>\n",
       "      <td>7249</td>\n",
       "      <td>[432, 3263]</td>\n",
       "    </tr>\n",
       "    <tr>\n",
       "      <th>12088</th>\n",
       "      <td>2006,3282</td>\n",
       "      <td>6215</td>\n",
       "      <td>[2006, 3282]</td>\n",
       "    </tr>\n",
       "    <tr>\n",
       "      <th>303605</th>\n",
       "      <td>460,3093</td>\n",
       "      <td>5456</td>\n",
       "      <td>[460, 3093]</td>\n",
       "    </tr>\n",
       "    <tr>\n",
       "      <th>68964</th>\n",
       "      <td>3093,460</td>\n",
       "      <td>5137</td>\n",
       "      <td>[3093, 460]</td>\n",
       "    </tr>\n",
       "    <tr>\n",
       "      <th>291936</th>\n",
       "      <td>435,509</td>\n",
       "      <td>4996</td>\n",
       "      <td>[435, 509]</td>\n",
       "    </tr>\n",
       "  </tbody>\n",
       "</table>\n",
       "</div>"
      ],
      "text/plain": [
       "             trip  count      start_id\n",
       "290346   432,3263   7249   [432, 3263]\n",
       "12088   2006,3282   6215  [2006, 3282]\n",
       "303605   460,3093   5456   [460, 3093]\n",
       "68964    3093,460   5137   [3093, 460]\n",
       "291936    435,509   4996    [435, 509]"
      ]
     },
     "execution_count": 74,
     "metadata": {},
     "output_type": "execute_result"
    }
   ],
   "source": [
    "# Sample the top 100 trips\n",
    "top_100_trips.head(5)"
   ]
  },
  {
   "cell_type": "code",
   "execution_count": 75,
   "metadata": {},
   "outputs": [],
   "source": [
    "citibike_trip = None\n",
    "trip_df = None"
   ]
  },
  {
   "cell_type": "code",
   "execution_count": 76,
   "metadata": {},
   "outputs": [
    {
     "name": "stdout",
     "output_type": "stream",
     "text": [
      "ID: 432 , 3263\n",
      "In 2018:The most popular ride is : E 7 St & Avenue A to Cooper Square & Astor Pl (7249 times)\n"
     ]
    },
    {
     "data": {
      "text/html": [
       "<img src=\"https://i.ibb.co/J72SggW/map1.png\" width=\"600\" height=\"600\"/>"
      ],
      "text/plain": [
       "<IPython.core.display.Image object>"
      ]
     },
     "execution_count": 76,
     "metadata": {},
     "output_type": "execute_result"
    }
   ],
   "source": [
    "# Print out the result\n",
    "start_id = int(top_100_trips.iloc[0, :][0].split(',')[0])\n",
    "end_id = int(top_100_trips.iloc[0, :][0].split(',')[1])\n",
    "\n",
    "print('ID:', start_id, ',', end_id)\n",
    "start_name = station.loc[start_id]['station_name']\n",
    "end_name = station.loc[end_id]['station_name']\n",
    "trip_string = start_name + ' to ' + end_name\n",
    "\n",
    "print('In 2018:', end='')\n",
    "print('The most popular ride is : ' + trip_string, end='')\n",
    "print(' ({} times)'.format(top_100_trips.iloc[0][1]))\n",
    "\n",
    "# How to insert an image: https://stackoverflow.com/a/32370538\n",
    "Image(url=\"https://i.ibb.co/J72SggW/map1.png\",\n",
    "      width=600, \n",
    "      height=600)"
   ]
  },
  {
   "cell_type": "markdown",
   "metadata": {},
   "source": [
    "## There are many 1 off trips (not meaningful to say least popular)"
   ]
  },
  {
   "cell_type": "code",
   "execution_count": 77,
   "metadata": {
    "scrolled": true
   },
   "outputs": [
    {
     "name": "stdout",
     "output_type": "stream",
     "text": [
      "There are 64,757 count of one-off trips.\n"
     ]
    }
   ],
   "source": [
    "count = one_off_trip.shape[0]\n",
    "\n",
    "# These are station to station ride that only happened once\n",
    "print('There are {0:,} count of one-off trips.'.format(count))"
   ]
  },
  {
   "cell_type": "markdown",
   "metadata": {},
   "source": [
    "# What are the type of membership (Annual members or paid per ride?)"
   ]
  },
  {
   "cell_type": "code",
   "execution_count": 78,
   "metadata": {},
   "outputs": [
    {
     "data": {
      "text/html": [
       "<div>\n",
       "<style scoped>\n",
       "    .dataframe tbody tr th:only-of-type {\n",
       "        vertical-align: middle;\n",
       "    }\n",
       "\n",
       "    .dataframe tbody tr th {\n",
       "        vertical-align: top;\n",
       "    }\n",
       "\n",
       "    .dataframe thead th {\n",
       "        text-align: right;\n",
       "    }\n",
       "</style>\n",
       "<table border=\"1\" class=\"dataframe\">\n",
       "  <thead>\n",
       "    <tr style=\"text-align: right;\">\n",
       "      <th></th>\n",
       "      <th>count</th>\n",
       "    </tr>\n",
       "    <tr>\n",
       "      <th>usertype</th>\n",
       "      <th></th>\n",
       "    </tr>\n",
       "  </thead>\n",
       "  <tbody>\n",
       "    <tr>\n",
       "      <th>Customer</th>\n",
       "      <td>1932472</td>\n",
       "    </tr>\n",
       "    <tr>\n",
       "      <th>Subscriber</th>\n",
       "      <td>15613370</td>\n",
       "    </tr>\n",
       "  </tbody>\n",
       "</table>\n",
       "</div>"
      ],
      "text/plain": [
       "               count\n",
       "usertype            \n",
       "Customer     1932472\n",
       "Subscriber  15613370"
      ]
     },
     "execution_count": 78,
     "metadata": {},
     "output_type": "execute_result"
    }
   ],
   "source": [
    "# This is george's another way of getting the count and making it \n",
    "# back to a DataFrame, after reading the book a bunch.\n",
    "membership = citibike.groupby('usertype')['usertype'].count()\n",
    "\n",
    "# In order to use pd.plot, but maybe you use can it as is?\n",
    "membership = pd.DataFrame(membership)\n",
    "membership.rename(columns={'usertype': 'count'})\n",
    "\n",
    "# count = list(membership)\n",
    "# label = list(membership.index)"
   ]
  },
  {
   "cell_type": "code",
   "execution_count": 79,
   "metadata": {},
   "outputs": [
    {
     "data": {
      "text/plain": [
       "<matplotlib.axes._subplots.AxesSubplot at 0x20265e668>"
      ]
     },
     "execution_count": 79,
     "metadata": {},
     "output_type": "execute_result"
    },
    {
     "data": {
      "image/png": "[encoded data removed]",
      "text/plain": [
       "<Figure size 720x720 with 1 Axes>"
      ]
     },
     "metadata": {
      "needs_background": "light"
     },
     "output_type": "display_data"
    }
   ],
   "source": [
    "# Reference: https://markhneedham.com/blog/2018/09/18/matplotlib-remove-axis-legend/\n",
    "membership.plot(\n",
    "    figsize=(10,10),\n",
    "    title='2018 Citibike Rider Membership Data', \n",
    "    fontsize=14,\n",
    "    kind='bar',\n",
    "    rot=0,\n",
    "    legend=None,\n",
    "    color='k',\n",
    "    alpha=0.7,\n",
    "    )"
   ]
  },
  {
   "cell_type": "code",
   "execution_count": 80,
   "metadata": {},
   "outputs": [],
   "source": [
    "gender_df = citibike.groupby('gender')['gender'].count()\n",
    "gender_df = gender_df.reset_index(name='count')\n",
    "gender_df = gender_df.set_index(['gender'])\n",
    "\n",
    "# Set the index so it will print properly\n",
    "gender_df.rename(index={0: 'Unknown', \n",
    "                        1: 'Male',\n",
    "                        2: 'Female'}, \n",
    "                        inplace=True)"
   ]
  },
  {
   "cell_type": "code",
   "execution_count": 81,
   "metadata": {},
   "outputs": [
    {
     "data": {
      "text/plain": [
       "<matplotlib.axes._subplots.AxesSubplot at 0x2022e34a8>"
      ]
     },
     "execution_count": 81,
     "metadata": {},
     "output_type": "execute_result"
    },
    {
     "data": {
      "image/png": "[encoded data removed]",
      "text/plain": [
       "<Figure size 720x720 with 1 Axes>"
      ]
     },
     "metadata": {
      "needs_background": "light"
     },
     "output_type": "display_data"
    }
   ],
   "source": [
    "# Reference: https://markhneedham.com/blog/2018/09/18/matplotlib-remove-axis-legend/\n",
    "gender_df.plot(\n",
    "    figsize=(10,10),\n",
    "    title='2018 Citibike Rider Gender',\n",
    "    fontsize=14,\n",
    "    kind='bar',\n",
    "    rot=0,\n",
    "    legend=None,\n",
    "    color='k',\n",
    "    alpha=0.7\n",
    ")"
   ]
  },
  {
   "cell_type": "code",
   "execution_count": 82,
   "metadata": {},
   "outputs": [],
   "source": [
    "# Age Group\n",
    "# https://stackoverflow.com/a/34683105\n",
    "age_df = citibike[['birth_year']].copy()\n",
    "\n",
    "# Replace the column names\n",
    "# age_df.columns = age_df.columns.str.strip().str.lower().str.replace(' ', '_')\n",
    "\n",
    "# Failed attempt...\n",
    "# age_df['age'] = age_df.apply(lambda row: row['birth_year'])\n",
    "\n",
    "# Citibike appears to place 50 as dummy value, and 49 might also\n",
    "# but a dummy value - to be confirmed.\n",
    "def get_age(year_of_birth):\n",
    "    result = 2019 - int(year_of_birth)\n",
    "    if result >= 0 and result <=80 and result != 50:\n",
    "        return result\n",
    "    else:\n",
    "        return -1\n",
    "\n",
    "# Calculate a new column by using vectorize method\n",
    "age_df['age'] = np.vectorize(get_age)(age_df['birth_year'])\n",
    "\n",
    "age_df = age_df[age_df['age'] != -1]\n",
    "\n",
    "age_plot_df = age_df.groupby('age')['age'].count()\n",
    "age_plot_df = age_plot_df.reset_index(name = 'count')\n",
    "age_plot_df = age_plot_df.set_index(['age'])"
   ]
  },
  {
   "cell_type": "code",
   "execution_count": 83,
   "metadata": {},
   "outputs": [
    {
     "data": {
      "text/plain": [
       "<matplotlib.axes._subplots.AxesSubplot at 0x2020a11d0>"
      ]
     },
     "execution_count": 83,
     "metadata": {},
     "output_type": "execute_result"
    },
    {
     "data": {
      "image/png": "[encoded data removed]",
      "text/plain": [
       "<Figure size 1440x720 with 1 Axes>"
      ]
     },
     "metadata": {
      "needs_background": "light"
     },
     "output_type": "display_data"
    }
   ],
   "source": [
    "age_plot_df.plot(\n",
    "    figsize=(20,10), \n",
    "    title='2018 Citibike Rider Age', \n",
    "    fontsize=14,\n",
    "    kind='bar',\n",
    "    rot=0,\n",
    "    legend=None,\n",
    "    color='k',\n",
    "    alpha=0.7\n",
    ")"
   ]
  },
  {
   "cell_type": "code",
   "execution_count": 84,
   "metadata": {},
   "outputs": [
    {
     "data": {
      "text/plain": [
       "<matplotlib.axes._subplots.AxesSubplot at 0x1f7981828>"
      ]
     },
     "execution_count": 84,
     "metadata": {},
     "output_type": "execute_result"
    },
    {
     "data": {
      "image/png": "[encoded data removed]",
      "text/plain": [
       "<Figure size 1440x720 with 1 Axes>"
      ]
     },
     "metadata": {
      "needs_background": "light"
     },
     "output_type": "display_data"
    }
   ],
   "source": [
    "# bins = [0, 24, 59, 999]\n",
    "# labels = ['Student <=24','Adult','Senior Adult']\n",
    "\n",
    "bins=[0, 20, 30, 40, 50, 60, 100]\n",
    "labels=['10-20', '21-30', '31-40', '41-50', '51-60', '60 and Above']\n",
    "\n",
    "age_df['AgeGroup'] = pd.cut(age_df['age'], bins=bins, labels=labels, right=False)\n",
    "\n",
    "agegroup_plot_df = age_df.groupby('AgeGroup')['AgeGroup'].count()\n",
    "agegroup_plot_df = agegroup_plot_df.reset_index(name='count')\n",
    "agegroup_plot_df = agegroup_plot_df.set_index(['AgeGroup'])\n",
    "\n",
    "agegroup_plot_df.plot(\n",
    "    figsize=(20,10), \n",
    "    title='2018 Citibike Rider Age Group', \n",
    "    fontsize=14,\n",
    "    kind='bar',\n",
    "    rot=0,\n",
    "    legend=None,\n",
    "    color='k',\n",
    "    alpha=0.7\n",
    ")"
   ]
  },
  {
   "cell_type": "code",
   "execution_count": 85,
   "metadata": {},
   "outputs": [
    {
     "name": "stdout",
     "output_type": "stream",
     "text": [
      "Result: 0.21796866823983926\n"
     ]
    }
   ],
   "source": [
    "# https://stackoverflow.com/a/43211266\n",
    "from math import sin, cos, sqrt, atan2, radians\n",
    "\n",
    "def get_distance(lat1, lon1, lat2, lon2):\n",
    "    # approximate radius of earth in miles \n",
    "    R = 3958.8\n",
    "\n",
    "    lat1 = radians(lat1)\n",
    "    lon1 = radians(lon1)\n",
    "    lat2 = radians(lat2)\n",
    "    lon2 = radians(lon2)\n",
    "\n",
    "    dlon = lon2 - lon1\n",
    "    dlat = lat2 - lat1\n",
    "\n",
    "    a = sin(dlat / 2)**2 + cos(lat1) * cos(lat2) * sin(dlon / 2)**2\n",
    "    c = 2 * atan2(sqrt(a), sqrt(1 - a))\n",
    "\n",
    "    distance = R * c\n",
    "    return distance\n",
    "\n",
    "def get_duration(datetime1, datetime2):\n",
    "    # https://stackoverflow.com/a/14920923\n",
    "    duration = datetime2 - datetime1\n",
    "    return duration.total_seconds()\n",
    "    \n",
    "def get_speed(distance, duration):\n",
    "    hour = 60.0 * 60.0 * 60.0 / (seconds)\n",
    "    \n",
    "    # return distance per hour\n",
    "    return (distance/hour)\n",
    "\n",
    "ans = get_distance(40.729538, -73.984267, 40.736197, -74.008592)\n",
    "ans = get_distance(40.730260, -73.953940, 40.729060, -73.957790)\n",
    "\n",
    "print(\"Result:\", ans)"
   ]
  },
  {
   "cell_type": "code",
   "execution_count": 116,
   "metadata": {},
   "outputs": [],
   "source": [
    "import numpy as np\n",
    "\n",
    "df = citibike.sample(frac=0.1, replace=True, random_state=1)"
   ]
  },
  {
   "cell_type": "code",
   "execution_count": 117,
   "metadata": {},
   "outputs": [],
   "source": [
    "df = df.merge(station, how='inner',\n",
    "         left_on='start_station_id',\n",
    "         right_on='station_id')"
   ]
  },
  {
   "cell_type": "code",
   "execution_count": 118,
   "metadata": {},
   "outputs": [],
   "source": [
    "df = df.rename(columns={'station_latitude': 'start_station_latitude',\n",
    "                        'station_longitude': 'start_station_longitude',\n",
    "                        'station_name': 'start_station_name'})"
   ]
  },
  {
   "cell_type": "code",
   "execution_count": 119,
   "metadata": {},
   "outputs": [],
   "source": [
    "df = df.merge(station, how='inner',\n",
    "         left_on='end_station_id',\n",
    "         right_on='station_id')"
   ]
  },
  {
   "cell_type": "code",
   "execution_count": 120,
   "metadata": {},
   "outputs": [],
   "source": [
    "df = df.rename(columns={'station_latitude': 'end_station_latitude',\n",
    "                        'station_longitude': 'end_station_longitude',\n",
    "                        'station_name': 'end_station_name'})"
   ]
  },
  {
   "cell_type": "code",
   "execution_count": 121,
   "metadata": {
    "scrolled": true
   },
   "outputs": [],
   "source": [
    "# Vectorize: https://stackoverflow.com/q/19914937\n",
    "# start station latitude, start station longitude\n",
    "df['distance'] = np.vectorize(get_distance)(df['start_station_latitude'],\n",
    "                                     df['start_station_longitude'],\n",
    "                                     df['end_station_latitude'],\n",
    "                                     df['end_station_longitude'])\n",
    "\n",
    "\n",
    "\n",
    "# df['duration'] = np.vectorize(get_duration)(df['starttime'], df['stoptime'])\n",
    "# df['C'] = (df['B'] - df['A'])/ np.timedelta64(1, 's')\n",
    "df['duration'] = (df['stoptime'] - df['starttime']) / np.timedelta64(1, 's')\n",
    "\n",
    "df['speed'] = (df['distance'] / ((60.0 * 60.0) / df['duration']))\n",
    "\n",
    "# citibike_trip = citibike[citibike['start station name'] != citibike['end station name']]\n",
    "commute_trip = df[df['start_station_name'] != df['end_station_name']]\n",
    "\n",
    "# Limit the ride that is slower than walking and within reason\n",
    "commute_trip = commute_trip[(commute_trip['speed'] >= 3.5)\n",
    "                            & (commute_trip['speed'] <= 25)]\n",
    "\n",
    "# commute_trip = commute_trip[commute_trip['birth year'] >= 1989]\n",
    "\n",
    "'''\n",
    "Speeds above 16 mph are considered very vigorous while riding a bicycle. \n",
    "A light pace would be 10 to 11.9 mph while a moderate pace is categorized as 12 to 13.9 mph. \n",
    "If you are a beginner, start at a light or moderate pace and ride at speeds between 10 and 14 mph.\n",
    "'''\n",
    "\n",
    "speed_bins = [0, 9, 12, 15, 99]\n",
    "speed_labels = ['Leisurely (< 9 MPH)', 'Fast MPH (9 - 11.9 MPH)', 'Moderate (12 - 14.9 MPH)', 'Vigorous (15 MPH+)']\n",
    "\n",
    "commute_trip['SpeedGroup'] = pd.cut(commute_trip['speed'], bins=speed_bins, labels=speed_labels, right=False)"
   ]
  },
  {
   "cell_type": "code",
   "execution_count": 131,
   "metadata": {},
   "outputs": [
    {
     "data": {
      "text/plain": [
       "<matplotlib.axes._subplots.AxesSubplot at 0x15697ef28>"
      ]
     },
     "execution_count": 131,
     "metadata": {},
     "output_type": "execute_result"
    },
    {
     "data": {
      "image/png": "[encoded data removed]",
      "text/plain": [
       "<Figure size 1440x720 with 1 Axes>"
      ]
     },
     "metadata": {
      "needs_background": "light"
     },
     "output_type": "display_data"
    }
   ],
   "source": [
    "commute_trip_plot = commute_trip.groupby('SpeedGroup')['SpeedGroup'].count()\n",
    "commute_trip_plot = commute_trip_plot.reset_index(name = 'count')\n",
    "commute_trip_plot = commute_trip_plot.set_index(['SpeedGroup'])\n",
    "\n",
    "commute_trip_plot.plot(\n",
    "    figsize=(20,10), \n",
    "    title='2018 Citibike Commuter Speed', \n",
    "    kind='bar',\n",
    "    rot=0,\n",
    "    legend=None,\n",
    "    color='k',\n",
    "    alpha=0.7\n",
    ")"
   ]
  },
  {
   "cell_type": "code",
   "execution_count": 126,
   "metadata": {},
   "outputs": [
    {
     "data": {
      "text/plain": [
       "count    1.646802e+06\n",
       "mean     1.113790e+00\n",
       "std      8.922219e-01\n",
       "min      0.000000e+00\n",
       "25%      5.138915e-01\n",
       "50%      8.534787e-01\n",
       "75%      1.439003e+00\n",
       "max      1.053291e+01\n",
       "Name: distance, dtype: float64"
      ]
     },
     "execution_count": 126,
     "metadata": {},
     "output_type": "execute_result"
    }
   ],
   "source": [
    "# Distance Histogram\n",
    "df['distance'].describe()"
   ]
  },
  {
   "cell_type": "code",
   "execution_count": 127,
   "metadata": {},
   "outputs": [
    {
     "data": {
      "text/plain": [
       "array([ 0.        ,  0.2244898 ,  0.44897959,  0.67346939,  0.89795918,\n",
       "        1.12244898,  1.34693878,  1.57142857,  1.79591837,  2.02040816,\n",
       "        2.24489796,  2.46938776,  2.69387755,  2.91836735,  3.14285714,\n",
       "        3.36734694,  3.59183673,  3.81632653,  4.04081633,  4.26530612,\n",
       "        4.48979592,  4.71428571,  4.93877551,  5.16326531,  5.3877551 ,\n",
       "        5.6122449 ,  5.83673469,  6.06122449,  6.28571429,  6.51020408,\n",
       "        6.73469388,  6.95918367,  7.18367347,  7.40816327,  7.63265306,\n",
       "        7.85714286,  8.08163265,  8.30612245,  8.53061224,  8.75510204,\n",
       "        8.97959184,  9.20408163,  9.42857143,  9.65306122,  9.87755102,\n",
       "       10.10204082, 10.32653061, 10.55102041, 10.7755102 , 11.        ])"
      ]
     },
     "execution_count": 127,
     "metadata": {},
     "output_type": "execute_result"
    }
   ],
   "source": [
    "dist_bins = np.linspace(start=0., stop=11., num=50)\n",
    "dist_bins"
   ]
  },
  {
   "cell_type": "code",
   "execution_count": 133,
   "metadata": {
    "scrolled": true
   },
   "outputs": [
    {
     "data": {
      "text/plain": [
       "<matplotlib.axes._subplots.AxesSubplot at 0x15639cbe0>"
      ]
     },
     "execution_count": 133,
     "metadata": {},
     "output_type": "execute_result"
    },
    {
     "data": {
      "image/png": "[encoded data removed]",
      "text/plain": [
       "<Figure size 432x288 with 1 Axes>"
      ]
     },
     "metadata": {
      "needs_background": "light"
     },
     "output_type": "display_data"
    }
   ],
   "source": [
    "fig = plt.figure()\n",
    "ax = fig.add_subplot(1, 1, 1)\n",
    "\n",
    "props = {\n",
    "    'title': 'Trip Distance Histogram',\n",
    "    'xlabel': 'Distances in miles',\n",
    "    'ylabel': 'Count of trips'\n",
    "}\n",
    "\n",
    "ax.set(**props)\n",
    "df.distance.hist(ax=ax,\n",
    "                 bins=dist_bins,\n",
    "                 color='k',\n",
    "                 alpha=0.7)"
   ]
  }
 ],
 "metadata": {
  "kernelspec": {
   "display_name": "Python 3",
   "language": "python",
   "name": "python3"
  },
  "language_info": {
   "codemirror_mode": {
    "name": "ipython",
    "version": 3
   },
   "file_extension": ".py",
   "mimetype": "text/x-python",
   "name": "python",
   "nbconvert_exporter": "python",
   "pygments_lexer": "ipython3",
   "version": "3.7.3"
  }
 },
 "nbformat": 4,
 "nbformat_minor": 2
}
