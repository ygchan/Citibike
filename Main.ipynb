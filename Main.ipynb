{
 "cells": [
  {
   "cell_type": "code",
   "execution_count": 1,
   "metadata": {},
   "outputs": [],
   "source": [
    "# Citibike 2019 project, analyzing 2018 date of service trip data\n",
    "# Author: George Chan, Sean Guo"
   ]
  },
  {
   "cell_type": "code",
   "execution_count": 2,
   "metadata": {},
   "outputs": [],
   "source": [
    "# Import library and modules\n",
    "import pandas as pd\n",
    "import glob\n",
    "import numpy as np\n",
    "import os\n",
    "import pprint\n",
    "import pickle\n",
    "import logging\n",
    "\n",
    "# Display imagine in jupyter notebook\n",
    "from IPython.display import Image\n",
    "from IPython.core.display import HTML \n",
    "\n",
    "# Setup the graph's style\n",
    "import matplotlib.pyplot as plt\n",
    "plt.style.use('ggplot')\n",
    "\n",
    "from datetime import timedelta\n",
    "\n",
    "logging.basicConfig(level=logging.DEBUG,\n",
    "                    format='%(levelname)s - %(message)s')\n",
    "\n",
    "logging.disable()"
   ]
  },
  {
   "cell_type": "code",
   "execution_count": 3,
   "metadata": {},
   "outputs": [],
   "source": [
    "# Define where are the citibke 2018 zipfiles\n",
    "data_folder = r'./Data/'\n",
    "logging.debug('The data are stored in: ' + data_folder)\n",
    "\n",
    "# this is for push test\n",
    "# this is another push test"
   ]
  },
  {
   "cell_type": "code",
   "execution_count": 4,
   "metadata": {},
   "outputs": [
    {
     "name": "stdout",
     "output_type": "stream",
     "text": [
      "Here are the list of csv zip files you have downloaded.\n",
      "\n",
      "/Users/Study/Citibike_Git/Citibike/Data\n",
      "   01: 201809-citibike-tripdata.csv\n",
      "   02: 201801-citibike-tripdata.csv\n",
      "   03: 201803-citibike-tripdata.csv\n",
      "   04: 201805-citibike-tripdata.csv\n",
      "   05: 201807-citibike-tripdata.csv\n",
      "   06: 201811-citibike-tripdata.csv\n",
      "   07: 201808-citibike-tripdata.csv\n",
      "   08: 201802-citibike-tripdata.csv\n",
      "   09: 201812-citibike-tripdata.csv\n",
      "   10: 201804-citibike-tripdata.csv\n",
      "   11: 201810-citibike-tripdata.csv\n",
      "   12: 201806-citibike-tripdata.csv\n"
     ]
    }
   ],
   "source": [
    "# Check what are the files in that folder\n",
    "for folderName, subfolders, filenames in os.walk(data_folder):\n",
    "    print('Here are the list of csv zip files you have downloaded.\\n')\n",
    "    print(os.path.abspath(folderName))\n",
    "    \n",
    "    number_of_csv_file = 0 # Total count of files read\n",
    "    all_files = []         # List of file path string\n",
    "    \n",
    "    for filename in filenames:\n",
    "        # If and only if they are csv files\n",
    "        if filename.endswith('.csv'):\n",
    "            number_of_csv_file += 1\n",
    "            \n",
    "            # Print to terminal to show user what files is found\n",
    "            print('   ' + str(number_of_csv_file).zfill(2) + ': ' + filename)\n",
    "            all_files.append(data_folder + filename)\n",
    "            \n",
    "    # Error if you forgot to download all 12 months.\n",
    "    # For our project we want exactly 12 file\n",
    "    assert number_of_csv_file == 12, 'Sorry, I think you are missing some files?'"
   ]
  },
  {
   "cell_type": "code",
   "execution_count": 5,
   "metadata": {},
   "outputs": [],
   "source": [
    "# tempCitibike list that store the file data frame\n",
    "tempCitibike = []\n",
    "\n",
    "# Track how many records total\n",
    "totalRecordCount = 0\n",
    "\n",
    "pickle_storage = 'citibike2018.pkl'\n",
    "\n",
    "# If the file was properly loaded last time, re-use that dataframe\n",
    "if (os.path.exists(pickle_storage)):\n",
    "    citibike = pd.read_pickle(pickle_storage)\n",
    "\n",
    "# Otherwise Load it from scratch\n",
    "else:\n",
    "    # Loop and append the dataframes into tempCitibke List\n",
    "    for filename in sorted(all_files):\n",
    "        # Filename is the path/file.ext\n",
    "        print(os.path.basename(filename), end=\" \")\n",
    "\n",
    "        # df contains the entire dataset (CSV)\n",
    "        df = pd.read_csv(filename) \n",
    "\n",
    "        # How to filter by values\n",
    "        # https://stackoverflow.com/q/17071871\n",
    "\n",
    "        # Experiment to see if only using annual membership will show a different\n",
    "        # df = df.loc[df['usertype'] == 'Subscriber']\n",
    "\n",
    "        # Because of limited computer resource (4GB of RAM...)\n",
    "        # Radnomly select 25% of the data, with random_state = 1\n",
    "        df = df.sample(frac=0.25, replace=True, random_state=1)\n",
    "\n",
    "        # Output the (rowCount, columnCount) to terminal\n",
    "        print(\"size: \" + str(df.shape))\n",
    "\n",
    "        totalRecordCount += df.shape[0]\n",
    "        tempCitibike.append(df)\n",
    "\n",
    "    # Combine the tempCitibike dfs together\n",
    "    citibike = pd.concat(tempCitibike)\n",
    "    print(\"\\nThere are {0:,}  number of records.\".format(totalRecordCount))\n",
    "    print(\"Before dropping NaN: {:,}\".format(citibike.shape[0]))\n",
    "\n",
    "    # Drop rows with any (missing) variables\n",
    "    # Improve performance by not using inplace option\n",
    "    # Reference: https://stackoverflow.com/q/22532302\n",
    "    citibike = citibike.dropna()\n",
    "\n",
    "    print(\"After dropping NaN: {:,}\".format(citibike.shape[0]))\n",
    "    \n",
    "    # Store the citibike dataframe into a pickle object for future reference\n",
    "    # This can save time from re-running the entire 17M records.\n",
    "    citibike.to_pickle('citibike2018.pkl')\n",
    "    \n",
    "# Release the memory\n",
    "tempCitibike = []"
   ]
  },
  {
   "cell_type": "code",
   "execution_count": 6,
   "metadata": {
    "scrolled": true
   },
   "outputs": [
    {
     "name": "stdout",
     "output_type": "stream",
     "text": [
      "The new column names:\n",
      "[   'tripduration',\n",
      "    'starttime',\n",
      "    'stoptime',\n",
      "    'start_station_id',\n",
      "    'start_station_name',\n",
      "    'start_station_latitude',\n",
      "    'start_station_longitude',\n",
      "    'end_station_id',\n",
      "    'end_station_name',\n",
      "    'end_station_latitude',\n",
      "    'end_station_longitude',\n",
      "    'bikeid',\n",
      "    'usertype',\n",
      "    'birth_year',\n",
      "    'gender']\n"
     ]
    }
   ],
   "source": [
    "citibike.columns = citibike.columns.str.replace(' ', '_')\n",
    "\n",
    "pp = pprint.PrettyPrinter(indent=4)\n",
    "print('The new column names:')\n",
    "pp.pprint(list(citibike.columns))"
   ]
  },
  {
   "cell_type": "code",
   "execution_count": 7,
   "metadata": {
    "scrolled": true
   },
   "outputs": [
    {
     "data": {
      "text/html": [
       "<div>\n",
       "<style scoped>\n",
       "    .dataframe tbody tr th:only-of-type {\n",
       "        vertical-align: middle;\n",
       "    }\n",
       "\n",
       "    .dataframe tbody tr th {\n",
       "        vertical-align: top;\n",
       "    }\n",
       "\n",
       "    .dataframe thead th {\n",
       "        text-align: right;\n",
       "    }\n",
       "</style>\n",
       "<table border=\"1\" class=\"dataframe\">\n",
       "  <thead>\n",
       "    <tr style=\"text-align: right;\">\n",
       "      <th></th>\n",
       "      <th>tripduration</th>\n",
       "      <th>starttime</th>\n",
       "      <th>stoptime</th>\n",
       "      <th>start_station_id</th>\n",
       "      <th>start_station_name</th>\n",
       "      <th>start_station_latitude</th>\n",
       "      <th>start_station_longitude</th>\n",
       "      <th>end_station_id</th>\n",
       "      <th>end_station_name</th>\n",
       "      <th>end_station_latitude</th>\n",
       "      <th>end_station_longitude</th>\n",
       "      <th>bikeid</th>\n",
       "      <th>usertype</th>\n",
       "      <th>birth_year</th>\n",
       "      <th>gender</th>\n",
       "    </tr>\n",
       "  </thead>\n",
       "  <tbody>\n",
       "    <tr>\n",
       "      <th>267083</th>\n",
       "      <td>1920</td>\n",
       "      <td>2018-11-05 22:15:00.7750</td>\n",
       "      <td>2018-11-05 22:47:01.6220</td>\n",
       "      <td>3160.0</td>\n",
       "      <td>Central Park West &amp; W 76 St</td>\n",
       "      <td>40.778968</td>\n",
       "      <td>-73.973747</td>\n",
       "      <td>3350.0</td>\n",
       "      <td>W 100 St &amp; Broadway</td>\n",
       "      <td>40.797372</td>\n",
       "      <td>-73.970412</td>\n",
       "      <td>34719</td>\n",
       "      <td>Customer</td>\n",
       "      <td>2001</td>\n",
       "      <td>1</td>\n",
       "    </tr>\n",
       "    <tr>\n",
       "      <th>886083</th>\n",
       "      <td>283</td>\n",
       "      <td>2018-05-09 13:59:21.2640</td>\n",
       "      <td>2018-05-09 14:04:04.8940</td>\n",
       "      <td>499.0</td>\n",
       "      <td>Broadway &amp; W 60 St</td>\n",
       "      <td>40.769155</td>\n",
       "      <td>-73.981918</td>\n",
       "      <td>3159.0</td>\n",
       "      <td>W 67 St &amp; Broadway</td>\n",
       "      <td>40.774925</td>\n",
       "      <td>-73.982666</td>\n",
       "      <td>24971</td>\n",
       "      <td>Subscriber</td>\n",
       "      <td>1969</td>\n",
       "      <td>0</td>\n",
       "    </tr>\n",
       "    <tr>\n",
       "      <th>1673335</th>\n",
       "      <td>620</td>\n",
       "      <td>2018-10-28 16:47:24.0550</td>\n",
       "      <td>2018-10-28 16:57:45.0140</td>\n",
       "      <td>539.0</td>\n",
       "      <td>Metropolitan Ave &amp; Bedford Ave</td>\n",
       "      <td>40.715348</td>\n",
       "      <td>-73.960241</td>\n",
       "      <td>3116.0</td>\n",
       "      <td>Huron St &amp; Franklin St</td>\n",
       "      <td>40.732660</td>\n",
       "      <td>-73.958260</td>\n",
       "      <td>34992</td>\n",
       "      <td>Subscriber</td>\n",
       "      <td>1980</td>\n",
       "      <td>2</td>\n",
       "    </tr>\n",
       "    <tr>\n",
       "      <th>1219576</th>\n",
       "      <td>564</td>\n",
       "      <td>2018-11-30 07:43:53.1190</td>\n",
       "      <td>2018-11-30 07:53:17.4750</td>\n",
       "      <td>363.0</td>\n",
       "      <td>West Thames St</td>\n",
       "      <td>40.708347</td>\n",
       "      <td>-74.017134</td>\n",
       "      <td>351.0</td>\n",
       "      <td>Front St &amp; Maiden Ln</td>\n",
       "      <td>40.705310</td>\n",
       "      <td>-74.006126</td>\n",
       "      <td>30497</td>\n",
       "      <td>Subscriber</td>\n",
       "      <td>1968</td>\n",
       "      <td>1</td>\n",
       "    </tr>\n",
       "    <tr>\n",
       "      <th>820273</th>\n",
       "      <td>767</td>\n",
       "      <td>2018-09-14 19:51:29.6330</td>\n",
       "      <td>2018-09-14 20:04:16.7460</td>\n",
       "      <td>3660.0</td>\n",
       "      <td>W 16 St &amp; 8 Ave</td>\n",
       "      <td>40.741022</td>\n",
       "      <td>-74.001385</td>\n",
       "      <td>445.0</td>\n",
       "      <td>E 10 St &amp; Avenue A</td>\n",
       "      <td>40.727408</td>\n",
       "      <td>-73.981420</td>\n",
       "      <td>26787</td>\n",
       "      <td>Subscriber</td>\n",
       "      <td>1985</td>\n",
       "      <td>1</td>\n",
       "    </tr>\n",
       "  </tbody>\n",
       "</table>\n",
       "</div>"
      ],
      "text/plain": [
       "         tripduration                 starttime                  stoptime  \\\n",
       "267083           1920  2018-11-05 22:15:00.7750  2018-11-05 22:47:01.6220   \n",
       "886083            283  2018-05-09 13:59:21.2640  2018-05-09 14:04:04.8940   \n",
       "1673335           620  2018-10-28 16:47:24.0550  2018-10-28 16:57:45.0140   \n",
       "1219576           564  2018-11-30 07:43:53.1190  2018-11-30 07:53:17.4750   \n",
       "820273            767  2018-09-14 19:51:29.6330  2018-09-14 20:04:16.7460   \n",
       "\n",
       "         start_station_id              start_station_name  \\\n",
       "267083             3160.0     Central Park West & W 76 St   \n",
       "886083              499.0              Broadway & W 60 St   \n",
       "1673335             539.0  Metropolitan Ave & Bedford Ave   \n",
       "1219576             363.0                  West Thames St   \n",
       "820273             3660.0                 W 16 St & 8 Ave   \n",
       "\n",
       "         start_station_latitude  start_station_longitude  end_station_id  \\\n",
       "267083                40.778968               -73.973747          3350.0   \n",
       "886083                40.769155               -73.981918          3159.0   \n",
       "1673335               40.715348               -73.960241          3116.0   \n",
       "1219576               40.708347               -74.017134           351.0   \n",
       "820273                40.741022               -74.001385           445.0   \n",
       "\n",
       "               end_station_name  end_station_latitude  end_station_longitude  \\\n",
       "267083      W 100 St & Broadway             40.797372             -73.970412   \n",
       "886083       W 67 St & Broadway             40.774925             -73.982666   \n",
       "1673335  Huron St & Franklin St             40.732660             -73.958260   \n",
       "1219576    Front St & Maiden Ln             40.705310             -74.006126   \n",
       "820273       E 10 St & Avenue A             40.727408             -73.981420   \n",
       "\n",
       "         bikeid    usertype  birth_year  gender  \n",
       "267083    34719    Customer        2001       1  \n",
       "886083    24971  Subscriber        1969       0  \n",
       "1673335   34992  Subscriber        1980       2  \n",
       "1219576   30497  Subscriber        1968       1  \n",
       "820273    26787  Subscriber        1985       1  "
      ]
     },
     "execution_count": 7,
     "metadata": {},
     "output_type": "execute_result"
    }
   ],
   "source": [
    "# Sample my dataset\n",
    "citibike.sample(5)"
   ]
  },
  {
   "cell_type": "code",
   "execution_count": 8,
   "metadata": {
    "scrolled": false
   },
   "outputs": [
    {
     "name": "stdout",
     "output_type": "stream",
     "text": [
      "<class 'pandas.core.frame.DataFrame'>\n",
      "Int64Index: 4386430 entries, 128037 to 407299\n",
      "Data columns (total 15 columns):\n",
      "tripduration               int64\n",
      "starttime                  object\n",
      "stoptime                   object\n",
      "start_station_id           float64\n",
      "start_station_name         object\n",
      "start_station_latitude     float64\n",
      "start_station_longitude    float64\n",
      "end_station_id             float64\n",
      "end_station_name           object\n",
      "end_station_latitude       float64\n",
      "end_station_longitude      float64\n",
      "bikeid                     int64\n",
      "usertype                   object\n",
      "birth_year                 int64\n",
      "gender                     int64\n",
      "dtypes: float64(6), int64(4), object(5)\n",
      "memory usage: 535.5+ MB\n"
     ]
    }
   ],
   "source": [
    "# Explore the dataset \n",
    "citibike.info()"
   ]
  },
  {
   "cell_type": "markdown",
   "metadata": {},
   "source": [
    "# Question 01: What is daily and monthly total ridership in 2018?"
   ]
  },
  {
   "cell_type": "code",
   "execution_count": 9,
   "metadata": {
    "scrolled": true
   },
   "outputs": [
    {
     "name": "stdout",
     "output_type": "stream",
     "text": [
      "Type: <class 'str'>\n",
      "2018-01-28 11:56:43.3930\n"
     ]
    }
   ],
   "source": [
    "# What is the type of the starttime?\n",
    "print('Type: ' + str(type(citibike['starttime'].values[0])))\n",
    "print(citibike['starttime'].values[0])"
   ]
  },
  {
   "cell_type": "code",
   "execution_count": 10,
   "metadata": {},
   "outputs": [],
   "source": [
    "# Need to convert start_time and stop_time to datetime\n",
    "formatString = '%Y-%m-%d %H:%M:%S.%f'\n",
    "\n",
    "# Convert datetime column into \n",
    "citibike['starttime'] = pd.to_datetime(citibike['starttime'], format=formatString)\n",
    "citibike['stoptime'] = pd.to_datetime(citibike['stoptime'], format=formatString)"
   ]
  },
  {
   "cell_type": "code",
   "execution_count": 11,
   "metadata": {},
   "outputs": [
    {
     "name": "stdout",
     "output_type": "stream",
     "text": [
      "Type: <class 'numpy.datetime64'>\n",
      "2018-01-28T11:56:43.393000000\n"
     ]
    }
   ],
   "source": [
    "# Confirm such convertion work, should be datetime64!\n",
    "print('Type: ' + str(type(citibike['starttime'].values[0])))\n",
    "print(citibike['starttime'].values[0])"
   ]
  },
  {
   "cell_type": "code",
   "execution_count": 12,
   "metadata": {},
   "outputs": [
    {
     "data": {
      "text/html": [
       "<div>\n",
       "<style scoped>\n",
       "    .dataframe tbody tr th:only-of-type {\n",
       "        vertical-align: middle;\n",
       "    }\n",
       "\n",
       "    .dataframe tbody tr th {\n",
       "        vertical-align: top;\n",
       "    }\n",
       "\n",
       "    .dataframe thead th {\n",
       "        text-align: right;\n",
       "    }\n",
       "</style>\n",
       "<table border=\"1\" class=\"dataframe\">\n",
       "  <thead>\n",
       "    <tr style=\"text-align: right;\">\n",
       "      <th></th>\n",
       "      <th>starttime</th>\n",
       "    </tr>\n",
       "  </thead>\n",
       "  <tbody>\n",
       "    <tr>\n",
       "      <th>128037</th>\n",
       "      <td>2018-01</td>\n",
       "    </tr>\n",
       "    <tr>\n",
       "      <th>491755</th>\n",
       "      <td>2018-01</td>\n",
       "    </tr>\n",
       "    <tr>\n",
       "      <th>470924</th>\n",
       "      <td>2018-01</td>\n",
       "    </tr>\n",
       "    <tr>\n",
       "      <th>491263</th>\n",
       "      <td>2018-01</td>\n",
       "    </tr>\n",
       "    <tr>\n",
       "      <th>371403</th>\n",
       "      <td>2018-01</td>\n",
       "    </tr>\n",
       "  </tbody>\n",
       "</table>\n",
       "</div>"
      ],
      "text/plain": [
       "       starttime\n",
       "128037   2018-01\n",
       "491755   2018-01\n",
       "470924   2018-01\n",
       "491263   2018-01\n",
       "371403   2018-01"
      ]
     },
     "execution_count": 12,
     "metadata": {},
     "output_type": "execute_result"
    }
   ],
   "source": [
    "# Create another pandas dataframe that only has 1 columns\n",
    "citibike_monthly_df = citibike.filter(['starttime']) # Monthly dataframe\n",
    "citibike_daily_df = citibike.filter(['starttime'])   # Daily dataframe\n",
    "\n",
    "# Each of the starttime is now converted into YYYY-MM\n",
    "citibike_monthly_df.starttime = pd.to_datetime(citibike_monthly_df.starttime).dt.to_period('m')\n",
    "citibike_daily_df.starttime = pd.to_datetime(citibike_daily_df.starttime).dt.to_period('d')\n",
    "\n",
    "# Confirm if they are correct\n",
    "citibike_daily_df.head()\n",
    "citibike_monthly_df.head()"
   ]
  },
  {
   "cell_type": "code",
   "execution_count": 13,
   "metadata": {},
   "outputs": [],
   "source": [
    "# Get frequency count of ridership data by month and day\n",
    "monthly_answer = citibike_monthly_df.groupby(['starttime']).size()\n",
    "daily_answer = citibike_daily_df.groupby(['starttime']).size()"
   ]
  },
  {
   "cell_type": "code",
   "execution_count": 14,
   "metadata": {},
   "outputs": [
    {
     "data": {
      "text/plain": [
       "pandas.core.series.Series"
      ]
     },
     "execution_count": 14,
     "metadata": {},
     "output_type": "execute_result"
    }
   ],
   "source": [
    "# Checking to see what is monthly_answer type.\n",
    "type(monthly_answer)"
   ]
  },
  {
   "cell_type": "code",
   "execution_count": 15,
   "metadata": {},
   "outputs": [
    {
     "data": {
      "text/plain": [
       "<matplotlib.axes._subplots.AxesSubplot at 0x15f0e8898>"
      ]
     },
     "execution_count": 15,
     "metadata": {},
     "output_type": "execute_result"
    },
    {
     "data": {
      "image/png": "[encoded data removed]",
      "text/plain": [
       "<Figure size 1440x720 with 1 Axes>"
      ]
     },
     "metadata": {
      "needs_background": "light"
     },
     "output_type": "display_data"
    }
   ],
   "source": [
    "# Draw a basic plot for the monthly ridership data\n",
    "monthly_answer.plot(\n",
    "    figsize=(20,10), \n",
    "    kind='bar',\n",
    "    title='2018 Monthly Citibike Ridership Count',\n",
    "    fontsize=14,\n",
    "    color='k',\n",
    "    alpha=0.7,\n",
    "    rot=0)\n",
    "\n",
    "# Finally learned how to do it, you have to assign it to an object first.\n",
    "# Reference: https://stackoverflow.com/a/21487560\n",
    "\n",
    "# Then use set_xlable ...\n",
    "# ax.set_xlabel('')\n",
    "\n",
    "# Very complicated, \n",
    "# Reference: https://stackoverflow.com/a/25973637\n",
    "# ax.get_yaxis().set_major_formatter(\n",
    "#    matplotlib.ticker.FuncFormatter(lambda y, p: format(int(y), ',')))"
   ]
  },
  {
   "cell_type": "code",
   "execution_count": 16,
   "metadata": {},
   "outputs": [
    {
     "data": {
      "text/plain": [
       "<matplotlib.axes._subplots.AxesSubplot at 0x15ae55c18>"
      ]
     },
     "execution_count": 16,
     "metadata": {},
     "output_type": "execute_result"
    },
    {
     "data": {
      "image/png": "[encoded data removed]",
      "text/plain": [
       "<Figure size 1440x720 with 1 Axes>"
      ]
     },
     "metadata": {
      "needs_background": "light"
     },
     "output_type": "display_data"
    }
   ],
   "source": [
    "# Create a monthly temperature dictionary, data otained from google.\n",
    "# probably need to find a way to get daily temperature in order to do more \n",
    "# in depth analysis and build a regression model.\n",
    "temperature_dict = {\n",
    "    'Month':['2018-01', \n",
    "             '2018-02',\n",
    "             '2018-03',\n",
    "             '2018-04',\n",
    "             '2018-05',\n",
    "             '2018-06',\n",
    "             '2018-07',\n",
    "             '2018-08',\n",
    "             '2018-09',\n",
    "             '2018-10',\n",
    "             '2018-11',\n",
    "             '2018-12'],\n",
    "    'Temperature':[32.5, 35.5, 42.5, 53, 62.5, 71.5, 76.5, 75.5, 68, 57, 48, 37.5]\n",
    "}\n",
    "\n",
    "# Create a dataframe using the dictionary data\n",
    "temperature_df = pd.DataFrame.from_dict(temperature_dict)\n",
    "\n",
    "# Rename the columns properly\n",
    "temperature_df = temperature_df.rename(index=str, columns={\"Month\": \"Month\", \"Temperature\": \"Temperature\"})\n",
    "\n",
    "# Learned how to add x & y axis label\n",
    "temperature_df.plot(\n",
    "    x='Month',\n",
    "    y='Temperature',\n",
    "    figsize=(20,10), \n",
    "    kind='line',\n",
    "    title='2018 Average Temperature',\n",
    "    fontsize=14,\n",
    "    linewidth=4.0, \n",
    "    markeredgewidth=10.0,\n",
    "    linestyle='--', \n",
    "    marker='o',\n",
    "    color='k',\n",
    "    alpha=0.7,\n",
    "    rot=0\n",
    ")"
   ]
  },
  {
   "cell_type": "code",
   "execution_count": 17,
   "metadata": {},
   "outputs": [],
   "source": [
    "# From this we can tell there are a strong relationship between the temperature \n",
    "# to the number of riders per day in the citibike. During winter month when it is\n",
    "# really cold, you don't see nearly as much. But when it is warmer (in the summer)\n",
    "# then you start to see a huge increase in the number of rides."
   ]
  },
  {
   "cell_type": "code",
   "execution_count": 18,
   "metadata": {},
   "outputs": [
    {
     "data": {
      "text/plain": [
       "<matplotlib.axes._subplots.AxesSubplot at 0x1538ca080>"
      ]
     },
     "execution_count": 18,
     "metadata": {},
     "output_type": "execute_result"
    },
    {
     "data": {
      "image/png": "[encoded data removed]",
      "text/plain": [
       "<Figure size 1440x720 with 1 Axes>"
      ]
     },
     "metadata": {
      "needs_background": "light"
     },
     "output_type": "display_data"
    }
   ],
   "source": [
    "daily_answer.plot(\n",
    "    figsize=(20,10),\n",
    "    kind='bar',\n",
    "    title='2018 Monthly Citibike Ridership Count',\n",
    "    fontsize=14,\n",
    "    legend=False,\n",
    "    color='k',\n",
    "    alpha=0.7,\n",
    "    rot=0\n",
    ")"
   ]
  },
  {
   "cell_type": "code",
   "execution_count": 19,
   "metadata": {},
   "outputs": [],
   "source": [
    "# Through manual checks on weather history, the dip in the individual months are \n",
    "# contributed by rain fall, when it is rainning that day, there are siginficantly\n",
    "# less people riding a citibike. Because their clothings (pants) will get wet.\n",
    "# And it is also unsafe to ride in the rain too, better to use mass transit."
   ]
  },
  {
   "cell_type": "markdown",
   "metadata": {},
   "source": [
    "# Question 02: What is the most / least popular station?"
   ]
  },
  {
   "cell_type": "code",
   "execution_count": 20,
   "metadata": {},
   "outputs": [
    {
     "name": "stdout",
     "output_type": "stream",
     "text": [
      "The most popular start station: Pershing Square North (37,568 times)\n",
      "The most popular end station:   Pershing Square North (37,757 times)\n",
      "\n",
      "From Wiki: Pershing Square is a public square in Manhattan, New York City. \n",
      "Located where Park Avenue and 42nd Street intersect in front of Grand Central Terminal.\n",
      "The main roadway of Park Avenue crosses over 42nd Street on the Park Avenue Viaduct. \n",
      "It is also known as the Pershing Square Viaduct.\n"
     ]
    },
    {
     "data": {
      "text/html": [
       "<img src=\"https://upload.wikimedia.org/wikipedia/commons/thumb/a/a8/Park_Avenue_Viaduct_Pershing_Square_from_west.jpg/1920px-Park_Avenue_Viaduct_Pershing_Square_from_west.jpg\" width=\"400\" height=\"400\"/>"
      ],
      "text/plain": [
       "<IPython.core.display.Image object>"
      ]
     },
     "execution_count": 20,
     "metadata": {},
     "output_type": "execute_result"
    }
   ],
   "source": [
    "# Most busy start station\n",
    "# https://stackoverflow.com/q/29836477\n",
    "# http://pandas.pydata.org/pandas-docs/stable/reference/api/pandas.DataFrame.sort_values.html\n",
    "key = 'start_station_name'\n",
    "start_station_df = citibike.groupby(key)[key].count().reset_index(name = 'count')\n",
    "start_station_df.sort_values(by = 'count', ascending = False, inplace = True)\n",
    "\n",
    "# The most popular start stations award goes to...\n",
    "print('The most popular start station: ' + str(start_station_df.iloc[0][0]), end = '')\n",
    "print(' ({:,} times)'.format(start_station_df.iloc[0][1]))\n",
    "\n",
    "# Most busy end station\n",
    "key = 'end_station_name'\n",
    "end_station_df = citibike.groupby(key)[key].count().reset_index(name = 'count')\n",
    "end_station_df.sort_values(by = 'count', ascending = False, inplace = True)\n",
    "\n",
    "print('The most popular end station:   ' + str(end_station_df.iloc[0][0]), end = '')\n",
    "print(' ({:,} times)'.format(end_station_df.iloc[0][1]))\n",
    "\n",
    "# Some information about this station\n",
    "print('\\nFrom Wiki: Pershing Square is a public square in Manhattan, New York City. ')\n",
    "print('Located where Park Avenue and 42nd Street intersect in front of Grand Central Terminal.')\n",
    "print('The main roadway of Park Avenue crosses over 42nd Street on the Park Avenue Viaduct. ')\n",
    "print('It is also known as the Pershing Square Viaduct.')\n",
    "\n",
    "Image(url=\"https://upload.wikimedia.org/wikipedia/commons/thumb/a/a8/Park_Avenue_Viaduct_Pershing_Square_from_west.jpg/1920px-Park_Avenue_Viaduct_Pershing_Square_from_west.jpg\",\n",
    "      width=400, \n",
    "      height=400)\n",
    "\n",
    "\n",
    "# Top 10 one way direction...\n",
    "# Chart Annual rider vs. Weekly rider vs. Single rider\n",
    "\n",
    "# School station analysis (Where do they go?)\n",
    "# Male and Female trips\n",
    "# Age Group\n",
    "\n",
    "# Longest trip (Distance formula)\n",
    "# Shortest trip (Distance formula)\n",
    "# Holiday trip (Federal Holiday)"
   ]
  },
  {
   "cell_type": "code",
   "execution_count": 21,
   "metadata": {},
   "outputs": [],
   "source": [
    "# https://stackoverflow.com/q/54009788\n",
    "# This analysis exclude the trip where they start and end at the same station\n",
    "# Because it is actually central park, I am guessing for tourist?\n",
    "\n",
    "# Do not want the trip start and end at the same place\n",
    "citibike_trip = citibike[citibike['start_station_name'] != citibike['end_station_name']]\n",
    "\n",
    "# Create a subset dataframe with only start & end station name\n",
    "citibike_trip = citibike_trip.filter(['start_station_name', 'end_station_name'])\n",
    "\n",
    "# Create the trip string\n",
    "citibike_trip['trip'] = citibike_trip['start_station_name'] + ' to ' + citibike_trip['end_station_name']\n",
    "\n",
    "# Group by trip and add count column\n",
    "trip_df = citibike_trip.groupby('trip')['trip'].count().reset_index(name = 'count')\n",
    "trip_df.sort_values(by = 'count', ascending = False, inplace = True)"
   ]
  },
  {
   "cell_type": "code",
   "execution_count": 22,
   "metadata": {},
   "outputs": [
    {
     "name": "stdout",
     "output_type": "stream",
     "text": [
      "The most popular ride is : E 7 St & Avenue A to Cooper Square & Astor Pl (1890 times)\n"
     ]
    },
    {
     "data": {
      "text/html": [
       "<img src=\"https://i.ibb.co/J72SggW/map1.png\" width=\"600\" height=\"600\"/>"
      ],
      "text/plain": [
       "<IPython.core.display.Image object>"
      ]
     },
     "execution_count": 22,
     "metadata": {},
     "output_type": "execute_result"
    }
   ],
   "source": [
    "# Print out the result\n",
    "print('The most popular ride is : ' + trip_df.iloc[0][0], end = '')\n",
    "print(' ({} times)'.format(trip_df.iloc[0][1]))\n",
    "\n",
    "# How to insert an image: https://stackoverflow.com/a/32370538\n",
    "Image(url=\"https://i.ibb.co/J72SggW/map1.png\",\n",
    "      width=600, \n",
    "      height=600)"
   ]
  },
  {
   "cell_type": "code",
   "execution_count": 23,
   "metadata": {},
   "outputs": [
    {
     "name": "stdout",
     "output_type": "stream",
     "text": [
      "The least popular ride is: old - E 13 St & Avenue A to Watts St & Greenwich St (1 times)\n"
     ]
    },
    {
     "data": {
      "text/html": [
       "<img src=\"https://i.ibb.co/vmJVfx8/map2.png\" width=\"600\" height=\"600\"/>"
      ],
      "text/plain": [
       "<IPython.core.display.Image object>"
      ]
     },
     "execution_count": 23,
     "metadata": {},
     "output_type": "execute_result"
    }
   ],
   "source": [
    "print('The least popular ride is: ' + trip_df.iloc[-1][0], end = '')\n",
    "print(' ({} times)'.format(trip_df.iloc[-1][1]))\n",
    "\n",
    "Image(url=\"https://i.ibb.co/vmJVfx8/map2.png\",\n",
    "      width=600, \n",
    "      height=600)"
   ]
  },
  {
   "cell_type": "code",
   "execution_count": 24,
   "metadata": {},
   "outputs": [],
   "source": [
    "# Lookup the geo-coordinate for google map lookup\n",
    "# citibike[citibike.start_station_name == 'Watts St & Greenwich St']"
   ]
  },
  {
   "cell_type": "markdown",
   "metadata": {},
   "source": [
    "# Top 10 poupar trips in 2018"
   ]
  },
  {
   "cell_type": "code",
   "execution_count": 25,
   "metadata": {},
   "outputs": [
    {
     "data": {
      "text/html": [
       "<div>\n",
       "<style scoped>\n",
       "    .dataframe tbody tr th:only-of-type {\n",
       "        vertical-align: middle;\n",
       "    }\n",
       "\n",
       "    .dataframe tbody tr th {\n",
       "        vertical-align: top;\n",
       "    }\n",
       "\n",
       "    .dataframe thead th {\n",
       "        text-align: right;\n",
       "    }\n",
       "</style>\n",
       "<table border=\"1\" class=\"dataframe\">\n",
       "  <thead>\n",
       "    <tr style=\"text-align: right;\">\n",
       "      <th></th>\n",
       "      <th>trip</th>\n",
       "      <th>count</th>\n",
       "    </tr>\n",
       "  </thead>\n",
       "  <tbody>\n",
       "    <tr>\n",
       "      <th>113189</th>\n",
       "      <td>E 7 St &amp; Avenue A to Cooper Square &amp; Astor Pl</td>\n",
       "      <td>1890</td>\n",
       "    </tr>\n",
       "    <tr>\n",
       "      <th>60348</th>\n",
       "      <td>Central Park S &amp; 6 Ave to 5 Ave &amp; E 88 St</td>\n",
       "      <td>1551</td>\n",
       "    </tr>\n",
       "    <tr>\n",
       "      <th>189570</th>\n",
       "      <td>S 4 St &amp; Wythe Ave to N 6 St &amp; Bedford Ave</td>\n",
       "      <td>1409</td>\n",
       "    </tr>\n",
       "    <tr>\n",
       "      <th>171666</th>\n",
       "      <td>N 6 St &amp; Bedford Ave to S 4 St &amp; Wythe Ave</td>\n",
       "      <td>1280</td>\n",
       "    </tr>\n",
       "    <tr>\n",
       "      <th>215878</th>\n",
       "      <td>W 21 St &amp; 6 Ave to 9 Ave &amp; W 22 St</td>\n",
       "      <td>1260</td>\n",
       "    </tr>\n",
       "    <tr>\n",
       "      <th>179248</th>\n",
       "      <td>Pershing Square North to W 33 St &amp; 7 Ave</td>\n",
       "      <td>1175</td>\n",
       "    </tr>\n",
       "    <tr>\n",
       "      <th>178831</th>\n",
       "      <td>Pershing Square North to Broadway &amp; W 32 St</td>\n",
       "      <td>1124</td>\n",
       "    </tr>\n",
       "    <tr>\n",
       "      <th>178949</th>\n",
       "      <td>Pershing Square North to E 24 St &amp; Park Ave S</td>\n",
       "      <td>1079</td>\n",
       "    </tr>\n",
       "    <tr>\n",
       "      <th>6495</th>\n",
       "      <td>12 Ave &amp; W 40 St to West St &amp; Chambers St</td>\n",
       "      <td>1068</td>\n",
       "    </tr>\n",
       "    <tr>\n",
       "      <th>76014</th>\n",
       "      <td>DeKalb Ave &amp; Vanderbilt Ave to DeKalb Ave &amp; Hu...</td>\n",
       "      <td>1065</td>\n",
       "    </tr>\n",
       "  </tbody>\n",
       "</table>\n",
       "</div>"
      ],
      "text/plain": [
       "                                                     trip  count\n",
       "113189      E 7 St & Avenue A to Cooper Square & Astor Pl   1890\n",
       "60348           Central Park S & 6 Ave to 5 Ave & E 88 St   1551\n",
       "189570         S 4 St & Wythe Ave to N 6 St & Bedford Ave   1409\n",
       "171666         N 6 St & Bedford Ave to S 4 St & Wythe Ave   1280\n",
       "215878                 W 21 St & 6 Ave to 9 Ave & W 22 St   1260\n",
       "179248           Pershing Square North to W 33 St & 7 Ave   1175\n",
       "178831        Pershing Square North to Broadway & W 32 St   1124\n",
       "178949      Pershing Square North to E 24 St & Park Ave S   1079\n",
       "6495            12 Ave & W 40 St to West St & Chambers St   1068\n",
       "76014   DeKalb Ave & Vanderbilt Ave to DeKalb Ave & Hu...   1065"
      ]
     },
     "execution_count": 25,
     "metadata": {},
     "output_type": "execute_result"
    }
   ],
   "source": [
    "# Take a look at the top 10 popular trips\n",
    "trip_df.head(10)"
   ]
  },
  {
   "cell_type": "markdown",
   "metadata": {},
   "source": [
    "## There are many 1 off trips (not meaningful to say least popular)"
   ]
  },
  {
   "cell_type": "code",
   "execution_count": 26,
   "metadata": {},
   "outputs": [
    {
     "name": "stdout",
     "output_type": "stream",
     "text": [
      "There are 58,080 count of one-off trips.\n"
     ]
    }
   ],
   "source": [
    "count = trip_df[trip_df['count'] == 1].shape[0]\n",
    "\n",
    "# These are station to station ride that only happened once\n",
    "print('There are {0:,} count of one-off trips.'.format(count))"
   ]
  },
  {
   "cell_type": "markdown",
   "metadata": {},
   "source": [
    "# What are the type of membership (Annual members or paid per ride?)"
   ]
  },
  {
   "cell_type": "code",
   "execution_count": 27,
   "metadata": {},
   "outputs": [
    {
     "data": {
      "text/html": [
       "<div>\n",
       "<style scoped>\n",
       "    .dataframe tbody tr th:only-of-type {\n",
       "        vertical-align: middle;\n",
       "    }\n",
       "\n",
       "    .dataframe tbody tr th {\n",
       "        vertical-align: top;\n",
       "    }\n",
       "\n",
       "    .dataframe thead th {\n",
       "        text-align: right;\n",
       "    }\n",
       "</style>\n",
       "<table border=\"1\" class=\"dataframe\">\n",
       "  <thead>\n",
       "    <tr style=\"text-align: right;\">\n",
       "      <th></th>\n",
       "      <th>count</th>\n",
       "    </tr>\n",
       "    <tr>\n",
       "      <th>usertype</th>\n",
       "      <th></th>\n",
       "    </tr>\n",
       "  </thead>\n",
       "  <tbody>\n",
       "    <tr>\n",
       "      <th>Customer</th>\n",
       "      <td>483312</td>\n",
       "    </tr>\n",
       "    <tr>\n",
       "      <th>Subscriber</th>\n",
       "      <td>3903118</td>\n",
       "    </tr>\n",
       "  </tbody>\n",
       "</table>\n",
       "</div>"
      ],
      "text/plain": [
       "              count\n",
       "usertype           \n",
       "Customer     483312\n",
       "Subscriber  3903118"
      ]
     },
     "execution_count": 27,
     "metadata": {},
     "output_type": "execute_result"
    }
   ],
   "source": [
    "membership_df = citibike.groupby('usertype')['usertype'].count()\n",
    "membership_df = membership_df.reset_index(name = 'count')\n",
    "membership_df = membership_df.set_index(['usertype'])\n",
    "\n",
    "# Set the index so it will print properly\n",
    "membership_df"
   ]
  },
  {
   "cell_type": "code",
   "execution_count": 28,
   "metadata": {},
   "outputs": [
    {
     "data": {
      "text/html": [
       "<div>\n",
       "<style scoped>\n",
       "    .dataframe tbody tr th:only-of-type {\n",
       "        vertical-align: middle;\n",
       "    }\n",
       "\n",
       "    .dataframe tbody tr th {\n",
       "        vertical-align: top;\n",
       "    }\n",
       "\n",
       "    .dataframe thead th {\n",
       "        text-align: right;\n",
       "    }\n",
       "</style>\n",
       "<table border=\"1\" class=\"dataframe\">\n",
       "  <thead>\n",
       "    <tr style=\"text-align: right;\">\n",
       "      <th></th>\n",
       "      <th>count</th>\n",
       "    </tr>\n",
       "    <tr>\n",
       "      <th>usertype</th>\n",
       "      <th></th>\n",
       "    </tr>\n",
       "  </thead>\n",
       "  <tbody>\n",
       "    <tr>\n",
       "      <th>Customer</th>\n",
       "      <td>483312</td>\n",
       "    </tr>\n",
       "    <tr>\n",
       "      <th>Subscriber</th>\n",
       "      <td>3903118</td>\n",
       "    </tr>\n",
       "  </tbody>\n",
       "</table>\n",
       "</div>"
      ],
      "text/plain": [
       "              count\n",
       "usertype           \n",
       "Customer     483312\n",
       "Subscriber  3903118"
      ]
     },
     "execution_count": 28,
     "metadata": {},
     "output_type": "execute_result"
    }
   ],
   "source": [
    "# This is george's another way of getting the count and making it \n",
    "# back to a DataFrame, after reading the book a bunch.\n",
    "membership = citibike.groupby('usertype')['usertype'].count()\n",
    "\n",
    "# In order to use pd.plot, but maybe you use can it as is?\n",
    "membership = pd.DataFrame(membership)\n",
    "membership.rename(columns={'usertype': 'count'})"
   ]
  },
  {
   "cell_type": "code",
   "execution_count": 29,
   "metadata": {},
   "outputs": [
    {
     "name": "stdout",
     "output_type": "stream",
     "text": [
      "['Customer', 'Subscriber']\n",
      "[483312, 3903118]\n"
     ]
    }
   ],
   "source": [
    "# This is a break through!!!\n",
    "membership = citibike.groupby('usertype')['usertype'].count()\n",
    "\n",
    "count = list(membership)\n",
    "label = list(membership.index)\n",
    "print(label)\n",
    "print(count)"
   ]
  },
  {
   "cell_type": "code",
   "execution_count": 30,
   "metadata": {},
   "outputs": [
    {
     "data": {
      "text/plain": [
       "<matplotlib.axes._subplots.AxesSubplot at 0x12a8122e8>"
      ]
     },
     "execution_count": 30,
     "metadata": {},
     "output_type": "execute_result"
    },
    {
     "data": {
      "image/png": "[encoded data removed]",
      "text/plain": [
       "<Figure size 720x720 with 1 Axes>"
      ]
     },
     "metadata": {
      "needs_background": "light"
     },
     "output_type": "display_data"
    }
   ],
   "source": [
    "# Reference: https://markhneedham.com/blog/2018/09/18/matplotlib-remove-axis-legend/\n",
    "membership_df.plot(\n",
    "    figsize=(10,10),\n",
    "    title='2018 Citibike Rider Membership Data', \n",
    "    fontsize=14,\n",
    "    kind='bar',\n",
    "    rot=0,\n",
    "    legend=None,\n",
    "    color='k',\n",
    "    alpha=0.7,\n",
    "    )"
   ]
  },
  {
   "cell_type": "code",
   "execution_count": 31,
   "metadata": {},
   "outputs": [],
   "source": [
    "gender_df = citibike.groupby('gender')['gender'].count()\n",
    "gender_df = gender_df.reset_index(name = 'count')\n",
    "gender_df = gender_df.set_index(['gender'])\n",
    "\n",
    "# Set the index so it will print properly\n",
    "gender_df.rename(index={0: 'Unknown', \n",
    "                        1: 'Male',\n",
    "                        2: 'Female'}, inplace=True)"
   ]
  },
  {
   "cell_type": "code",
   "execution_count": 32,
   "metadata": {},
   "outputs": [
    {
     "data": {
      "text/plain": [
       "gender\n",
       "0     371634\n",
       "1    2993095\n",
       "2    1021701\n",
       "Name: gender, dtype: int64"
      ]
     },
     "execution_count": 32,
     "metadata": {},
     "output_type": "execute_result"
    }
   ],
   "source": [
    "foo = citibike.groupby('gender')['gender'].count()\n",
    "foo"
   ]
  },
  {
   "cell_type": "code",
   "execution_count": 33,
   "metadata": {},
   "outputs": [
    {
     "data": {
      "text/plain": [
       "Unknown     371634\n",
       "Male       2993095\n",
       "Female     1021701\n",
       "Name: gender, dtype: int64"
      ]
     },
     "execution_count": 33,
     "metadata": {},
     "output_type": "execute_result"
    }
   ],
   "source": [
    "foo.index=['Unknown', 'Male', 'Female']\n",
    "foo"
   ]
  },
  {
   "cell_type": "code",
   "execution_count": 34,
   "metadata": {},
   "outputs": [
    {
     "data": {
      "text/plain": [
       "<matplotlib.axes._subplots.AxesSubplot at 0x16b6db470>"
      ]
     },
     "execution_count": 34,
     "metadata": {},
     "output_type": "execute_result"
    },
    {
     "data": {
      "image/png": "[encoded data removed]",
      "text/plain": [
       "<Figure size 720x720 with 1 Axes>"
      ]
     },
     "metadata": {
      "needs_background": "light"
     },
     "output_type": "display_data"
    }
   ],
   "source": [
    "# Reference: https://markhneedham.com/blog/2018/09/18/matplotlib-remove-axis-legend/\n",
    "gender_df.plot(\n",
    "    figsize=(10,10),\n",
    "    title='2018 Citibike Rider Gender',\n",
    "    fontsize=14,\n",
    "    kind='bar',\n",
    "    rot=0,\n",
    "    legend=None,\n",
    "    color='k',\n",
    "    alpha=0.7\n",
    ")"
   ]
  },
  {
   "cell_type": "code",
   "execution_count": 35,
   "metadata": {},
   "outputs": [],
   "source": [
    "# Age Group\n",
    "# https://stackoverflow.com/a/34683105\n",
    "age_df = citibike[['birth_year']].copy()\n",
    "\n",
    "# Replace the column names\n",
    "age_df.columns = age_df.columns.str.strip().str.lower().str.replace(' ', '_')\n",
    "\n",
    "# Failed attempt...\n",
    "# age_df['age'] = age_df.apply(lambda row: row['birth_year'])\n",
    "\n",
    "def get_age(year_of_birth):\n",
    "    result = 2019 - int(year_of_birth)\n",
    "    if result >= 0 and result <=80 and result != 50:\n",
    "        return result\n",
    "    else:\n",
    "        return -1\n",
    "\n",
    "# Calculate a new column by using vectorize method\n",
    "age_df['age'] = np.vectorize(get_age)(age_df['birth_year'])\n",
    "\n",
    "age_df = age_df[age_df['age'] != -1]\n",
    "\n",
    "age_plot_df = age_df.groupby('age')['age'].count()\n",
    "age_plot_df = age_plot_df.reset_index(name = 'count')\n",
    "age_plot_df = age_plot_df.set_index(['age'])"
   ]
  },
  {
   "cell_type": "code",
   "execution_count": 36,
   "metadata": {},
   "outputs": [
    {
     "data": {
      "text/plain": [
       "<matplotlib.axes._subplots.AxesSubplot at 0x12a887f28>"
      ]
     },
     "execution_count": 36,
     "metadata": {},
     "output_type": "execute_result"
    },
    {
     "data": {
      "image/png": "[encoded data removed]",
      "text/plain": [
       "<Figure size 1440x720 with 1 Axes>"
      ]
     },
     "metadata": {
      "needs_background": "light"
     },
     "output_type": "display_data"
    }
   ],
   "source": [
    "age_plot_df.plot(\n",
    "    figsize = (20,10), \n",
    "    title = '2018 Citibike Rider Age', \n",
    "    fontsize = 14,\n",
    "    kind = 'bar',\n",
    "    rot = 0,\n",
    "    legend = None,\n",
    "    color='k',\n",
    "    alpha=0.7\n",
    ")"
   ]
  },
  {
   "cell_type": "code",
   "execution_count": 37,
   "metadata": {},
   "outputs": [
    {
     "data": {
      "text/plain": [
       "<matplotlib.axes._subplots.AxesSubplot at 0x150a3e4a8>"
      ]
     },
     "execution_count": 37,
     "metadata": {},
     "output_type": "execute_result"
    },
    {
     "data": {
      "image/png": "[encoded data removed]",
      "text/plain": [
       "<Figure size 1440x720 with 1 Axes>"
      ]
     },
     "metadata": {
      "needs_background": "light"
     },
     "output_type": "display_data"
    }
   ],
   "source": [
    "# bins = [0, 24, 59, 999]\n",
    "# labels = ['Student <=24','Adult','Senior Adult']\n",
    "\n",
    "bins = [0, 20, 30, 40, 50, 60, 100]\n",
    "labels = ['10-20', '21-30', '31-40', '41-50', '51-60', '60 and Above']\n",
    "\n",
    "age_df['AgeGroup'] = pd.cut(age_df['age'], bins=bins, labels=labels, right=False)\n",
    "\n",
    "agegroup_plot_df = age_df.groupby('AgeGroup')['AgeGroup'].count()\n",
    "agegroup_plot_df = agegroup_plot_df.reset_index(name = 'count')\n",
    "agegroup_plot_df = agegroup_plot_df.set_index(['AgeGroup'])\n",
    "\n",
    "agegroup_plot_df.plot(\n",
    "    figsize = (20,10), \n",
    "    title = '2018 Citibike Rider Age Group', \n",
    "    fontsize = 14,\n",
    "    kind = 'bar',\n",
    "    rot = 0,\n",
    "    legend = None,\n",
    "    color='k',\n",
    "    alpha=0.7\n",
    ")"
   ]
  },
  {
   "cell_type": "code",
   "execution_count": 38,
   "metadata": {},
   "outputs": [
    {
     "name": "stdout",
     "output_type": "stream",
     "text": [
      "Result: 0.21796866823983926\n"
     ]
    }
   ],
   "source": [
    "# https://stackoverflow.com/a/43211266\n",
    "from math import sin, cos, sqrt, atan2, radians\n",
    "\n",
    "\n",
    "def get_distance(lat1, lon1, lat2, lon2):\n",
    "    # approximate radius of earth in miles \n",
    "    R = 3958.8\n",
    "\n",
    "    lat1 = radians(lat1)\n",
    "    lon1 = radians(lon1)\n",
    "    lat2 = radians(lat2)\n",
    "    lon2 = radians(lon2)\n",
    "\n",
    "    dlon = lon2 - lon1\n",
    "    dlat = lat2 - lat1\n",
    "\n",
    "    a = sin(dlat / 2)**2 + cos(lat1) * cos(lat2) * sin(dlon / 2)**2\n",
    "    c = 2 * atan2(sqrt(a), sqrt(1 - a))\n",
    "\n",
    "    distance = R * c\n",
    "    return distance\n",
    "\n",
    "def get_duration(datetime1, datetime2):\n",
    "    # https://stackoverflow.com/a/14920923\n",
    "    duration = datetime2 - datetime1\n",
    "    return duration.total_seconds()\n",
    "    \n",
    "def get_speed(distance, duration):\n",
    "    hour = 60.0 * 60.0 * 60.0 / (seconds)\n",
    "    \n",
    "    # return distance per hour\n",
    "    return (distance/hour)\n",
    "\n",
    "ans = get_distance(40.729538, -73.984267, 40.736197, -74.008592)\n",
    "ans = get_distance(40.730260, -73.953940, 40.729060, -73.957790)\n",
    "\n",
    "print(\"Result:\", ans)"
   ]
  },
  {
   "cell_type": "code",
   "execution_count": 39,
   "metadata": {
    "scrolled": true
   },
   "outputs": [],
   "source": [
    "import numpy as np\n",
    "\n",
    "df = citibike.sample(frac = 0.1, replace = True, random_state = 1)\n",
    "\n",
    "# Vectorize: https://stackoverflow.com/q/19914937\n",
    "# start station latitude, start station longitude\n",
    "df['distance'] = np.vectorize(get_distance)(df['start_station_latitude'],\n",
    "                                     df['start_station_longitude'],\n",
    "                                     df['end_station_latitude'],\n",
    "                                     df['end_station_longitude'])\n",
    "\n",
    "\n",
    "\n",
    "# df['duration'] = np.vectorize(get_duration)(df['starttime'], df['stoptime'])\n",
    "# df['C'] = (df['B'] - df['A'])/ np.timedelta64(1, 's')\n",
    "df['duration'] = (df['stoptime'] - df['starttime']) / np.timedelta64(1, 's')\n",
    "\n",
    "df['speed'] = (df['distance'] / ((60.0 * 60.0) / df['duration']))\n",
    "\n",
    "# citibike_trip = citibike[citibike['start station name'] != citibike['end station name']]\n",
    "commute_trip = df[df['start_station_name'] != df['end_station_name']]\n",
    "\n",
    "# Limit the ride that is slower than walking and within reason (race bike...)\n",
    "commute_trip = commute_trip[(commute_trip['speed'] >= 3.5)\n",
    "                            & (commute_trip['speed'] <= 25)]\n",
    "\n",
    "# commute_trip = commute_trip[commute_trip['birth year'] >= 1989]\n",
    "\n",
    "'''\n",
    "Speeds above 16 mph are considered very vigorous while riding a bicycle. \n",
    "A light pace would be 10 to 11.9 mph while a moderate pace is categorized as 12 to 13.9 mph. \n",
    "If you are a beginner, start at a light or moderate pace and ride at speeds between 10 and 14 mph.\n",
    "'''\n",
    "\n",
    "speed_bins = [0, 9, 12, 15, 99]\n",
    "speed_labels = ['Leisurely (< 9 MPH)', 'Fast MPH (9 - 11.9 MPH)', 'Moderate (12 - 14.9 MPH)', 'Vigorous (15 MPH+)']\n",
    "\n",
    "commute_trip['SpeedGroup'] = pd.cut(commute_trip['speed'], bins=speed_bins, labels=speed_labels, right=False)"
   ]
  },
  {
   "cell_type": "code",
   "execution_count": 40,
   "metadata": {},
   "outputs": [
    {
     "data": {
      "text/plain": [
       "<matplotlib.axes._subplots.AxesSubplot at 0x120ac5710>"
      ]
     },
     "execution_count": 40,
     "metadata": {},
     "output_type": "execute_result"
    },
    {
     "data": {
      "image/png": "[encoded data removed]",
      "text/plain": [
       "<Figure size 1440x720 with 1 Axes>"
      ]
     },
     "metadata": {
      "needs_background": "light"
     },
     "output_type": "display_data"
    }
   ],
   "source": [
    "commute_trip_plot = commute_trip.groupby('SpeedGroup')['SpeedGroup'].count()\n",
    "commute_trip_plot = commute_trip_plot.reset_index(name = 'count')\n",
    "commute_trip_plot = commute_trip_plot.set_index(['SpeedGroup'])\n",
    "\n",
    "commute_trip_plot.plot(\n",
    "    figsize = (20,10), \n",
    "    title = '2018 Citibike Commuter Speed', \n",
    "    kind = 'bar',\n",
    "    rot = 0,\n",
    "    legend = None,\n",
    "    color='k',\n",
    "    alpha=0.7\n",
    ")"
   ]
  },
  {
   "cell_type": "markdown",
   "metadata": {},
   "source": [
    "# Question 4: Advanced commuting analysis"
   ]
  },
  {
   "cell_type": "code",
   "execution_count": 41,
   "metadata": {},
   "outputs": [],
   "source": [
    "# Example of connected trip.\n",
    "# Same gender and year of birth started in the same station within 5 minutes.\n",
    "\n",
    "# Example of regular commuter rides\n",
    "# Start and end station by the same user?\n",
    "# Morning starting on the train station and ending on the same station\n",
    "\n",
    "# Year of Birth & Gender (Start time and station)\n",
    "# Working age adult: 7am-9am trips, where they do they go to work at?"
   ]
  },
  {
   "cell_type": "code",
   "execution_count": 42,
   "metadata": {
    "scrolled": true
   },
   "outputs": [],
   "source": [
    "# Helper function to determine if datetime is between a time\n",
    "def check_commute_hour(my_hour):\n",
    "    if (my_hour >= 6 and my_hour <= 10):\n",
    "        return 'Morning'\n",
    "    elif (my_hour >= 16 and my_hour <= 21):\n",
    "        return 'Evening'\n",
    "    else:\n",
    "        return 'Other'\n",
    "\n",
    "# Morning Ride (6am-10am)\n",
    "commute_df = citibike[['tripduration', 'starttime', \n",
    "                       'start_station_name', 'end_station_name', \n",
    "                       'usertype', 'birth_year', 'gender']].copy()\n",
    "\n",
    "commute_df = commute_df.loc[commute_df['usertype'] == 'Subscriber']"
   ]
  },
  {
   "cell_type": "code",
   "execution_count": 43,
   "metadata": {},
   "outputs": [],
   "source": [
    "# Set a True or False Flag between 6am-10am (24 hour time format)\n",
    "# Link: https://stackoverflow.com/a/45564365\n",
    "# Super helpful trick to get the dt.hour (hour portion)\n",
    "commute_df['commute_type'] = np.vectorize(check_commute_hour)(commute_df['starttime'].dt.hour)\n",
    "commute_df['date'] = commute_df['starttime'].dt.date\n",
    "\n",
    "commute_df = commute_df.loc[commute_df['commute_type'] != 'Other']\n",
    "\n",
    "# Exclude daily ride, unknown gender and unknow age\n",
    "# How to filter by values: https://stackoverflow.com/a/17071908\n",
    "# df.loc[df['column_name'] == some_value]\n",
    "morning_commute_df = commute_df.loc[commute_df['commute_type'] == 'Morning']\n",
    "evening_commute_df = commute_df.loc[commute_df['commute_type'] == 'Evening']"
   ]
  },
  {
   "cell_type": "code",
   "execution_count": 44,
   "metadata": {},
   "outputs": [
    {
     "name": "stderr",
     "output_type": "stream",
     "text": [
      "/Users/Study/anaconda3/lib/python3.7/site-packages/ipykernel_launcher.py:7: SettingWithCopyWarning: \n",
      "A value is trying to be set on a copy of a slice from a DataFrame.\n",
      "Try using .loc[row_indexer,col_indexer] = value instead\n",
      "\n",
      "See the caveats in the documentation: http://pandas.pydata.org/pandas-docs/stable/indexing.html#indexing-view-versus-copy\n",
      "  import sys\n",
      "/Users/Study/anaconda3/lib/python3.7/site-packages/ipykernel_launcher.py:14: SettingWithCopyWarning: \n",
      "A value is trying to be set on a copy of a slice from a DataFrame.\n",
      "Try using .loc[row_indexer,col_indexer] = value instead\n",
      "\n",
      "See the caveats in the documentation: http://pandas.pydata.org/pandas-docs/stable/indexing.html#indexing-view-versus-copy\n",
      "  \n"
     ]
    }
   ],
   "source": [
    "# Create a Ukey to join easier\n",
    "morning_commute_df['Ukey'] = (morning_commute_df['usertype'] + '-' + \n",
    "                     morning_commute_df['birth_year'].map(str) + '-' + \n",
    "                     morning_commute_df['gender'].map(str) + '-' + \n",
    "                     morning_commute_df['date'].map(str) + '-' +\n",
    "                     morning_commute_df['start_station_name'] + '-' +\n",
    "                     morning_commute_df['end_station_name'])\n",
    "\n",
    "evening_commute_df['Ukey'] = (evening_commute_df['usertype'] + '-' + \n",
    "                     evening_commute_df['birth_year'].map(str) + '-' + \n",
    "                     evening_commute_df['gender'].map(str) + '-' + \n",
    "                     evening_commute_df['date'].map(str) + '-' +\n",
    "                     evening_commute_df['end_station_name'] + '-' +\n",
    "                     evening_commute_df['start_station_name'])\n",
    "\n",
    "# Index by Ukey\n",
    "morning_commute_df = morning_commute_df.set_index('Ukey')\n",
    "evening_commute_df = evening_commute_df.set_index('Ukey')"
   ]
  },
  {
   "cell_type": "code",
   "execution_count": 45,
   "metadata": {
    "scrolled": true
   },
   "outputs": [
    {
     "name": "stdout",
     "output_type": "stream",
     "text": [
      "<class 'pandas.core.frame.DataFrame'>\n",
      "tripduration                   int64\n",
      "starttime             datetime64[ns]\n",
      "start_station_name            object\n",
      "end_station_name              object\n",
      "usertype                      object\n",
      "birth_year                     int64\n",
      "gender                         int64\n",
      "commute_type                  object\n",
      "date                          object\n",
      "dtype: object\n"
     ]
    },
    {
     "data": {
      "text/html": [
       "<div>\n",
       "<style scoped>\n",
       "    .dataframe tbody tr th:only-of-type {\n",
       "        vertical-align: middle;\n",
       "    }\n",
       "\n",
       "    .dataframe tbody tr th {\n",
       "        vertical-align: top;\n",
       "    }\n",
       "\n",
       "    .dataframe thead th {\n",
       "        text-align: right;\n",
       "    }\n",
       "</style>\n",
       "<table border=\"1\" class=\"dataframe\">\n",
       "  <thead>\n",
       "    <tr style=\"text-align: right;\">\n",
       "      <th></th>\n",
       "      <th>tripduration</th>\n",
       "      <th>starttime</th>\n",
       "      <th>start_station_name</th>\n",
       "      <th>end_station_name</th>\n",
       "      <th>usertype</th>\n",
       "      <th>birth_year</th>\n",
       "      <th>gender</th>\n",
       "      <th>commute_type</th>\n",
       "      <th>date</th>\n",
       "    </tr>\n",
       "    <tr>\n",
       "      <th>Ukey</th>\n",
       "      <th></th>\n",
       "      <th></th>\n",
       "      <th></th>\n",
       "      <th></th>\n",
       "      <th></th>\n",
       "      <th></th>\n",
       "      <th></th>\n",
       "      <th></th>\n",
       "      <th></th>\n",
       "    </tr>\n",
       "  </thead>\n",
       "  <tbody>\n",
       "    <tr>\n",
       "      <th>Subscriber-1989-1-2018-01-18-Greenpoint Ave &amp; Manhattan Ave-Milton St &amp; Franklin St</th>\n",
       "      <td>126</td>\n",
       "      <td>2018-01-18 09:31:57.538</td>\n",
       "      <td>Greenpoint Ave &amp; Manhattan Ave</td>\n",
       "      <td>Milton St &amp; Franklin St</td>\n",
       "      <td>Subscriber</td>\n",
       "      <td>1989</td>\n",
       "      <td>1</td>\n",
       "      <td>Morning</td>\n",
       "      <td>2018-01-18</td>\n",
       "    </tr>\n",
       "    <tr>\n",
       "      <th>Subscriber-1985-1-2018-01-16-E 6 St &amp; Avenue B-Lafayette St &amp; E 8 St</th>\n",
       "      <td>340</td>\n",
       "      <td>2018-01-16 07:24:13.551</td>\n",
       "      <td>E 6 St &amp; Avenue B</td>\n",
       "      <td>Lafayette St &amp; E 8 St</td>\n",
       "      <td>Subscriber</td>\n",
       "      <td>1985</td>\n",
       "      <td>1</td>\n",
       "      <td>Morning</td>\n",
       "      <td>2018-01-16</td>\n",
       "    </tr>\n",
       "    <tr>\n",
       "      <th>Subscriber-1962-1-2018-01-13-W 59 St &amp; 10 Ave-W 31 St &amp; 7 Ave</th>\n",
       "      <td>790</td>\n",
       "      <td>2018-01-13 08:49:22.410</td>\n",
       "      <td>W 59 St &amp; 10 Ave</td>\n",
       "      <td>W 31 St &amp; 7 Ave</td>\n",
       "      <td>Subscriber</td>\n",
       "      <td>1962</td>\n",
       "      <td>1</td>\n",
       "      <td>Morning</td>\n",
       "      <td>2018-01-13</td>\n",
       "    </tr>\n",
       "    <tr>\n",
       "      <th>Subscriber-1991-1-2018-01-31-E 39 St &amp; 3 Ave-Broadway &amp; W 41 St</th>\n",
       "      <td>360</td>\n",
       "      <td>2018-01-31 08:50:10.374</td>\n",
       "      <td>E 39 St &amp; 3 Ave</td>\n",
       "      <td>Broadway &amp; W 41 St</td>\n",
       "      <td>Subscriber</td>\n",
       "      <td>1991</td>\n",
       "      <td>1</td>\n",
       "      <td>Morning</td>\n",
       "      <td>2018-01-31</td>\n",
       "    </tr>\n",
       "    <tr>\n",
       "      <th>Subscriber-1989-2-2018-01-25-Grand Ave &amp; Bergen St-Park Pl &amp; Vanderbilt Ave</th>\n",
       "      <td>321</td>\n",
       "      <td>2018-01-25 08:16:50.244</td>\n",
       "      <td>Grand Ave &amp; Bergen St</td>\n",
       "      <td>Park Pl &amp; Vanderbilt Ave</td>\n",
       "      <td>Subscriber</td>\n",
       "      <td>1989</td>\n",
       "      <td>2</td>\n",
       "      <td>Morning</td>\n",
       "      <td>2018-01-25</td>\n",
       "    </tr>\n",
       "  </tbody>\n",
       "</table>\n",
       "</div>"
      ],
      "text/plain": [
       "                                                    tripduration  \\\n",
       "Ukey                                                               \n",
       "Subscriber-1989-1-2018-01-18-Greenpoint Ave & M...           126   \n",
       "Subscriber-1985-1-2018-01-16-E 6 St & Avenue B-...           340   \n",
       "Subscriber-1962-1-2018-01-13-W 59 St & 10 Ave-W...           790   \n",
       "Subscriber-1991-1-2018-01-31-E 39 St & 3 Ave-Br...           360   \n",
       "Subscriber-1989-2-2018-01-25-Grand Ave & Bergen...           321   \n",
       "\n",
       "                                                                 starttime  \\\n",
       "Ukey                                                                         \n",
       "Subscriber-1989-1-2018-01-18-Greenpoint Ave & M... 2018-01-18 09:31:57.538   \n",
       "Subscriber-1985-1-2018-01-16-E 6 St & Avenue B-... 2018-01-16 07:24:13.551   \n",
       "Subscriber-1962-1-2018-01-13-W 59 St & 10 Ave-W... 2018-01-13 08:49:22.410   \n",
       "Subscriber-1991-1-2018-01-31-E 39 St & 3 Ave-Br... 2018-01-31 08:50:10.374   \n",
       "Subscriber-1989-2-2018-01-25-Grand Ave & Bergen... 2018-01-25 08:16:50.244   \n",
       "\n",
       "                                                                start_station_name  \\\n",
       "Ukey                                                                                 \n",
       "Subscriber-1989-1-2018-01-18-Greenpoint Ave & M...  Greenpoint Ave & Manhattan Ave   \n",
       "Subscriber-1985-1-2018-01-16-E 6 St & Avenue B-...               E 6 St & Avenue B   \n",
       "Subscriber-1962-1-2018-01-13-W 59 St & 10 Ave-W...                W 59 St & 10 Ave   \n",
       "Subscriber-1991-1-2018-01-31-E 39 St & 3 Ave-Br...                 E 39 St & 3 Ave   \n",
       "Subscriber-1989-2-2018-01-25-Grand Ave & Bergen...           Grand Ave & Bergen St   \n",
       "\n",
       "                                                            end_station_name  \\\n",
       "Ukey                                                                           \n",
       "Subscriber-1989-1-2018-01-18-Greenpoint Ave & M...   Milton St & Franklin St   \n",
       "Subscriber-1985-1-2018-01-16-E 6 St & Avenue B-...     Lafayette St & E 8 St   \n",
       "Subscriber-1962-1-2018-01-13-W 59 St & 10 Ave-W...           W 31 St & 7 Ave   \n",
       "Subscriber-1991-1-2018-01-31-E 39 St & 3 Ave-Br...        Broadway & W 41 St   \n",
       "Subscriber-1989-2-2018-01-25-Grand Ave & Bergen...  Park Pl & Vanderbilt Ave   \n",
       "\n",
       "                                                      usertype  birth_year  \\\n",
       "Ukey                                                                         \n",
       "Subscriber-1989-1-2018-01-18-Greenpoint Ave & M...  Subscriber        1989   \n",
       "Subscriber-1985-1-2018-01-16-E 6 St & Avenue B-...  Subscriber        1985   \n",
       "Subscriber-1962-1-2018-01-13-W 59 St & 10 Ave-W...  Subscriber        1962   \n",
       "Subscriber-1991-1-2018-01-31-E 39 St & 3 Ave-Br...  Subscriber        1991   \n",
       "Subscriber-1989-2-2018-01-25-Grand Ave & Bergen...  Subscriber        1989   \n",
       "\n",
       "                                                    gender commute_type  \\\n",
       "Ukey                                                                      \n",
       "Subscriber-1989-1-2018-01-18-Greenpoint Ave & M...       1      Morning   \n",
       "Subscriber-1985-1-2018-01-16-E 6 St & Avenue B-...       1      Morning   \n",
       "Subscriber-1962-1-2018-01-13-W 59 St & 10 Ave-W...       1      Morning   \n",
       "Subscriber-1991-1-2018-01-31-E 39 St & 3 Ave-Br...       1      Morning   \n",
       "Subscriber-1989-2-2018-01-25-Grand Ave & Bergen...       2      Morning   \n",
       "\n",
       "                                                          date  \n",
       "Ukey                                                            \n",
       "Subscriber-1989-1-2018-01-18-Greenpoint Ave & M...  2018-01-18  \n",
       "Subscriber-1985-1-2018-01-16-E 6 St & Avenue B-...  2018-01-16  \n",
       "Subscriber-1962-1-2018-01-13-W 59 St & 10 Ave-W...  2018-01-13  \n",
       "Subscriber-1991-1-2018-01-31-E 39 St & 3 Ave-Br...  2018-01-31  \n",
       "Subscriber-1989-2-2018-01-25-Grand Ave & Bergen...  2018-01-25  "
      ]
     },
     "execution_count": 45,
     "metadata": {},
     "output_type": "execute_result"
    }
   ],
   "source": [
    "# How to get dataframe column and types\n",
    "# morning_df['starttime'].dtype << Just 1 column\n",
    "# https://stackoverflow.com/a/43852726\n",
    "print(type(morning_commute_df))\n",
    "print(morning_commute_df.dtypes)\n",
    "morning_commute_df.head(5)"
   ]
  },
  {
   "cell_type": "code",
   "execution_count": 46,
   "metadata": {},
   "outputs": [],
   "source": [
    "# Join the two dataframe to get continued trip (need them to the same date)\n",
    "round_trip_df = morning_commute_df.join(evening_commute_df, how='inner', on='Ukey', lsuffix='', rsuffix='_right')"
   ]
  },
  {
   "cell_type": "code",
   "execution_count": 47,
   "metadata": {},
   "outputs": [],
   "source": [
    "# Round trip dataframe! :)\n",
    "round_trip_df = round_trip_df.sort_values(by ='date')"
   ]
  },
  {
   "cell_type": "code",
   "execution_count": 48,
   "metadata": {},
   "outputs": [],
   "source": [
    "# Next question is how to show it on google map?\n",
    "round_trip_view_df = round_trip_df.drop(\n",
    "    ['usertype_right', 'birth_year_right', 'gender_right','date_right'] \n",
    "    , axis=1)\n",
    "\n",
    "round_trip_view_df = round_trip_view_df.loc[round_trip_view_df['tripduration'] >= 600]\n",
    "round_trip_view_df = round_trip_view_df.sort_values('date')"
   ]
  },
  {
   "cell_type": "code",
   "execution_count": 49,
   "metadata": {},
   "outputs": [
    {
     "data": {
      "text/plain": [
       "(17644, 18)"
      ]
     },
     "execution_count": 49,
     "metadata": {},
     "output_type": "execute_result"
    }
   ],
   "source": [
    "# DataFrame.drop_duplicates\n",
    "round_trip_df = round_trip_df.drop_duplicates()\n",
    "round_trip_df.shape"
   ]
  },
  {
   "cell_type": "code",
   "execution_count": 50,
   "metadata": {},
   "outputs": [
    {
     "data": {
      "text/html": [
       "<div>\n",
       "<style scoped>\n",
       "    .dataframe tbody tr th:only-of-type {\n",
       "        vertical-align: middle;\n",
       "    }\n",
       "\n",
       "    .dataframe tbody tr th {\n",
       "        vertical-align: top;\n",
       "    }\n",
       "\n",
       "    .dataframe thead th {\n",
       "        text-align: right;\n",
       "    }\n",
       "</style>\n",
       "<table border=\"1\" class=\"dataframe\">\n",
       "  <thead>\n",
       "    <tr style=\"text-align: right;\">\n",
       "      <th></th>\n",
       "      <th>tripduration</th>\n",
       "      <th>starttime</th>\n",
       "      <th>start_station_name</th>\n",
       "      <th>end_station_name</th>\n",
       "      <th>usertype</th>\n",
       "      <th>birth_year</th>\n",
       "      <th>gender</th>\n",
       "      <th>commute_type</th>\n",
       "      <th>date</th>\n",
       "      <th>tripduration_right</th>\n",
       "      <th>starttime_right</th>\n",
       "      <th>start_station_name_right</th>\n",
       "      <th>end_station_name_right</th>\n",
       "      <th>usertype_right</th>\n",
       "      <th>birth_year_right</th>\n",
       "      <th>gender_right</th>\n",
       "      <th>commute_type_right</th>\n",
       "      <th>date_right</th>\n",
       "    </tr>\n",
       "    <tr>\n",
       "      <th>Ukey</th>\n",
       "      <th></th>\n",
       "      <th></th>\n",
       "      <th></th>\n",
       "      <th></th>\n",
       "      <th></th>\n",
       "      <th></th>\n",
       "      <th></th>\n",
       "      <th></th>\n",
       "      <th></th>\n",
       "      <th></th>\n",
       "      <th></th>\n",
       "      <th></th>\n",
       "      <th></th>\n",
       "      <th></th>\n",
       "      <th></th>\n",
       "      <th></th>\n",
       "      <th></th>\n",
       "      <th></th>\n",
       "    </tr>\n",
       "  </thead>\n",
       "  <tbody>\n",
       "    <tr>\n",
       "      <th>Subscriber-1979-1-2018-11-07-Prospect Pl &amp; 6 Ave-Schermerhorn St &amp; Bond St</th>\n",
       "      <td>528</td>\n",
       "      <td>2018-11-07 08:49:36.365</td>\n",
       "      <td>Prospect Pl &amp; 6 Ave</td>\n",
       "      <td>Schermerhorn St &amp; Bond St</td>\n",
       "      <td>Subscriber</td>\n",
       "      <td>1979</td>\n",
       "      <td>1</td>\n",
       "      <td>Morning</td>\n",
       "      <td>2018-11-07</td>\n",
       "      <td>510</td>\n",
       "      <td>2018-11-07 18:53:30.796</td>\n",
       "      <td>Schermerhorn St &amp; Bond St</td>\n",
       "      <td>Prospect Pl &amp; 6 Ave</td>\n",
       "      <td>Subscriber</td>\n",
       "      <td>1979</td>\n",
       "      <td>1</td>\n",
       "      <td>Evening</td>\n",
       "      <td>2018-11-07</td>\n",
       "    </tr>\n",
       "    <tr>\n",
       "      <th>Subscriber-1986-1-2018-08-02-Kent Ave &amp; N 7 St-Bedford Ave &amp; Nassau Ave</th>\n",
       "      <td>267</td>\n",
       "      <td>2018-08-02 08:06:02.063</td>\n",
       "      <td>Kent Ave &amp; N 7 St</td>\n",
       "      <td>Bedford Ave &amp; Nassau Ave</td>\n",
       "      <td>Subscriber</td>\n",
       "      <td>1986</td>\n",
       "      <td>1</td>\n",
       "      <td>Morning</td>\n",
       "      <td>2018-08-02</td>\n",
       "      <td>354</td>\n",
       "      <td>2018-08-02 16:56:46.946</td>\n",
       "      <td>Bedford Ave &amp; Nassau Ave</td>\n",
       "      <td>Kent Ave &amp; N 7 St</td>\n",
       "      <td>Subscriber</td>\n",
       "      <td>1986</td>\n",
       "      <td>1</td>\n",
       "      <td>Evening</td>\n",
       "      <td>2018-08-02</td>\n",
       "    </tr>\n",
       "    <tr>\n",
       "      <th>Subscriber-1969-0-2018-08-14-Broadway &amp; W 56 St-E 47 St &amp; Park Ave</th>\n",
       "      <td>558</td>\n",
       "      <td>2018-08-14 07:54:07.803</td>\n",
       "      <td>Broadway &amp; W 56 St</td>\n",
       "      <td>E 47 St &amp; Park Ave</td>\n",
       "      <td>Subscriber</td>\n",
       "      <td>1969</td>\n",
       "      <td>0</td>\n",
       "      <td>Morning</td>\n",
       "      <td>2018-08-14</td>\n",
       "      <td>481</td>\n",
       "      <td>2018-08-14 19:07:26.918</td>\n",
       "      <td>E 47 St &amp; Park Ave</td>\n",
       "      <td>Broadway &amp; W 56 St</td>\n",
       "      <td>Subscriber</td>\n",
       "      <td>1969</td>\n",
       "      <td>0</td>\n",
       "      <td>Evening</td>\n",
       "      <td>2018-08-14</td>\n",
       "    </tr>\n",
       "    <tr>\n",
       "      <th>Subscriber-1982-1-2018-10-19-W 17 St &amp; 9 Ave-Johnson St &amp; Gold St</th>\n",
       "      <td>1671</td>\n",
       "      <td>2018-10-19 09:07:49.232</td>\n",
       "      <td>W 17 St &amp; 9 Ave</td>\n",
       "      <td>Johnson St &amp; Gold St</td>\n",
       "      <td>Subscriber</td>\n",
       "      <td>1982</td>\n",
       "      <td>1</td>\n",
       "      <td>Morning</td>\n",
       "      <td>2018-10-19</td>\n",
       "      <td>1509</td>\n",
       "      <td>2018-10-19 18:37:41.642</td>\n",
       "      <td>Johnson St &amp; Gold St</td>\n",
       "      <td>W 17 St &amp; 9 Ave</td>\n",
       "      <td>Subscriber</td>\n",
       "      <td>1982</td>\n",
       "      <td>1</td>\n",
       "      <td>Evening</td>\n",
       "      <td>2018-10-19</td>\n",
       "    </tr>\n",
       "    <tr>\n",
       "      <th>Subscriber-1984-1-2018-04-10-W 34 St &amp; 11 Ave-12 Ave &amp; W 40 St</th>\n",
       "      <td>208</td>\n",
       "      <td>2018-04-10 08:54:32.625</td>\n",
       "      <td>W 34 St &amp; 11 Ave</td>\n",
       "      <td>12 Ave &amp; W 40 St</td>\n",
       "      <td>Subscriber</td>\n",
       "      <td>1984</td>\n",
       "      <td>1</td>\n",
       "      <td>Morning</td>\n",
       "      <td>2018-04-10</td>\n",
       "      <td>233</td>\n",
       "      <td>2018-04-10 20:10:35.926</td>\n",
       "      <td>12 Ave &amp; W 40 St</td>\n",
       "      <td>W 34 St &amp; 11 Ave</td>\n",
       "      <td>Subscriber</td>\n",
       "      <td>1984</td>\n",
       "      <td>1</td>\n",
       "      <td>Evening</td>\n",
       "      <td>2018-04-10</td>\n",
       "    </tr>\n",
       "  </tbody>\n",
       "</table>\n",
       "</div>"
      ],
      "text/plain": [
       "                                                    tripduration  \\\n",
       "Ukey                                                               \n",
       "Subscriber-1979-1-2018-11-07-Prospect Pl & 6 Av...           528   \n",
       "Subscriber-1986-1-2018-08-02-Kent Ave & N 7 St-...           267   \n",
       "Subscriber-1969-0-2018-08-14-Broadway & W 56 St...           558   \n",
       "Subscriber-1982-1-2018-10-19-W 17 St & 9 Ave-Jo...          1671   \n",
       "Subscriber-1984-1-2018-04-10-W 34 St & 11 Ave-1...           208   \n",
       "\n",
       "                                                                 starttime  \\\n",
       "Ukey                                                                         \n",
       "Subscriber-1979-1-2018-11-07-Prospect Pl & 6 Av... 2018-11-07 08:49:36.365   \n",
       "Subscriber-1986-1-2018-08-02-Kent Ave & N 7 St-... 2018-08-02 08:06:02.063   \n",
       "Subscriber-1969-0-2018-08-14-Broadway & W 56 St... 2018-08-14 07:54:07.803   \n",
       "Subscriber-1982-1-2018-10-19-W 17 St & 9 Ave-Jo... 2018-10-19 09:07:49.232   \n",
       "Subscriber-1984-1-2018-04-10-W 34 St & 11 Ave-1... 2018-04-10 08:54:32.625   \n",
       "\n",
       "                                                     start_station_name  \\\n",
       "Ukey                                                                      \n",
       "Subscriber-1979-1-2018-11-07-Prospect Pl & 6 Av...  Prospect Pl & 6 Ave   \n",
       "Subscriber-1986-1-2018-08-02-Kent Ave & N 7 St-...    Kent Ave & N 7 St   \n",
       "Subscriber-1969-0-2018-08-14-Broadway & W 56 St...   Broadway & W 56 St   \n",
       "Subscriber-1982-1-2018-10-19-W 17 St & 9 Ave-Jo...      W 17 St & 9 Ave   \n",
       "Subscriber-1984-1-2018-04-10-W 34 St & 11 Ave-1...     W 34 St & 11 Ave   \n",
       "\n",
       "                                                             end_station_name  \\\n",
       "Ukey                                                                            \n",
       "Subscriber-1979-1-2018-11-07-Prospect Pl & 6 Av...  Schermerhorn St & Bond St   \n",
       "Subscriber-1986-1-2018-08-02-Kent Ave & N 7 St-...   Bedford Ave & Nassau Ave   \n",
       "Subscriber-1969-0-2018-08-14-Broadway & W 56 St...         E 47 St & Park Ave   \n",
       "Subscriber-1982-1-2018-10-19-W 17 St & 9 Ave-Jo...       Johnson St & Gold St   \n",
       "Subscriber-1984-1-2018-04-10-W 34 St & 11 Ave-1...           12 Ave & W 40 St   \n",
       "\n",
       "                                                      usertype  birth_year  \\\n",
       "Ukey                                                                         \n",
       "Subscriber-1979-1-2018-11-07-Prospect Pl & 6 Av...  Subscriber        1979   \n",
       "Subscriber-1986-1-2018-08-02-Kent Ave & N 7 St-...  Subscriber        1986   \n",
       "Subscriber-1969-0-2018-08-14-Broadway & W 56 St...  Subscriber        1969   \n",
       "Subscriber-1982-1-2018-10-19-W 17 St & 9 Ave-Jo...  Subscriber        1982   \n",
       "Subscriber-1984-1-2018-04-10-W 34 St & 11 Ave-1...  Subscriber        1984   \n",
       "\n",
       "                                                    gender commute_type  \\\n",
       "Ukey                                                                      \n",
       "Subscriber-1979-1-2018-11-07-Prospect Pl & 6 Av...       1      Morning   \n",
       "Subscriber-1986-1-2018-08-02-Kent Ave & N 7 St-...       1      Morning   \n",
       "Subscriber-1969-0-2018-08-14-Broadway & W 56 St...       0      Morning   \n",
       "Subscriber-1982-1-2018-10-19-W 17 St & 9 Ave-Jo...       1      Morning   \n",
       "Subscriber-1984-1-2018-04-10-W 34 St & 11 Ave-1...       1      Morning   \n",
       "\n",
       "                                                          date  \\\n",
       "Ukey                                                             \n",
       "Subscriber-1979-1-2018-11-07-Prospect Pl & 6 Av...  2018-11-07   \n",
       "Subscriber-1986-1-2018-08-02-Kent Ave & N 7 St-...  2018-08-02   \n",
       "Subscriber-1969-0-2018-08-14-Broadway & W 56 St...  2018-08-14   \n",
       "Subscriber-1982-1-2018-10-19-W 17 St & 9 Ave-Jo...  2018-10-19   \n",
       "Subscriber-1984-1-2018-04-10-W 34 St & 11 Ave-1...  2018-04-10   \n",
       "\n",
       "                                                    tripduration_right  \\\n",
       "Ukey                                                                     \n",
       "Subscriber-1979-1-2018-11-07-Prospect Pl & 6 Av...                 510   \n",
       "Subscriber-1986-1-2018-08-02-Kent Ave & N 7 St-...                 354   \n",
       "Subscriber-1969-0-2018-08-14-Broadway & W 56 St...                 481   \n",
       "Subscriber-1982-1-2018-10-19-W 17 St & 9 Ave-Jo...                1509   \n",
       "Subscriber-1984-1-2018-04-10-W 34 St & 11 Ave-1...                 233   \n",
       "\n",
       "                                                           starttime_right  \\\n",
       "Ukey                                                                         \n",
       "Subscriber-1979-1-2018-11-07-Prospect Pl & 6 Av... 2018-11-07 18:53:30.796   \n",
       "Subscriber-1986-1-2018-08-02-Kent Ave & N 7 St-... 2018-08-02 16:56:46.946   \n",
       "Subscriber-1969-0-2018-08-14-Broadway & W 56 St... 2018-08-14 19:07:26.918   \n",
       "Subscriber-1982-1-2018-10-19-W 17 St & 9 Ave-Jo... 2018-10-19 18:37:41.642   \n",
       "Subscriber-1984-1-2018-04-10-W 34 St & 11 Ave-1... 2018-04-10 20:10:35.926   \n",
       "\n",
       "                                                     start_station_name_right  \\\n",
       "Ukey                                                                            \n",
       "Subscriber-1979-1-2018-11-07-Prospect Pl & 6 Av...  Schermerhorn St & Bond St   \n",
       "Subscriber-1986-1-2018-08-02-Kent Ave & N 7 St-...   Bedford Ave & Nassau Ave   \n",
       "Subscriber-1969-0-2018-08-14-Broadway & W 56 St...         E 47 St & Park Ave   \n",
       "Subscriber-1982-1-2018-10-19-W 17 St & 9 Ave-Jo...       Johnson St & Gold St   \n",
       "Subscriber-1984-1-2018-04-10-W 34 St & 11 Ave-1...           12 Ave & W 40 St   \n",
       "\n",
       "                                                   end_station_name_right  \\\n",
       "Ukey                                                                        \n",
       "Subscriber-1979-1-2018-11-07-Prospect Pl & 6 Av...    Prospect Pl & 6 Ave   \n",
       "Subscriber-1986-1-2018-08-02-Kent Ave & N 7 St-...      Kent Ave & N 7 St   \n",
       "Subscriber-1969-0-2018-08-14-Broadway & W 56 St...     Broadway & W 56 St   \n",
       "Subscriber-1982-1-2018-10-19-W 17 St & 9 Ave-Jo...        W 17 St & 9 Ave   \n",
       "Subscriber-1984-1-2018-04-10-W 34 St & 11 Ave-1...       W 34 St & 11 Ave   \n",
       "\n",
       "                                                   usertype_right  \\\n",
       "Ukey                                                                \n",
       "Subscriber-1979-1-2018-11-07-Prospect Pl & 6 Av...     Subscriber   \n",
       "Subscriber-1986-1-2018-08-02-Kent Ave & N 7 St-...     Subscriber   \n",
       "Subscriber-1969-0-2018-08-14-Broadway & W 56 St...     Subscriber   \n",
       "Subscriber-1982-1-2018-10-19-W 17 St & 9 Ave-Jo...     Subscriber   \n",
       "Subscriber-1984-1-2018-04-10-W 34 St & 11 Ave-1...     Subscriber   \n",
       "\n",
       "                                                    birth_year_right  \\\n",
       "Ukey                                                                   \n",
       "Subscriber-1979-1-2018-11-07-Prospect Pl & 6 Av...              1979   \n",
       "Subscriber-1986-1-2018-08-02-Kent Ave & N 7 St-...              1986   \n",
       "Subscriber-1969-0-2018-08-14-Broadway & W 56 St...              1969   \n",
       "Subscriber-1982-1-2018-10-19-W 17 St & 9 Ave-Jo...              1982   \n",
       "Subscriber-1984-1-2018-04-10-W 34 St & 11 Ave-1...              1984   \n",
       "\n",
       "                                                    gender_right  \\\n",
       "Ukey                                                               \n",
       "Subscriber-1979-1-2018-11-07-Prospect Pl & 6 Av...             1   \n",
       "Subscriber-1986-1-2018-08-02-Kent Ave & N 7 St-...             1   \n",
       "Subscriber-1969-0-2018-08-14-Broadway & W 56 St...             0   \n",
       "Subscriber-1982-1-2018-10-19-W 17 St & 9 Ave-Jo...             1   \n",
       "Subscriber-1984-1-2018-04-10-W 34 St & 11 Ave-1...             1   \n",
       "\n",
       "                                                   commute_type_right  \\\n",
       "Ukey                                                                    \n",
       "Subscriber-1979-1-2018-11-07-Prospect Pl & 6 Av...            Evening   \n",
       "Subscriber-1986-1-2018-08-02-Kent Ave & N 7 St-...            Evening   \n",
       "Subscriber-1969-0-2018-08-14-Broadway & W 56 St...            Evening   \n",
       "Subscriber-1982-1-2018-10-19-W 17 St & 9 Ave-Jo...            Evening   \n",
       "Subscriber-1984-1-2018-04-10-W 34 St & 11 Ave-1...            Evening   \n",
       "\n",
       "                                                    date_right  \n",
       "Ukey                                                            \n",
       "Subscriber-1979-1-2018-11-07-Prospect Pl & 6 Av...  2018-11-07  \n",
       "Subscriber-1986-1-2018-08-02-Kent Ave & N 7 St-...  2018-08-02  \n",
       "Subscriber-1969-0-2018-08-14-Broadway & W 56 St...  2018-08-14  \n",
       "Subscriber-1982-1-2018-10-19-W 17 St & 9 Ave-Jo...  2018-10-19  \n",
       "Subscriber-1984-1-2018-04-10-W 34 St & 11 Ave-1...  2018-04-10  "
      ]
     },
     "execution_count": 50,
     "metadata": {},
     "output_type": "execute_result"
    }
   ],
   "source": [
    "round_trip_df.sample(5)"
   ]
  }
 ],
 "metadata": {
  "kernelspec": {
   "display_name": "Python 3",
   "language": "python",
   "name": "python3"
  },
  "language_info": {
   "codemirror_mode": {
    "name": "ipython",
    "version": 3
   },
   "file_extension": ".py",
   "mimetype": "text/x-python",
   "name": "python",
   "nbconvert_exporter": "python",
   "pygments_lexer": "ipython3",
   "version": "3.7.3"
  }
 },
 "nbformat": 4,
 "nbformat_minor": 2
}
