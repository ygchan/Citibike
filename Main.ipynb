{
 "cells": [
  {
   "cell_type": "code",
   "execution_count": null,
   "metadata": {},
   "outputs": [],
   "source": [
    "# Citibike 2019 project, analyzing 2018 date of service trip data\n",
    "# Author: George Chan, Sean Guo"
   ]
  },
  {
   "cell_type": "code",
   "execution_count": null,
   "metadata": {},
   "outputs": [],
   "source": [
    "# Import library and modules\n",
    "import pandas as pd\n",
    "import glob\n",
    "import numpy as np\n",
    "import os\n",
    "from datetime import timedelta\n",
    "import matplotlib\n",
    "import pickle\n",
    "\n",
    "# Future use\n",
    "# https://markhneedham.com/blog/2018/09/18/matplotlib-remove-axis-legend/"
   ]
  },
  {
   "cell_type": "code",
   "execution_count": null,
   "metadata": {},
   "outputs": [],
   "source": [
    "# Define where are the citibke 2018 zipfiles\n",
    "data_folder = r'./Data/'\n",
    "print('The data are stored in: ' + data_folder)\n",
    "\n",
    "# this is for push test\n",
    "# this is another push test"
   ]
  },
  {
   "cell_type": "code",
   "execution_count": null,
   "metadata": {},
   "outputs": [],
   "source": [
    "# Check what are the files in that folder\n",
    "for folderName, subfolders, filenames in os.walk(data_folder):\n",
    "    print('Here are the list of csv zip files you have downloaded.\\n')\n",
    "    print(folderName)\n",
    "    \n",
    "    number_of_csv_file = 0 # Total count of files read\n",
    "    all_files = []         # List of file path string\n",
    "    \n",
    "    # Reference 01: How to get index within for loop?\n",
    "    # Reference 02: How to pad number with leading zeros?\n",
    "    for filename in filenames:\n",
    "        \n",
    "        # If and only if they are csv files\n",
    "        if filename.endswith('.csv'):\n",
    "            number_of_csv_file += 1\n",
    "            \n",
    "            # Print to terminal to show user what files is found\n",
    "            print('\\t' + str(number_of_csv_file).zfill(2) + ': ' + filename)\n",
    "            all_files.append(data_folder + filename)\n",
    "            \n",
    "    # all_files = all_files.sort()\n",
    "            \n",
    "    # Warning message if you forgot to download all 12 months.\n",
    "    # For our project we want exactly 12 file\n",
    "    if number_of_csv_file != 12:\n",
    "        print('Sorry, I think you are missing some files?')\n",
    "        \n",
    "        # Attempt to safely exit the program\n",
    "        raise SystemExit"
   ]
  },
  {
   "cell_type": "code",
   "execution_count": null,
   "metadata": {},
   "outputs": [],
   "source": [
    "# Creating a list of all CSV file in the path directory\n",
    "# all_files = glob.glob(data_folder + \"/*.csv\")\n",
    "\n",
    "# tempCitibike list that store the file data frame\n",
    "tempCitibike = []\n",
    "\n",
    "# Track how many records total\n",
    "totalRecordCount = 0\n",
    "\n",
    "pickle_storage = 'citibike2018.pkl'\n",
    "\n",
    "# If the file was properly loaded last time, re-use that dataframe\n",
    "if (os.path.exists(pickle_storage)):\n",
    "    citibike = pd.read_pickle(pickle_storage)\n",
    "\n",
    "# Otherwise Load it from scratch\n",
    "else:\n",
    "    # Loop and append the dataframes into tempCitibke List\n",
    "    for filename in sorted(all_files):\n",
    "        # Filename is the path/file.ext\n",
    "        print(os.path.basename(filename), end=\" \")\n",
    "\n",
    "        # df contains the entire dataset (CSV)\n",
    "        df = pd.read_csv(filename) \n",
    "\n",
    "        # How to filter by values\n",
    "        # https://stackoverflow.com/q/17071871\n",
    "\n",
    "        # Experiment to see if only using annual membership will show a different\n",
    "        # df = df.loc[df['usertype'] == 'Subscriber']\n",
    "\n",
    "        # Because my laptop is too slow .... :P\n",
    "        # Radnomly select 10% of the data, with random_state = 1\n",
    "        df = df.sample(frac = 0.1, replace = True, random_state = 1)\n",
    "\n",
    "        # Output the (rowCount, columnCount) to terminal\n",
    "        print(\"size: \" + str(df.shape))\n",
    "\n",
    "        totalRecordCount += df.shape[0]\n",
    "        tempCitibike.append(df)\n",
    "\n",
    "    # Combine the tempCitibike dfs together\n",
    "    citibike = pd.concat(tempCitibike)\n",
    "    print(\"\\nThere are \" + \"{:,}\".format(totalRecordCount) + \" number of records.\")\n",
    "    print(\"Before dropping NaN: \" + \"{:,}\".format(citibike.shape[0]))\n",
    "\n",
    "    # Drop rows with any (missing) variables\n",
    "    # Improve performance by not using inplace option\n",
    "    # Reference: https://stackoverflow.com/q/22532302\n",
    "    citibike = citibike.dropna()\n",
    "\n",
    "    print(\"After dropping NaN:  \" + \"{:,}\".format(citibike.shape[0]))\n",
    "    \n",
    "    # Store the citibike dataframe into a pickle object for future reference\n",
    "    # This can save time from re-running the entire 17M records.\n",
    "    citibike.to_pickle('citibike2018.pkl')"
   ]
  },
  {
   "cell_type": "code",
   "execution_count": null,
   "metadata": {},
   "outputs": [],
   "source": [
    "# Sample my dataset\n",
    "citibike.head()"
   ]
  },
  {
   "cell_type": "markdown",
   "metadata": {},
   "source": [
    "# Question 01: What is daily and monthly total ridership in 2018?"
   ]
  },
  {
   "cell_type": "code",
   "execution_count": null,
   "metadata": {},
   "outputs": [],
   "source": [
    "# What is the type of the starttime?\n",
    "print('Type: ' + str(type(citibike['starttime'].values[0])))\n",
    "print(citibike['starttime'].values[0])"
   ]
  },
  {
   "cell_type": "code",
   "execution_count": null,
   "metadata": {},
   "outputs": [],
   "source": [
    "# Need to convert start_time and stop_time to datetime\n",
    "from datetime import datetime\n",
    "\n",
    "formatString = '%Y-%m-%d %H:%M:%S.%f'\n",
    "\n",
    "# Reference 03: Convert datetime column into \n",
    "citibike['starttime'] = pd.to_datetime(citibike['starttime'], format=formatString)\n",
    "citibike['stoptime'] = pd.to_datetime(citibike['stoptime'], format=formatString)"
   ]
  },
  {
   "cell_type": "code",
   "execution_count": null,
   "metadata": {},
   "outputs": [],
   "source": [
    "# Confirm such convertion work, should be datetime64!\n",
    "print('Type: ' + str(type(citibike['starttime'].values[0])))\n",
    "print(citibike['starttime'].values[0])"
   ]
  },
  {
   "cell_type": "code",
   "execution_count": null,
   "metadata": {},
   "outputs": [],
   "source": [
    "# Reference 03: Group by month on datetime columns\n",
    "# Create another pandas dataframe that only has 1 columns\n",
    "citibike_monthly_df = citibike.filter(['starttime']) # Monthly dataframe\n",
    "citibike_daily_df = citibike.filter(['starttime'])   # Daily dataframe\n",
    "\n",
    "# Each of the starttime is now converted into YYYY-MM\n",
    "citibike_monthly_df.starttime = pd.to_datetime(citibike_monthly_df.starttime).dt.to_period('m')\n",
    "citibike_daily_df.starttime = pd.to_datetime(citibike_daily_df.starttime).dt.to_period('d')\n",
    "\n",
    "# Confirm if they are correct\n",
    "citibike_daily_df.head()\n",
    "citibike_monthly_df.head()"
   ]
  },
  {
   "cell_type": "code",
   "execution_count": null,
   "metadata": {},
   "outputs": [],
   "source": [
    "# Get frequency count of ridership data by month and day\n",
    "monthly_answer = citibike_monthly_df.groupby(['starttime']).size()\n",
    "daily_answer = citibike_daily_df.groupby(['starttime']).size()"
   ]
  },
  {
   "cell_type": "code",
   "execution_count": null,
   "metadata": {},
   "outputs": [],
   "source": [
    "# Checking to see what is monthly_answer type.\n",
    "type(monthly_answer)"
   ]
  },
  {
   "cell_type": "code",
   "execution_count": null,
   "metadata": {},
   "outputs": [],
   "source": [
    "# Draw a basic plot for the monthly ridership data\n",
    "monthly_answer.plot(\n",
    "    figsize = (20,10), \n",
    "    kind = 'bar',\n",
    "    title = '2018 Monthly Citibike Ridership Count',\n",
    "    fontsize = 14,\n",
    "    rot=0)\n",
    "\n",
    "# Finally learned how to do it, you have to assign it to an object first.\n",
    "# Reference: https://stackoverflow.com/a/21487560\n",
    "\n",
    "# Then use set_xlable ...\n",
    "# ax.set_xlabel('')\n",
    "\n",
    "# Very complicated, \n",
    "# Reference: https://stackoverflow.com/a/25973637\n",
    "# ax.get_yaxis().set_major_formatter(\n",
    "#    matplotlib.ticker.FuncFormatter(lambda y, p: format(int(y), ',')))"
   ]
  },
  {
   "cell_type": "code",
   "execution_count": null,
   "metadata": {},
   "outputs": [],
   "source": [
    "# Create a monthly temperature dictionary, data otained from google.\n",
    "# probably need to find a way to get daily temperature in order to do more \n",
    "# in depth analysis and build a regression model.\n",
    "temperature_dict = {\n",
    "    'Month':['2018-01', \n",
    "             '2018-02',\n",
    "             '2018-03',\n",
    "             '2018-04',\n",
    "             '2018-05',\n",
    "             '2018-06',\n",
    "             '2018-07',\n",
    "             '2018-08',\n",
    "             '2018-09',\n",
    "             '2018-10',\n",
    "             '2018-11',\n",
    "             '2018-12'],\n",
    "    'Temperature':[32.5, 35.5, 42.5, 53, 62.5, 71.5, 76.5, 75.5, 68, 57, 48, 37.5]\n",
    "}\n",
    "\n",
    "# Create a dataframe using the dictionary data\n",
    "temperature_df = pd.DataFrame.from_dict(temperature_dict)\n",
    "\n",
    "# Rename the columns properly\n",
    "temperature_df = temperature_df.rename(index=str, columns={\"Month\": \"Month\", \"Temperature\": \"Temperature\"})\n",
    "\n",
    "# Learned how to add x & y axis label\n",
    "temperature_df.plot(\n",
    "    x = 'Month',\n",
    "    y = 'Temperature',\n",
    "    figsize = (20,10), \n",
    "    kind = 'line',\n",
    "    title = '2018 Average Temperature',\n",
    "    fontsize = 14,\n",
    "    linewidth = 4.0, \n",
    "    markeredgewidth = 10.0,\n",
    "    linestyle = '--', \n",
    "    marker = 'o',\n",
    "    rot = 0)"
   ]
  },
  {
   "cell_type": "code",
   "execution_count": null,
   "metadata": {},
   "outputs": [],
   "source": [
    "daily_answer.plot(\n",
    "    figsize = (20,10),\n",
    "    kind = 'bar',\n",
    "    title = '2018 Monthly Citibike Ridership Count',\n",
    "    fontsize = 14,\n",
    "    legend=False)"
   ]
  },
  {
   "cell_type": "markdown",
   "metadata": {},
   "source": [
    "# Question 02: Pending"
   ]
  },
  {
   "cell_type": "code",
   "execution_count": null,
   "metadata": {},
   "outputs": [],
   "source": [
    "# Enter Python & Pandas Code here :)"
   ]
  },
  {
   "cell_type": "markdown",
   "metadata": {},
   "source": [
    "# Question 03: What is the most / least popular station?"
   ]
  },
  {
   "cell_type": "code",
   "execution_count": null,
   "metadata": {},
   "outputs": [],
   "source": [
    "# Most busy start station\n",
    "# https://stackoverflow.com/q/29836477\n",
    "# http://pandas.pydata.org/pandas-docs/stable/reference/api/pandas.DataFrame.sort_values.html\n",
    "key = 'start station name'\n",
    "start_station_df = citibike.groupby(key)[key].count().reset_index(name = 'count')\n",
    "start_station_df.sort_values(by = 'count', ascending = False, inplace = True)\n",
    "\n",
    "# The most popular start stations award goes to...\n",
    "print('The most popular start station: ' + str(start_station_df.iloc[0][0]), end = '')\n",
    "print(' ({:,} times)'.format(start_station_df.iloc[0][1]))\n",
    "\n",
    "# Most busy end station\n",
    "key = 'end station name'\n",
    "end_station_df = citibike.groupby(key)[key].count().reset_index(name = 'count')\n",
    "end_station_df.sort_values(by = 'count', ascending = False, inplace = True)\n",
    "\n",
    "print('The most popular end station:   ' + str(end_station_df.iloc[0][0]), end = '')\n",
    "print(' ({:,} times)'.format(end_station_df.iloc[0][1]))\n",
    "\n",
    "# Some information about this station\n",
    "print('\\nFrom Wiki: Pershing Square is a public square in Manhattan, New York City. ')\n",
    "print('Located where Park Avenue and 42nd Street intersect in front of Grand Central Terminal.')\n",
    "print('The main roadway of Park Avenue crosses over 42nd Street on the Park Avenue Viaduct. ')\n",
    "print('It is also known as the Pershing Square Viaduct.')\n",
    "\n",
    "# Top 10 one way direction...\n",
    "# Chart Annual rider vs. Weekly rider vs. Single rider\n",
    "\n",
    "# School station analysis (Where do they go?)\n",
    "# Male and Female trips\n",
    "# Age Group\n",
    "\n",
    "# Longest trip (Distance formula)\n",
    "# Shortest trip (Distance formula)\n",
    "# Holiday trip (Federal Holiday)"
   ]
  },
  {
   "cell_type": "code",
   "execution_count": null,
   "metadata": {},
   "outputs": [],
   "source": [
    "# https://stackoverflow.com/q/54009788\n",
    "# This analysis exclude the trip where they start and end at the same station\n",
    "# Because it is actually central park, I am guessing for tourist?\n",
    "\n",
    "# Do not want the trip start and end at the same place\n",
    "citibike_trip = citibike[citibike['start station name'] != citibike['end station name']]\n",
    "\n",
    "# Create a subset dataframe with only start & end station name\n",
    "citibike_trip = citibike_trip.filter(['start station name', 'end station name'])\n",
    "\n",
    "# Create the trip string\n",
    "citibike_trip['trip'] = citibike_trip['start station name'] + ' to ' + citibike_trip['end station name']\n",
    "\n",
    "# Group by trip and add count column\n",
    "trip_df = citibike_trip.groupby('trip')['trip'].count().reset_index(name = 'count')\n",
    "trip_df.sort_values(by = 'count', ascending = False, inplace = True)\n",
    "\n",
    "# Print out the result\n",
    "print('The most popular ride is : ' + trip_df.iloc[0][0], end = '')\n",
    "print(' ({} times)'.format(trip_df.iloc[0][1]))\n",
    "print('The least popular ride is: ' + trip_df.iloc[-1][0], end = '')\n",
    "print(' ({} times)'.format(trip_df.iloc[-1][1]))"
   ]
  },
  {
   "cell_type": "markdown",
   "metadata": {},
   "source": [
    "# Top 10 poupar trips in 2018"
   ]
  },
  {
   "cell_type": "code",
   "execution_count": null,
   "metadata": {},
   "outputs": [],
   "source": [
    "# Take a look at the top 10 popular trips\n",
    "trip_df.head(10)"
   ]
  },
  {
   "cell_type": "markdown",
   "metadata": {},
   "source": [
    "# What are the type of membership (Annual members or paid per ride?)"
   ]
  },
  {
   "cell_type": "code",
   "execution_count": null,
   "metadata": {},
   "outputs": [],
   "source": [
    "membership_df = citibike.groupby('usertype')['usertype'].count()\n",
    "membership_df = membership_df.reset_index(name = 'count')\n",
    "membership_df = membership_df.set_index(['usertype'])\n",
    "\n",
    "# Set the index so it will print properly\n",
    "membership_df"
   ]
  },
  {
   "cell_type": "code",
   "execution_count": null,
   "metadata": {},
   "outputs": [],
   "source": [
    "# Reference: https://markhneedham.com/blog/2018/09/18/matplotlib-remove-axis-legend/\n",
    "membership_df.plot(\n",
    "    title = '2018 Citibike Rider Membership Data', \n",
    "    fontsize = 14,\n",
    "    kind = 'bar',\n",
    "    rot = 0,\n",
    "    legend = None)"
   ]
  },
  {
   "cell_type": "code",
   "execution_count": null,
   "metadata": {},
   "outputs": [],
   "source": [
    "gender_df = citibike.groupby('gender')['gender'].count()\n",
    "gender_df = gender_df.reset_index(name = 'count')\n",
    "gender_df = gender_df.set_index(['gender'])\n",
    "\n",
    "# Set the index so it will print properly\n",
    "gender_df"
   ]
  },
  {
   "cell_type": "code",
   "execution_count": null,
   "metadata": {},
   "outputs": [],
   "source": [
    "# Reference: https://markhneedham.com/blog/2018/09/18/matplotlib-remove-axis-legend/\n",
    "gender_df.plot(\n",
    "    title = '2018 Citibike Rider Gender',\n",
    "    fontsize = 14,\n",
    "    kind = 'bar',\n",
    "    rot = 0,\n",
    "    legend = None)"
   ]
  },
  {
   "cell_type": "code",
   "execution_count": null,
   "metadata": {},
   "outputs": [],
   "source": [
    "# Age Group\n",
    "# https://stackoverflow.com/a/34683105\n",
    "age_df = citibike[['birth year']].copy()\n",
    "\n",
    "# Replace the column names\n",
    "age_df.columns = age_df.columns.str.strip().str.lower().str.replace(' ', '_')\n",
    "\n",
    "# Failed attempt...\n",
    "# age_df['age'] = age_df.apply(lambda row: row['birth_year'])\n",
    "\n",
    "def get_age(year_of_birth):\n",
    "    result = 2019 - int(year_of_birth)\n",
    "    if result >= 0 and result <=80 and result != 50:\n",
    "        return result\n",
    "    else:\n",
    "        return -1\n",
    "\n",
    "# Calculate a new column by using vectorize method\n",
    "age_df['age'] = np.vectorize(get_age)(age_df['birth_year'])\n",
    "\n",
    "age_df = age_df[age_df['age'] != -1]\n",
    "\n",
    "age_plot_df = age_df.groupby('age')['age'].count()\n",
    "age_plot_df = age_plot_df.reset_index(name = 'count')\n",
    "age_plot_df = age_plot_df.set_index(['age'])"
   ]
  },
  {
   "cell_type": "code",
   "execution_count": null,
   "metadata": {},
   "outputs": [],
   "source": [
    "age_plot_df.plot(\n",
    "    figsize = (20,10), \n",
    "    title = '2018 Citibike Rider Age', \n",
    "    fontsize = 14,\n",
    "    kind = 'bar',\n",
    "    rot = 0,\n",
    "    legend = None)"
   ]
  },
  {
   "cell_type": "code",
   "execution_count": null,
   "metadata": {},
   "outputs": [],
   "source": [
    "# bins = [0, 24, 59, 999]\n",
    "# labels = ['Student <=24','Adult','Senior Adult']\n",
    "\n",
    "bins = [0, 20, 30, 40, 50, 60, 100]\n",
    "labels = ['10-20', '21-30', '31-40', '41-50', '51-60', '60 and Above']\n",
    "\n",
    "age_df['AgeGroup'] = pd.cut(age_df['age'], bins=bins, labels=labels, right=False)\n",
    "\n",
    "agegroup_plot_df = age_df.groupby('AgeGroup')['AgeGroup'].count()\n",
    "agegroup_plot_df = agegroup_plot_df.reset_index(name = 'count')\n",
    "agegroup_plot_df = agegroup_plot_df.set_index(['AgeGroup'])\n",
    "\n",
    "agegroup_plot_df.plot(\n",
    "    figsize = (20,10), \n",
    "    title = '2018 Citibike Rider Age Group', \n",
    "    fontsize = 14,\n",
    "    kind = 'bar',\n",
    "    rot = 0,\n",
    "    legend = None)"
   ]
  },
  {
   "cell_type": "code",
   "execution_count": null,
   "metadata": {},
   "outputs": [],
   "source": [
    "gender_df = citibike.groupby('gender')['gender'].count()\n",
    "gender_df = gender_df.reset_index(name = 'count')\n",
    "gender_df = gender_df.set_index(['gender'])\n",
    "\n",
    "# Set the index so it will print properly\n",
    "gender_df"
   ]
  },
  {
   "cell_type": "code",
   "execution_count": null,
   "metadata": {},
   "outputs": [],
   "source": [
    "# new_index = ['Unknown', 'Male', 'Female']\n",
    "# gender_df.reindex(index=new_index)\n",
    "\n",
    "# df.set_index([pd.Index([1, 2, 3, 4]), 'year'])\n",
    "gender_df.set_index([pd.Index(['Unknown', 'Male', 'Female']), 'gender'])"
   ]
  },
  {
   "cell_type": "code",
   "execution_count": null,
   "metadata": {},
   "outputs": [],
   "source": [
    "# monthly_mean.reset_index().plot(x='index', y='A')\n",
    "gender_df.plot(kind='bar', x='gender')"
   ]
  },
  {
   "cell_type": "code",
   "execution_count": null,
   "metadata": {},
   "outputs": [],
   "source": [
    "temp.reset_index()"
   ]
  },
  {
   "cell_type": "code",
   "execution_count": null,
   "metadata": {},
   "outputs": [],
   "source": [
    "# https://stackoverflow.com/a/43211266\n",
    "from math import sin, cos, sqrt, atan2, radians\n",
    "\n",
    "\n",
    "def get_distance(lat1, lon1, lat2, lon2):\n",
    "    # approximate radius of earth in miles \n",
    "    R = 3958.8\n",
    "\n",
    "    lat1 = radians(lat1)\n",
    "    lon1 = radians(lon1)\n",
    "    lat2 = radians(lat2)\n",
    "    lon2 = radians(lon2)\n",
    "\n",
    "    dlon = lon2 - lon1\n",
    "    dlat = lat2 - lat1\n",
    "\n",
    "    a = sin(dlat / 2)**2 + cos(lat1) * cos(lat2) * sin(dlon / 2)**2\n",
    "    c = 2 * atan2(sqrt(a), sqrt(1 - a))\n",
    "\n",
    "    distance = R * c\n",
    "    return distance\n",
    "\n",
    "def get_duration(datetime1, datetime2):\n",
    "    # https://stackoverflow.com/a/14920923\n",
    "    duration = datetime2 - datetime1\n",
    "    return duration.total_seconds()\n",
    "    \n",
    "def get_speed(distance, duration):\n",
    "    hour = 60.0 * 60.0 * 60.0 / (seconds)\n",
    "    \n",
    "    # return distance per hour\n",
    "    return (distance/hour)\n",
    "\n",
    "ans = get_distance(40.729538, -73.984267, 40.736197, -74.008592)\n",
    "ans = get_distance(40.730260, -73.953940, 40.729060, -73.957790)\n",
    "\n",
    "print(\"Result:\", ans)"
   ]
  },
  {
   "cell_type": "code",
   "execution_count": null,
   "metadata": {
    "scrolled": true
   },
   "outputs": [],
   "source": [
    "import numpy as np\n",
    "\n",
    "df = citibike.sample(frac = 0.1, replace = True, random_state = 1)\n",
    "\n",
    "# Vectorize: https://stackoverflow.com/q/19914937\n",
    "# start station latitude, start station longitude\n",
    "df['distance'] = np.vectorize(get_distance)(df['start station latitude'],\n",
    "                                     df['start station longitude'],\n",
    "                                     df['end station latitude'],\n",
    "                                     df['end station longitude'])\n",
    "\n",
    "\n",
    "\n",
    "# df['duration'] = np.vectorize(get_duration)(df['starttime'], df['stoptime'])\n",
    "# df['C'] = (df['B'] - df['A'])/ np.timedelta64(1, 's')\n",
    "df['duration'] = (df['stoptime'] - df['starttime']) / np.timedelta64(1, 's')\n",
    "\n",
    "df['speed'] = (df['distance'] / ((60.0 * 60.0) / df['duration']))\n",
    "\n",
    "# citibike_trip = citibike[citibike['start station name'] != citibike['end station name']]\n",
    "commute_trip = df[df['start station name'] != df['end station name']]\n",
    "\n",
    "# Limit the ride that is slower than walking and within reason (race bike...)\n",
    "commute_trip = commute_trip[(commute_trip['speed'] >= 3.5)\n",
    "                            & (commute_trip['speed'] <= 25)]\n",
    "\n",
    "# commute_trip = commute_trip[commute_trip['birth year'] >= 1989]\n",
    "\n",
    "'''\n",
    "Speeds above 16 mph are considered very vigorous while riding a bicycle. \n",
    "A light pace would be 10 to 11.9 mph while a moderate pace is categorized as 12 to 13.9 mph. \n",
    "If you are a beginner, start at a light or moderate pace and ride at speeds between 10 and 14 mph.\n",
    "'''\n",
    "\n",
    "speed_bins = [0, 9, 12, 15, 99]\n",
    "speed_labels = ['Leisurely (< 9 MPH)', 'Fast MPH (9 - 11.9 MPH)', 'Moderate (12 - 14.9 MPH)', 'Vigorous (15 MPH+)']\n",
    "\n",
    "commute_trip['SpeedGroup'] = pd.cut(commute_trip['speed'], bins=speed_bins, labels=speed_labels, right=False)"
   ]
  },
  {
   "cell_type": "markdown",
   "metadata": {},
   "source": [
    "# To do: Look up scientific information about age group/ speed."
   ]
  },
  {
   "cell_type": "code",
   "execution_count": null,
   "metadata": {},
   "outputs": [],
   "source": [
    "commute_trip_plot = commute_trip.groupby('SpeedGroup')['SpeedGroup'].count()\n",
    "commute_trip_plot = commute_trip_plot.reset_index(name = 'count')\n",
    "commute_trip_plot = commute_trip_plot.set_index(['SpeedGroup'])\n",
    "\n",
    "commute_trip_plot.plot(\n",
    "    figsize = (20,10), \n",
    "    title = '2018 Citibike Commuter Speed', \n",
    "    kind = 'bar',\n",
    "    rot = 0,\n",
    "    legend = None)"
   ]
  },
  {
   "cell_type": "markdown",
   "metadata": {},
   "source": [
    "# Question 4: Advanced commuting analysis"
   ]
  },
  {
   "cell_type": "code",
   "execution_count": null,
   "metadata": {},
   "outputs": [],
   "source": [
    "# Example of connected trip.\n",
    "# Same gender and year of birth started in the same station within 5 minutes.\n",
    "\n",
    "# Example of regular commuter rides\n",
    "# Start and end station by the same user?\n",
    "# Morning starting on the train station and ending on the same station\n",
    "\n",
    "# Year of Birth & Gender (Start time and station)\n",
    "# Working age adult: 7am-9am trips, where they do they go to work at?"
   ]
  },
  {
   "cell_type": "code",
   "execution_count": null,
   "metadata": {
    "scrolled": true
   },
   "outputs": [],
   "source": [
    "# Helper function to determine if datetime is between a time\n",
    "def check_commute_hour(my_hour):\n",
    "    if (my_hour >= 6 and my_hour <= 10):\n",
    "        return 'Morning'\n",
    "    elif (my_hour >= 16 and my_hour <= 21):\n",
    "        return 'Evening'\n",
    "    else:\n",
    "        return 'Other'\n",
    "\n",
    "# Morning Ride (6am-10am)\n",
    "commute_df = citibike[['tripduration', 'starttime', \n",
    "                       'start station name', 'end station name', \n",
    "                       'usertype', 'birth year', 'gender']].copy()\n",
    "\n",
    "commute_df = commute_df.loc[commute_df['usertype'] == 'Subscriber']"
   ]
  },
  {
   "cell_type": "code",
   "execution_count": null,
   "metadata": {},
   "outputs": [],
   "source": [
    "# Set a True or False Flag between 6am-10am (24 hour time format)\n",
    "# Link: https://stackoverflow.com/a/45564365\n",
    "# Super helpful trick to get the dt.hour (hour portion)\n",
    "commute_df['commute_type'] = np.vectorize(check_commute_hour)(commute_df['starttime'].dt.hour)\n",
    "commute_df['date'] = commute_df['starttime'].dt.date\n",
    "\n",
    "commute_df = commute_df.loc[commute_df['commute_type'] != 'Other']\n",
    "\n",
    "# Exclude daily ride, unknown gender and unknow age\n",
    "# How to filter by values: https://stackoverflow.com/a/17071908\n",
    "# df.loc[df['column_name'] == some_value]\n",
    "morning_commute_df = commute_df.loc[commute_df['commute_type'] == 'Morning']\n",
    "evening_commute_df = commute_df.loc[commute_df['commute_type'] == 'Evening']"
   ]
  },
  {
   "cell_type": "code",
   "execution_count": null,
   "metadata": {},
   "outputs": [],
   "source": [
    "# Create a Ukey to join easier\n",
    "morning_commute_df['Ukey'] = (morning_commute_df['usertype'] + '-' + \n",
    "                     morning_commute_df['birth year'].map(str) + '-' + \n",
    "                     morning_commute_df['gender'].map(str) + '-' + \n",
    "                     morning_commute_df['date'].map(str) + '-' +\n",
    "                     morning_commute_df['start station name'] + '-' +\n",
    "                     morning_commute_df['end station name'])\n",
    "\n",
    "evening_commute_df['Ukey'] = (evening_commute_df['usertype'] + '-' + \n",
    "                     evening_commute_df['birth year'].map(str) + '-' + \n",
    "                     evening_commute_df['gender'].map(str) + '-' + \n",
    "                     evening_commute_df['date'].map(str) + '-' +\n",
    "                     evening_commute_df['end station name'] + '-' +\n",
    "                     evening_commute_df['start station name'])\n",
    "\n",
    "# Index by Ukey\n",
    "morning_commute_df = morning_commute_df.set_index('Ukey')\n",
    "evening_commute_df = evening_commute_df.set_index('Ukey')"
   ]
  },
  {
   "cell_type": "code",
   "execution_count": null,
   "metadata": {
    "scrolled": true
   },
   "outputs": [],
   "source": [
    "# How to get dataframe column and types\n",
    "# morning_df['starttime'].dtype << Just 1 column\n",
    "# https://stackoverflow.com/a/43852726\n",
    "print(type(morning_commute_df))\n",
    "print(morning_commute_df.dtypes)\n",
    "morning_commute_df.head(5)"
   ]
  },
  {
   "cell_type": "code",
   "execution_count": null,
   "metadata": {},
   "outputs": [],
   "source": [
    "# Join the two dataframe to get continued trip (need them to the same date)\n",
    "round_trip_df = morning_commute_df.join(evening_commute_df, how='inner', on='Ukey', lsuffix='', rsuffix='_right')"
   ]
  },
  {
   "cell_type": "code",
   "execution_count": null,
   "metadata": {},
   "outputs": [],
   "source": [
    "# Round trip dataframe! :)\n",
    "round_trip_df = round_trip_df.sort_values(by ='date')"
   ]
  },
  {
   "cell_type": "code",
   "execution_count": null,
   "metadata": {},
   "outputs": [],
   "source": [
    "# Next question is how to show it on google map?\n",
    "round_trip_view_df = round_trip_df.drop(\n",
    "    ['usertype_right', 'birth year_right', 'gender_right','date_right'] \n",
    "    , axis=1)\n",
    "\n",
    "round_trip_view_df = round_trip_view_df.loc[round_trip_view_df['tripduration'] >= 600]\n",
    "round_trip_view_df = round_trip_view_df.sort_values('date')"
   ]
  },
  {
   "cell_type": "code",
   "execution_count": null,
   "metadata": {},
   "outputs": [],
   "source": [
    "# DataFrame.drop_duplicates\n",
    "round_trip_df = round_trip_df.drop_duplicates()\n",
    "round_trip_df.shape"
   ]
  },
  {
   "cell_type": "code",
   "execution_count": null,
   "metadata": {},
   "outputs": [],
   "source": []
  }
 ],
 "metadata": {
  "kernelspec": {
   "display_name": "Python 3",
   "language": "python",
   "name": "python3"
  },
  "language_info": {
   "codemirror_mode": {
    "name": "ipython",
    "version": 3
   },
   "file_extension": ".py",
   "mimetype": "text/x-python",
   "name": "python",
   "nbconvert_exporter": "python",
   "pygments_lexer": "ipython3",
   "version": "3.6.5"
  }
 },
 "nbformat": 4,
 "nbformat_minor": 2
}
