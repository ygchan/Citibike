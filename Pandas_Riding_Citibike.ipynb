{
 "cells": [
  {
   "cell_type": "code",
   "execution_count": 1,
   "metadata": {},
   "outputs": [],
   "source": [
    "# Citibike 2019 project, analyzing 2018 date of service trip data\n",
    "# Author: George Chan, Sean Guo"
   ]
  },
  {
   "cell_type": "code",
   "execution_count": 2,
   "metadata": {},
   "outputs": [],
   "source": [
    "# Import library and modules\n",
    "import pandas as pd\n",
    "import glob\n",
    "import numpy as np\n",
    "import os\n",
    "from datetime import timedelta\n",
    "import matplotlib\n",
    "import pickle\n",
    "\n",
    "# Future use\n",
    "# https://markhneedham.com/blog/2018/09/18/matplotlib-remove-axis-legend/"
   ]
  },
  {
   "cell_type": "code",
   "execution_count": 3,
   "metadata": {},
   "outputs": [
    {
     "name": "stdout",
     "output_type": "stream",
     "text": [
      "The data are stored in: ./Data/\n"
     ]
    }
   ],
   "source": [
    "# Define where are the citibke 2018 zipfiles\n",
    "data_folder = r'./Data/'\n",
    "print('The data are stored in: ' + data_folder)\n",
    "\n",
    "# this is for push test\n",
    "# this is another push test"
   ]
  },
  {
   "cell_type": "code",
   "execution_count": 4,
   "metadata": {},
   "outputs": [
    {
     "name": "stdout",
     "output_type": "stream",
     "text": [
      "Here are the list of csv zip files you have downloaded.\n",
      "\n",
      "./Data/\n",
      "\t01: 201809-citibike-tripdata.csv\n",
      "\t02: 201801-citibike-tripdata.csv\n",
      "\t03: 201803-citibike-tripdata.csv\n",
      "\t04: 201805-citibike-tripdata.csv\n",
      "\t05: 201807-citibike-tripdata.csv\n",
      "\t06: 201811-citibike-tripdata.csv\n",
      "\t07: 201808-citibike-tripdata.csv\n",
      "\t08: 201802-citibike-tripdata.csv\n",
      "\t09: 201812-citibike-tripdata.csv\n",
      "\t10: 201804-citibike-tripdata.csv\n",
      "\t11: 201810-citibike-tripdata.csv\n",
      "\t12: 201806-citibike-tripdata.csv\n"
     ]
    }
   ],
   "source": [
    "# Check what are the files in that folder\n",
    "for folderName, subfolders, filenames in os.walk(data_folder):\n",
    "    print('Here are the list of csv zip files you have downloaded.\\n')\n",
    "    print(folderName)\n",
    "    \n",
    "    number_of_csv_file = 0 # Total count of files read\n",
    "    all_files = []         # List of file path string\n",
    "    \n",
    "    # Reference 01: How to get index within for loop?\n",
    "    # Reference 02: How to pad number with leading zeros?\n",
    "    for filename in filenames:\n",
    "        \n",
    "        # If and only if they are csv files\n",
    "        if filename.endswith('.csv'):\n",
    "            number_of_csv_file += 1\n",
    "            \n",
    "            # Print to terminal to show user what files is found\n",
    "            print('\\t' + str(number_of_csv_file).zfill(2) + ': ' + filename)\n",
    "            all_files.append(data_folder + filename)\n",
    "            \n",
    "    # all_files = all_files.sort()\n",
    "            \n",
    "    # Warning message if you forgot to download all 12 months.\n",
    "    # For our project we want exactly 12 file\n",
    "    if number_of_csv_file != 12:\n",
    "        print('Sorry, I think you are missing some files?')\n",
    "        \n",
    "        # Attempt to safely exit the program\n",
    "        raise SystemExit"
   ]
  },
  {
   "cell_type": "code",
   "execution_count": 5,
   "metadata": {},
   "outputs": [],
   "source": [
    "# Creating a list of all CSV file in the path directory\n",
    "# all_files = glob.glob(data_folder + \"/*.csv\")\n",
    "\n",
    "# tempCitibike list that store the file data frame\n",
    "tempCitibike = []\n",
    "\n",
    "# Track how many records total\n",
    "totalRecordCount = 0\n",
    "\n",
    "pickle_storage = 'citibike2018.pkl'\n",
    "\n",
    "# If the file was properly loaded last time, re-use that dataframe\n",
    "if (os.path.exists(pickle_storage)):\n",
    "    citibike = pd.read_pickle(pickle_storage)\n",
    "\n",
    "# Otherwise Load it from scratch\n",
    "else:\n",
    "    # Loop and append the dataframes into tempCitibke List\n",
    "    for filename in sorted(all_files):\n",
    "        # Filename is the path/file.ext\n",
    "        print(os.path.basename(filename), end=\" \")\n",
    "\n",
    "        # df contains the entire dataset (CSV)\n",
    "        df = pd.read_csv(filename) \n",
    "\n",
    "        # How to filter by values\n",
    "        # https://stackoverflow.com/q/17071871\n",
    "\n",
    "        # Experiment to see if only using annual membership will show a different\n",
    "        # df = df.loc[df['usertype'] == 'Subscriber']\n",
    "\n",
    "        # Because my laptop is too slow .... :P\n",
    "        # Radnomly select 10% of the data, with random_state = 1\n",
    "        df = df.sample(frac = 0.1, replace = True, random_state = 1)\n",
    "\n",
    "        # Output the (rowCount, columnCount) to terminal\n",
    "        print(\"size: \" + str(df.shape))\n",
    "\n",
    "        totalRecordCount += df.shape[0]\n",
    "        tempCitibike.append(df)\n",
    "\n",
    "    # Combine the tempCitibike dfs together\n",
    "    citibike = pd.concat(tempCitibike)\n",
    "    print(\"\\nThere are \" + \"{:,}\".format(totalRecordCount) + \" number of records.\")\n",
    "    print(\"Before dropping NaN: \" + \"{:,}\".format(citibike.shape[0]))\n",
    "\n",
    "    # Drop rows with any (missing) variables\n",
    "    # Improve performance by not using inplace option\n",
    "    # Reference: https://stackoverflow.com/q/22532302\n",
    "    citibike = citibike.dropna()\n",
    "\n",
    "    print(\"After dropping NaN:  \" + \"{:,}\".format(citibike.shape[0]))\n",
    "    \n",
    "    # Store the citibike dataframe into a pickle object for future reference\n",
    "    # This can save time from re-running the entire 17M records.\n",
    "    citibike.to_pickle('citibike2018.pkl')"
   ]
  },
  {
   "cell_type": "code",
   "execution_count": 6,
   "metadata": {},
   "outputs": [
    {
     "data": {
      "text/html": [
       "<div>\n",
       "<style scoped>\n",
       "    .dataframe tbody tr th:only-of-type {\n",
       "        vertical-align: middle;\n",
       "    }\n",
       "\n",
       "    .dataframe tbody tr th {\n",
       "        vertical-align: top;\n",
       "    }\n",
       "\n",
       "    .dataframe thead th {\n",
       "        text-align: right;\n",
       "    }\n",
       "</style>\n",
       "<table border=\"1\" class=\"dataframe\">\n",
       "  <thead>\n",
       "    <tr style=\"text-align: right;\">\n",
       "      <th></th>\n",
       "      <th>tripduration</th>\n",
       "      <th>starttime</th>\n",
       "      <th>stoptime</th>\n",
       "      <th>start station id</th>\n",
       "      <th>start station name</th>\n",
       "      <th>start station latitude</th>\n",
       "      <th>start station longitude</th>\n",
       "      <th>end station id</th>\n",
       "      <th>end station name</th>\n",
       "      <th>end station latitude</th>\n",
       "      <th>end station longitude</th>\n",
       "      <th>bikeid</th>\n",
       "      <th>usertype</th>\n",
       "      <th>birth year</th>\n",
       "      <th>gender</th>\n",
       "    </tr>\n",
       "  </thead>\n",
       "  <tbody>\n",
       "    <tr>\n",
       "      <th>128037</th>\n",
       "      <td>830</td>\n",
       "      <td>2018-01-28 11:56:43.3930</td>\n",
       "      <td>2018-01-28 12:10:33.6090</td>\n",
       "      <td>326.0</td>\n",
       "      <td>E 11 St &amp; 1 Ave</td>\n",
       "      <td>40.729538</td>\n",
       "      <td>-73.984267</td>\n",
       "      <td>238.0</td>\n",
       "      <td>Bank St &amp; Washington St</td>\n",
       "      <td>40.736197</td>\n",
       "      <td>-74.008592</td>\n",
       "      <td>21256</td>\n",
       "      <td>Subscriber</td>\n",
       "      <td>1958</td>\n",
       "      <td>2</td>\n",
       "    </tr>\n",
       "    <tr>\n",
       "      <th>491755</th>\n",
       "      <td>126</td>\n",
       "      <td>2018-01-18 09:31:57.5380</td>\n",
       "      <td>2018-01-18 09:34:04.3190</td>\n",
       "      <td>3113.0</td>\n",
       "      <td>Greenpoint Ave &amp; Manhattan Ave</td>\n",
       "      <td>40.730260</td>\n",
       "      <td>-73.953940</td>\n",
       "      <td>3112.0</td>\n",
       "      <td>Milton St &amp; Franklin St</td>\n",
       "      <td>40.729060</td>\n",
       "      <td>-73.957790</td>\n",
       "      <td>33220</td>\n",
       "      <td>Subscriber</td>\n",
       "      <td>1989</td>\n",
       "      <td>1</td>\n",
       "    </tr>\n",
       "    <tr>\n",
       "      <th>470924</th>\n",
       "      <td>653</td>\n",
       "      <td>2018-01-05 18:10:32.9340</td>\n",
       "      <td>2018-01-05 18:21:26.2660</td>\n",
       "      <td>3063.0</td>\n",
       "      <td>Nostrand Ave &amp; Myrtle Ave</td>\n",
       "      <td>40.695270</td>\n",
       "      <td>-73.952381</td>\n",
       "      <td>3075.0</td>\n",
       "      <td>Division Ave &amp; Marcy Ave</td>\n",
       "      <td>40.707087</td>\n",
       "      <td>-73.957968</td>\n",
       "      <td>18633</td>\n",
       "      <td>Subscriber</td>\n",
       "      <td>1979</td>\n",
       "      <td>1</td>\n",
       "    </tr>\n",
       "    <tr>\n",
       "      <th>491263</th>\n",
       "      <td>821</td>\n",
       "      <td>2018-01-28 16:33:27.7050</td>\n",
       "      <td>2018-01-28 16:47:08.8110</td>\n",
       "      <td>3112.0</td>\n",
       "      <td>Milton St &amp; Franklin St</td>\n",
       "      <td>40.729060</td>\n",
       "      <td>-73.957790</td>\n",
       "      <td>3078.0</td>\n",
       "      <td>Broadway &amp; Roebling St</td>\n",
       "      <td>40.709248</td>\n",
       "      <td>-73.960631</td>\n",
       "      <td>18473</td>\n",
       "      <td>Subscriber</td>\n",
       "      <td>1985</td>\n",
       "      <td>1</td>\n",
       "    </tr>\n",
       "    <tr>\n",
       "      <th>371403</th>\n",
       "      <td>559</td>\n",
       "      <td>2018-01-02 19:23:00.5350</td>\n",
       "      <td>2018-01-02 19:32:20.0530</td>\n",
       "      <td>503.0</td>\n",
       "      <td>E 20 St &amp; Park Ave</td>\n",
       "      <td>40.738274</td>\n",
       "      <td>-73.987520</td>\n",
       "      <td>254.0</td>\n",
       "      <td>W 11 St &amp; 6 Ave</td>\n",
       "      <td>40.735324</td>\n",
       "      <td>-73.998004</td>\n",
       "      <td>30669</td>\n",
       "      <td>Subscriber</td>\n",
       "      <td>1952</td>\n",
       "      <td>2</td>\n",
       "    </tr>\n",
       "  </tbody>\n",
       "</table>\n",
       "</div>"
      ],
      "text/plain": [
       "        tripduration                 starttime                  stoptime  \\\n",
       "128037           830  2018-01-28 11:56:43.3930  2018-01-28 12:10:33.6090   \n",
       "491755           126  2018-01-18 09:31:57.5380  2018-01-18 09:34:04.3190   \n",
       "470924           653  2018-01-05 18:10:32.9340  2018-01-05 18:21:26.2660   \n",
       "491263           821  2018-01-28 16:33:27.7050  2018-01-28 16:47:08.8110   \n",
       "371403           559  2018-01-02 19:23:00.5350  2018-01-02 19:32:20.0530   \n",
       "\n",
       "        start station id              start station name  \\\n",
       "128037             326.0                 E 11 St & 1 Ave   \n",
       "491755            3113.0  Greenpoint Ave & Manhattan Ave   \n",
       "470924            3063.0       Nostrand Ave & Myrtle Ave   \n",
       "491263            3112.0         Milton St & Franklin St   \n",
       "371403             503.0              E 20 St & Park Ave   \n",
       "\n",
       "        start station latitude  start station longitude  end station id  \\\n",
       "128037               40.729538               -73.984267           238.0   \n",
       "491755               40.730260               -73.953940          3112.0   \n",
       "470924               40.695270               -73.952381          3075.0   \n",
       "491263               40.729060               -73.957790          3078.0   \n",
       "371403               40.738274               -73.987520           254.0   \n",
       "\n",
       "                end station name  end station latitude  end station longitude  \\\n",
       "128037   Bank St & Washington St             40.736197             -74.008592   \n",
       "491755   Milton St & Franklin St             40.729060             -73.957790   \n",
       "470924  Division Ave & Marcy Ave             40.707087             -73.957968   \n",
       "491263    Broadway & Roebling St             40.709248             -73.960631   \n",
       "371403           W 11 St & 6 Ave             40.735324             -73.998004   \n",
       "\n",
       "        bikeid    usertype  birth year  gender  \n",
       "128037   21256  Subscriber        1958       2  \n",
       "491755   33220  Subscriber        1989       1  \n",
       "470924   18633  Subscriber        1979       1  \n",
       "491263   18473  Subscriber        1985       1  \n",
       "371403   30669  Subscriber        1952       2  "
      ]
     },
     "execution_count": 6,
     "metadata": {},
     "output_type": "execute_result"
    }
   ],
   "source": [
    "# Example 01. How to sample the data using head(n)?\n",
    "# You can put the number of row n you want to see as parameter\n",
    "citibike.head(5)"
   ]
  },
  {
   "cell_type": "code",
   "execution_count": 7,
   "metadata": {},
   "outputs": [
    {
     "data": {
      "text/plain": [
       "start station name\n",
       "1 Ave & E 110 St    1023\n",
       "1 Ave & E 16 St     6684\n",
       "1 Ave & E 18 St     4760\n",
       "dtype: int64"
      ]
     },
     "execution_count": 7,
     "metadata": {},
     "output_type": "execute_result"
    }
   ],
   "source": [
    "# Example 02. Group by start station name and frequency count\n",
    "start_count = citibike.groupby('start station name').size()\n",
    "start_count.head(3)"
   ]
  },
  {
   "cell_type": "code",
   "execution_count": 8,
   "metadata": {},
   "outputs": [
    {
     "data": {
      "text/plain": [
       "start station name\n",
       "Pershing Square North    14856\n",
       "E 17 St & Broadway       10862\n",
       "Broadway & E 22 St       10834\n",
       "W 21 St & 6 Ave          10726\n",
       "Broadway & E 14 St        9487\n",
       "West St & Chambers St     9447\n",
       "W 41 St & 8 Ave           8699\n",
       "Broadway & W 60 St        8468\n",
       "8 Ave & W 33 St           8449\n",
       "12 Ave & W 40 St          8347\n",
       "dtype: int64"
      ]
     },
     "execution_count": 8,
     "metadata": {},
     "output_type": "execute_result"
    }
   ],
   "source": [
    "# Example 02B. Sort it and show the top 10\n",
    "start_count.sort_values(axis=0, ascending=False)[0:10]"
   ]
  },
  {
   "cell_type": "code",
   "execution_count": 9,
   "metadata": {},
   "outputs": [
    {
     "name": "stdout",
     "output_type": "stream",
     "text": [
      "1 Ave & E 30 St\n",
      "        tripduration                 starttime                  stoptime  \\\n",
      "432755           631  2018-01-03 23:06:33.2550  2018-01-03 23:17:04.3950   \n",
      "\n",
      "        start station id start station name  start station latitude  \\\n",
      "432755             536.0    1 Ave & E 30 St               40.741444   \n",
      "\n",
      "        start station longitude  end station id end station name  \\\n",
      "432755               -73.975361           379.0  W 31 St & 7 Ave   \n",
      "\n",
      "        end station latitude  end station longitude  bikeid    usertype  \\\n",
      "432755             40.749156               -73.9916   32453  Subscriber   \n",
      "\n",
      "        birth year  gender  \n",
      "432755        1962       1  \n",
      "1 Ave & E 62 St\n",
      "        tripduration                 starttime                  stoptime  \\\n",
      "510148          1160  2018-01-23 15:32:44.7570  2018-01-23 15:52:05.6070   \n",
      "\n",
      "        start station id start station name  start station latitude  \\\n",
      "510148            3142.0    1 Ave & E 62 St               40.761227   \n",
      "\n",
      "        start station longitude  end station id end station name  \\\n",
      "510148                -73.96094           492.0  W 33 St & 7 Ave   \n",
      "\n",
      "        end station latitude  end station longitude  bikeid    usertype  \\\n",
      "510148               40.7502             -73.990931   28948  Subscriber   \n",
      "\n",
      "        birth year  gender  \n",
      "510148        1994       1  \n",
      "1 Ave & E 68 St\n",
      "        tripduration                 starttime                  stoptime  \\\n",
      "507159          1411  2018-01-13 13:04:12.1520  2018-01-13 13:27:43.8990   \n",
      "\n",
      "        start station id start station name  start station latitude  \\\n",
      "507159            3141.0    1 Ave & E 68 St               40.765005   \n",
      "\n",
      "        start station longitude  end station id         end station name  \\\n",
      "507159               -73.958185          3497.0  Pleasant Ave & E 116 St   \n",
      "\n",
      "        end station latitude  end station longitude  bikeid    usertype  \\\n",
      "507159             40.794988             -73.933335   31515  Subscriber   \n",
      "\n",
      "        birth year  gender  \n",
      "507159        1985       1  \n"
     ]
    }
   ],
   "source": [
    "# Example 03. Iterate through the grouped by object\n",
    "# Getting a very small piece\n",
    "small_citibike = citibike.iloc[0:100, :]\n",
    "\n",
    "# This group the records by start station and all the trips associated\n",
    "ind = 0\n",
    "for name, group in small_citibike.groupby('start station name'):\n",
    "    print(name)\n",
    "    print(group)\n",
    "    if ind < 2:\n",
    "        ind += 1\n",
    "    else:\n",
    "        break"
   ]
  },
  {
   "cell_type": "code",
   "execution_count": 10,
   "metadata": {},
   "outputs": [
    {
     "name": "stdout",
     "output_type": "stream",
     "text": [
      "('1 Ave & E 30 St', 'W 31 St & 7 Ave')\n",
      "        tripduration                 starttime                  stoptime  \\\n",
      "432755           631  2018-01-03 23:06:33.2550  2018-01-03 23:17:04.3950   \n",
      "\n",
      "        start station id start station name  start station latitude  \\\n",
      "432755             536.0    1 Ave & E 30 St               40.741444   \n",
      "\n",
      "        start station longitude  end station id end station name  \\\n",
      "432755               -73.975361           379.0  W 31 St & 7 Ave   \n",
      "\n",
      "        end station latitude  end station longitude  bikeid    usertype  \\\n",
      "432755             40.749156               -73.9916   32453  Subscriber   \n",
      "\n",
      "        birth year  gender  \n",
      "432755        1962       1  \n",
      "('1 Ave & E 62 St', 'W 33 St & 7 Ave')\n",
      "        tripduration                 starttime                  stoptime  \\\n",
      "510148          1160  2018-01-23 15:32:44.7570  2018-01-23 15:52:05.6070   \n",
      "\n",
      "        start station id start station name  start station latitude  \\\n",
      "510148            3142.0    1 Ave & E 62 St               40.761227   \n",
      "\n",
      "        start station longitude  end station id end station name  \\\n",
      "510148                -73.96094           492.0  W 33 St & 7 Ave   \n",
      "\n",
      "        end station latitude  end station longitude  bikeid    usertype  \\\n",
      "510148               40.7502             -73.990931   28948  Subscriber   \n",
      "\n",
      "        birth year  gender  \n",
      "510148        1994       1  \n",
      "('1 Ave & E 68 St', 'Pleasant Ave & E 116 St')\n",
      "        tripduration                 starttime                  stoptime  \\\n",
      "507159          1411  2018-01-13 13:04:12.1520  2018-01-13 13:27:43.8990   \n",
      "\n",
      "        start station id start station name  start station latitude  \\\n",
      "507159            3141.0    1 Ave & E 68 St               40.765005   \n",
      "\n",
      "        start station longitude  end station id         end station name  \\\n",
      "507159               -73.958185          3497.0  Pleasant Ave & E 116 St   \n",
      "\n",
      "        end station latitude  end station longitude  bikeid    usertype  \\\n",
      "507159             40.794988             -73.933335   31515  Subscriber   \n",
      "\n",
      "        birth year  gender  \n",
      "507159        1985       1  \n"
     ]
    }
   ],
   "source": [
    "# Example 03B. Let's group by multiple keys (start and end station)\n",
    "ind = 0\n",
    "for (start, end), group in small_citibike.groupby(['start station name', 'end station name']):\n",
    "    print((start, end))\n",
    "    print(group)\n",
    "    if ind < 2:\n",
    "        ind += 1\n",
    "    else:\n",
    "        break"
   ]
  },
  {
   "cell_type": "code",
   "execution_count": 11,
   "metadata": {},
   "outputs": [
    {
     "name": "stdout",
     "output_type": "stream",
     "text": [
      "Average Trip in minutes: 17\n"
     ]
    }
   ],
   "source": [
    "# Example 04. Get the mean (average) duration of the trips in seconds\n",
    "average_trip_length = citibike['tripduration'].mean() / 60\n",
    "print('Average Trip in minutes:', round(average_trip_length))"
   ]
  },
  {
   "cell_type": "code",
   "execution_count": 12,
   "metadata": {},
   "outputs": [
    {
     "data": {
      "text/plain": [
       "birth year\n",
       "1885     31\n",
       "1886     38\n",
       "1887     85\n",
       "1888    107\n",
       "1889     10\n",
       "dtype: int64"
      ]
     },
     "execution_count": 12,
     "metadata": {},
     "output_type": "execute_result"
    }
   ],
   "source": [
    "# Example 04B. Get the count of trips by year of birth\n",
    "year_of_birth_trip_size = citibike.groupby('birth year').size()\n",
    "year_of_birth_trip_size.head(5)"
   ]
  },
  {
   "cell_type": "code",
   "execution_count": 13,
   "metadata": {},
   "outputs": [
    {
     "data": {
      "text/plain": [
       "<matplotlib.axes._subplots.AxesSubplot at 0x11df60438>"
      ]
     },
     "execution_count": 13,
     "metadata": {},
     "output_type": "execute_result"
    }
   ],
   "source": [
    "# We see a huge spike for random numbers\n",
    "year_of_birth_trip_size.plot(kind='bar')"
   ]
  },
  {
   "cell_type": "code",
   "execution_count": 14,
   "metadata": {
    "scrolled": true
   },
   "outputs": [
    {
     "name": "stdout",
     "output_type": "stream",
     "text": [
      "Adjusted birth year and trip line graph, it looks much better!\n"
     ]
    },
    {
     "data": {
      "text/plain": [
       "(1940, 2002)"
      ]
     },
     "execution_count": 14,
     "metadata": {},
     "output_type": "execute_result"
    },
    {
     "data": {
      "image/png": "[encoded data removed]",
      "text/plain": [
       "<Figure size 432x288 with 1 Axes>"
      ]
     },
     "metadata": {
      "needs_background": "light"
     },
     "output_type": "display_data"
    }
   ],
   "source": [
    "# Let's exclude 55 since we know it's a dummy value\n",
    "# year_of_birth_trip_size = citibike[citibike['birth year' != 1969]].groupby('birth year').size()\n",
    "# year_of_birth_trip_size.sort_values()\n",
    "# year_of_birth_trip_size.head(5)\n",
    "\n",
    "print('Adjusted birth year and trip line graph, it looks much better!')\n",
    "not_55_filter = citibike['birth year'] != 1969\n",
    "year_of_birth_trip_size = citibike[not_55_filter].groupby('birth year').size()\n",
    "ax = year_of_birth_trip_size.plot()\n",
    "ax.set_xlim(1940, 2002)"
   ]
  },
  {
   "cell_type": "code",
   "execution_count": 19,
   "metadata": {},
   "outputs": [
    {
     "data": {
      "text/plain": [
       "gender\n",
       "0     148466\n",
       "1    1197157\n",
       "2     408934\n",
       "dtype: int64"
      ]
     },
     "execution_count": 19,
     "metadata": {},
     "output_type": "execute_result"
    }
   ],
   "source": [
    "# Example 05. Group by mapping (Gender) dictionary\n",
    "gender_map = {\n",
    "    0: 'Unknown',\n",
    "    1: 'Male',\n",
    "    2: 'Female'\n",
    "}\n",
    "\n",
    "gender_series = citibike.groupby(['gender']).size()\n",
    "gender_series"
   ]
  },
  {
   "cell_type": "code",
   "execution_count": 26,
   "metadata": {},
   "outputs": [
    {
     "data": {
      "text/plain": [
       "0     148466\n",
       "1    1197157\n",
       "2     408934\n",
       "dtype: int64"
      ]
     },
     "execution_count": 26,
     "metadata": {},
     "output_type": "execute_result"
    }
   ],
   "source": [
    "# Didn't quite work\n",
    "gender_series.index = gender_map\n",
    "gender_series"
   ]
  },
  {
   "cell_type": "code",
   "execution_count": null,
   "metadata": {},
   "outputs": [],
   "source": []
  }
 ],
 "metadata": {
  "kernelspec": {
   "display_name": "Python 3",
   "language": "python",
   "name": "python3"
  },
  "language_info": {
   "codemirror_mode": {
    "name": "ipython",
    "version": 3
   },
   "file_extension": ".py",
   "mimetype": "text/x-python",
   "name": "python",
   "nbconvert_exporter": "python",
   "pygments_lexer": "ipython3",
   "version": "3.7.3"
  }
 },
 "nbformat": 4,
 "nbformat_minor": 2
}
