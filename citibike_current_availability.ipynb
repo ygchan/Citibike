{
 "cells": [
  {
   "cell_type": "code",
   "execution_count": 19,
   "metadata": {},
   "outputs": [],
   "source": [
    "# Learned how to use json to get the current citibke status\n",
    "import requests\n",
    "import json\n",
    "import pandas as pd\n",
    "\n",
    "# Public json url from Citibike\n",
    "stations_url = 'https://feeds.citibikenyc.com/stations/stations.json'\n",
    "\n",
    "# Request the response and parse the json\n",
    "data = requests.get(stations_url).json()"
   ]
  },
  {
   "cell_type": "code",
   "execution_count": 20,
   "metadata": {},
   "outputs": [
    {
     "data": {
      "text/plain": [
       "{'id': 301,\n",
       " 'stationName': 'E 2 St & Avenue B',\n",
       " 'availableDocks': 19,\n",
       " 'totalDocks': 58,\n",
       " 'latitude': 40.72217444,\n",
       " 'longitude': -73.98368779,\n",
       " 'statusValue': 'In Service',\n",
       " 'statusKey': 1,\n",
       " 'availableBikes': 38,\n",
       " 'stAddress1': 'E 2 St & Avenue B',\n",
       " 'stAddress2': '',\n",
       " 'city': '',\n",
       " 'postalCode': '',\n",
       " 'location': '',\n",
       " 'altitude': '',\n",
       " 'testStation': False,\n",
       " 'lastCommunicationTime': '2019-08-05 09:57:06 PM',\n",
       " 'landMark': ''}"
      ]
     },
     "execution_count": 20,
     "metadata": {},
     "output_type": "execute_result"
    }
   ],
   "source": [
    "# Show a sample of the json dicts\n",
    "# The Citibike Station json returns a list of dicts\n",
    "data['stationBeanList'][0]"
   ]
  },
  {
   "cell_type": "code",
   "execution_count": 21,
   "metadata": {},
   "outputs": [],
   "source": [
    "# Process the list of dictionary into DataFrame\n",
    "station_df = pd.DataFrame(data['stationBeanList'])"
   ]
  },
  {
   "cell_type": "code",
   "execution_count": 22,
   "metadata": {},
   "outputs": [
    {
     "data": {
      "text/plain": [
       "Index(['altitude', 'availableBikes', 'availableDocks', 'city', 'id',\n",
       "       'landMark', 'lastCommunicationTime', 'latitude', 'location',\n",
       "       'longitude', 'postalCode', 'stAddress1', 'stAddress2', 'stationName',\n",
       "       'statusKey', 'statusValue', 'testStation', 'totalDocks'],\n",
       "      dtype='object')"
      ]
     },
     "execution_count": 22,
     "metadata": {},
     "output_type": "execute_result"
    }
   ],
   "source": [
    "# Show the list of columns in the DataFrame\n",
    "station_df.columns"
   ]
  },
  {
   "cell_type": "code",
   "execution_count": 23,
   "metadata": {
    "scrolled": true
   },
   "outputs": [
    {
     "data": {
      "text/html": [
       "<div>\n",
       "<style scoped>\n",
       "    .dataframe tbody tr th:only-of-type {\n",
       "        vertical-align: middle;\n",
       "    }\n",
       "\n",
       "    .dataframe tbody tr th {\n",
       "        vertical-align: top;\n",
       "    }\n",
       "\n",
       "    .dataframe thead th {\n",
       "        text-align: right;\n",
       "    }\n",
       "</style>\n",
       "<table border=\"1\" class=\"dataframe\">\n",
       "  <thead>\n",
       "    <tr style=\"text-align: right;\">\n",
       "      <th></th>\n",
       "      <th>altitude</th>\n",
       "      <th>availableBikes</th>\n",
       "      <th>availableDocks</th>\n",
       "      <th>city</th>\n",
       "      <th>id</th>\n",
       "      <th>landMark</th>\n",
       "      <th>lastCommunicationTime</th>\n",
       "      <th>latitude</th>\n",
       "      <th>location</th>\n",
       "      <th>longitude</th>\n",
       "      <th>postalCode</th>\n",
       "      <th>stAddress1</th>\n",
       "      <th>stAddress2</th>\n",
       "      <th>stationName</th>\n",
       "      <th>statusKey</th>\n",
       "      <th>statusValue</th>\n",
       "      <th>testStation</th>\n",
       "      <th>totalDocks</th>\n",
       "    </tr>\n",
       "  </thead>\n",
       "  <tbody>\n",
       "    <tr>\n",
       "      <th>0</th>\n",
       "      <td></td>\n",
       "      <td>38</td>\n",
       "      <td>19</td>\n",
       "      <td></td>\n",
       "      <td>301</td>\n",
       "      <td></td>\n",
       "      <td>2019-08-05 09:57:06 PM</td>\n",
       "      <td>40.722174</td>\n",
       "      <td></td>\n",
       "      <td>-73.983688</td>\n",
       "      <td></td>\n",
       "      <td>E 2 St &amp; Avenue B</td>\n",
       "      <td></td>\n",
       "      <td>E 2 St &amp; Avenue B</td>\n",
       "      <td>1</td>\n",
       "      <td>In Service</td>\n",
       "      <td>False</td>\n",
       "      <td>58</td>\n",
       "    </tr>\n",
       "    <tr>\n",
       "      <th>1</th>\n",
       "      <td></td>\n",
       "      <td>3</td>\n",
       "      <td>25</td>\n",
       "      <td></td>\n",
       "      <td>307</td>\n",
       "      <td></td>\n",
       "      <td>2019-08-05 09:55:45 PM</td>\n",
       "      <td>40.714275</td>\n",
       "      <td></td>\n",
       "      <td>-73.989900</td>\n",
       "      <td></td>\n",
       "      <td>Canal St &amp; Rutgers St</td>\n",
       "      <td></td>\n",
       "      <td>Canal St &amp; Rutgers St</td>\n",
       "      <td>1</td>\n",
       "      <td>In Service</td>\n",
       "      <td>False</td>\n",
       "      <td>30</td>\n",
       "    </tr>\n",
       "    <tr>\n",
       "      <th>2</th>\n",
       "      <td></td>\n",
       "      <td>5</td>\n",
       "      <td>22</td>\n",
       "      <td></td>\n",
       "      <td>312</td>\n",
       "      <td></td>\n",
       "      <td>2019-08-05 09:57:18 PM</td>\n",
       "      <td>40.722055</td>\n",
       "      <td></td>\n",
       "      <td>-73.989111</td>\n",
       "      <td></td>\n",
       "      <td>Allen St &amp; Stanton St</td>\n",
       "      <td></td>\n",
       "      <td>Allen St &amp; Stanton St</td>\n",
       "      <td>1</td>\n",
       "      <td>In Service</td>\n",
       "      <td>False</td>\n",
       "      <td>31</td>\n",
       "    </tr>\n",
       "    <tr>\n",
       "      <th>3</th>\n",
       "      <td></td>\n",
       "      <td>9</td>\n",
       "      <td>38</td>\n",
       "      <td></td>\n",
       "      <td>358</td>\n",
       "      <td></td>\n",
       "      <td>2019-08-05 09:54:19 PM</td>\n",
       "      <td>40.732916</td>\n",
       "      <td></td>\n",
       "      <td>-74.007114</td>\n",
       "      <td></td>\n",
       "      <td>Christopher St &amp; Greenwich St</td>\n",
       "      <td></td>\n",
       "      <td>Christopher St &amp; Greenwich St</td>\n",
       "      <td>1</td>\n",
       "      <td>In Service</td>\n",
       "      <td>False</td>\n",
       "      <td>50</td>\n",
       "    </tr>\n",
       "    <tr>\n",
       "      <th>4</th>\n",
       "      <td></td>\n",
       "      <td>7</td>\n",
       "      <td>19</td>\n",
       "      <td></td>\n",
       "      <td>432</td>\n",
       "      <td></td>\n",
       "      <td>2019-08-05 09:57:17 PM</td>\n",
       "      <td>40.726218</td>\n",
       "      <td></td>\n",
       "      <td>-73.983799</td>\n",
       "      <td></td>\n",
       "      <td>E 7 St &amp; Avenue A</td>\n",
       "      <td></td>\n",
       "      <td>E 7 St &amp; Avenue A</td>\n",
       "      <td>1</td>\n",
       "      <td>In Service</td>\n",
       "      <td>False</td>\n",
       "      <td>31</td>\n",
       "    </tr>\n",
       "  </tbody>\n",
       "</table>\n",
       "</div>"
      ],
      "text/plain": [
       "  altitude  availableBikes  availableDocks city   id landMark  \\\n",
       "0                       38              19       301            \n",
       "1                        3              25       307            \n",
       "2                        5              22       312            \n",
       "3                        9              38       358            \n",
       "4                        7              19       432            \n",
       "\n",
       "    lastCommunicationTime   latitude location  longitude postalCode  \\\n",
       "0  2019-08-05 09:57:06 PM  40.722174          -73.983688              \n",
       "1  2019-08-05 09:55:45 PM  40.714275          -73.989900              \n",
       "2  2019-08-05 09:57:18 PM  40.722055          -73.989111              \n",
       "3  2019-08-05 09:54:19 PM  40.732916          -74.007114              \n",
       "4  2019-08-05 09:57:17 PM  40.726218          -73.983799              \n",
       "\n",
       "                      stAddress1 stAddress2                    stationName  \\\n",
       "0              E 2 St & Avenue B                         E 2 St & Avenue B   \n",
       "1          Canal St & Rutgers St                     Canal St & Rutgers St   \n",
       "2          Allen St & Stanton St                     Allen St & Stanton St   \n",
       "3  Christopher St & Greenwich St             Christopher St & Greenwich St   \n",
       "4              E 7 St & Avenue A                         E 7 St & Avenue A   \n",
       "\n",
       "   statusKey statusValue  testStation  totalDocks  \n",
       "0          1  In Service        False          58  \n",
       "1          1  In Service        False          30  \n",
       "2          1  In Service        False          31  \n",
       "3          1  In Service        False          50  \n",
       "4          1  In Service        False          31  "
      ]
     },
     "execution_count": 23,
     "metadata": {},
     "output_type": "execute_result"
    }
   ],
   "source": [
    "# Preview the DataFrame\n",
    "station_df.head(5)"
   ]
  },
  {
   "cell_type": "code",
   "execution_count": 24,
   "metadata": {},
   "outputs": [],
   "source": [
    "station = station_df.copy()\n",
    "station_df = station_df[['id', \n",
    "                         'stationName',\n",
    "                         'availableBikes', \n",
    "                         'availableDocks', \n",
    "                         'totalDocks',\n",
    "                         'statusValue']]"
   ]
  },
  {
   "cell_type": "code",
   "execution_count": 25,
   "metadata": {},
   "outputs": [
    {
     "data": {
      "text/html": [
       "<div>\n",
       "<style scoped>\n",
       "    .dataframe tbody tr th:only-of-type {\n",
       "        vertical-align: middle;\n",
       "    }\n",
       "\n",
       "    .dataframe tbody tr th {\n",
       "        vertical-align: top;\n",
       "    }\n",
       "\n",
       "    .dataframe thead th {\n",
       "        text-align: right;\n",
       "    }\n",
       "</style>\n",
       "<table border=\"1\" class=\"dataframe\">\n",
       "  <thead>\n",
       "    <tr style=\"text-align: right;\">\n",
       "      <th></th>\n",
       "      <th>id</th>\n",
       "      <th>stationName</th>\n",
       "      <th>availableBikes</th>\n",
       "      <th>availableDocks</th>\n",
       "      <th>totalDocks</th>\n",
       "      <th>statusValue</th>\n",
       "    </tr>\n",
       "  </thead>\n",
       "  <tbody>\n",
       "    <tr>\n",
       "      <th>0</th>\n",
       "      <td>301</td>\n",
       "      <td>E 2 St &amp; Avenue B</td>\n",
       "      <td>38</td>\n",
       "      <td>19</td>\n",
       "      <td>58</td>\n",
       "      <td>In Service</td>\n",
       "    </tr>\n",
       "    <tr>\n",
       "      <th>1</th>\n",
       "      <td>307</td>\n",
       "      <td>Canal St &amp; Rutgers St</td>\n",
       "      <td>3</td>\n",
       "      <td>25</td>\n",
       "      <td>30</td>\n",
       "      <td>In Service</td>\n",
       "    </tr>\n",
       "    <tr>\n",
       "      <th>2</th>\n",
       "      <td>312</td>\n",
       "      <td>Allen St &amp; Stanton St</td>\n",
       "      <td>5</td>\n",
       "      <td>22</td>\n",
       "      <td>31</td>\n",
       "      <td>In Service</td>\n",
       "    </tr>\n",
       "    <tr>\n",
       "      <th>3</th>\n",
       "      <td>358</td>\n",
       "      <td>Christopher St &amp; Greenwich St</td>\n",
       "      <td>9</td>\n",
       "      <td>38</td>\n",
       "      <td>50</td>\n",
       "      <td>In Service</td>\n",
       "    </tr>\n",
       "    <tr>\n",
       "      <th>4</th>\n",
       "      <td>432</td>\n",
       "      <td>E 7 St &amp; Avenue A</td>\n",
       "      <td>7</td>\n",
       "      <td>19</td>\n",
       "      <td>31</td>\n",
       "      <td>In Service</td>\n",
       "    </tr>\n",
       "    <tr>\n",
       "      <th>5</th>\n",
       "      <td>438</td>\n",
       "      <td>St Marks Pl &amp; 1 Ave</td>\n",
       "      <td>2</td>\n",
       "      <td>43</td>\n",
       "      <td>47</td>\n",
       "      <td>In Service</td>\n",
       "    </tr>\n",
       "    <tr>\n",
       "      <th>6</th>\n",
       "      <td>487</td>\n",
       "      <td>E 20 St &amp; FDR Drive</td>\n",
       "      <td>15</td>\n",
       "      <td>19</td>\n",
       "      <td>34</td>\n",
       "      <td>In Service</td>\n",
       "    </tr>\n",
       "    <tr>\n",
       "      <th>7</th>\n",
       "      <td>504</td>\n",
       "      <td>1 Ave &amp; E 16 St</td>\n",
       "      <td>17</td>\n",
       "      <td>36</td>\n",
       "      <td>53</td>\n",
       "      <td>In Service</td>\n",
       "    </tr>\n",
       "    <tr>\n",
       "      <th>8</th>\n",
       "      <td>532</td>\n",
       "      <td>S 5 Pl &amp; S 5 St</td>\n",
       "      <td>16</td>\n",
       "      <td>25</td>\n",
       "      <td>43</td>\n",
       "      <td>In Service</td>\n",
       "    </tr>\n",
       "    <tr>\n",
       "      <th>9</th>\n",
       "      <td>3092</td>\n",
       "      <td>Berry St &amp; N 8 St</td>\n",
       "      <td>7</td>\n",
       "      <td>20</td>\n",
       "      <td>27</td>\n",
       "      <td>In Service</td>\n",
       "    </tr>\n",
       "  </tbody>\n",
       "</table>\n",
       "</div>"
      ],
      "text/plain": [
       "     id                    stationName  availableBikes  availableDocks  \\\n",
       "0   301              E 2 St & Avenue B              38              19   \n",
       "1   307          Canal St & Rutgers St               3              25   \n",
       "2   312          Allen St & Stanton St               5              22   \n",
       "3   358  Christopher St & Greenwich St               9              38   \n",
       "4   432              E 7 St & Avenue A               7              19   \n",
       "5   438            St Marks Pl & 1 Ave               2              43   \n",
       "6   487            E 20 St & FDR Drive              15              19   \n",
       "7   504                1 Ave & E 16 St              17              36   \n",
       "8   532                S 5 Pl & S 5 St              16              25   \n",
       "9  3092              Berry St & N 8 St               7              20   \n",
       "\n",
       "   totalDocks statusValue  \n",
       "0          58  In Service  \n",
       "1          30  In Service  \n",
       "2          31  In Service  \n",
       "3          50  In Service  \n",
       "4          31  In Service  \n",
       "5          47  In Service  \n",
       "6          34  In Service  \n",
       "7          53  In Service  \n",
       "8          43  In Service  \n",
       "9          27  In Service  "
      ]
     },
     "execution_count": 25,
     "metadata": {},
     "output_type": "execute_result"
    }
   ],
   "source": [
    "station_df.sort_values(by='availableBikes', \n",
    "                             ascending=False)\n",
    "station_df.head(10)"
   ]
  },
  {
   "cell_type": "code",
   "execution_count": 26,
   "metadata": {
    "scrolled": true
   },
   "outputs": [
    {
     "data": {
      "text/html": [
       "<div>\n",
       "<style scoped>\n",
       "    .dataframe tbody tr th:only-of-type {\n",
       "        vertical-align: middle;\n",
       "    }\n",
       "\n",
       "    .dataframe tbody tr th {\n",
       "        vertical-align: top;\n",
       "    }\n",
       "\n",
       "    .dataframe thead th {\n",
       "        text-align: right;\n",
       "    }\n",
       "</style>\n",
       "<table border=\"1\" class=\"dataframe\">\n",
       "  <thead>\n",
       "    <tr style=\"text-align: right;\">\n",
       "      <th></th>\n",
       "      <th>id</th>\n",
       "      <th>stationName</th>\n",
       "      <th>availableBikes</th>\n",
       "      <th>availableDocks</th>\n",
       "      <th>totalDocks</th>\n",
       "      <th>statusValue</th>\n",
       "    </tr>\n",
       "  </thead>\n",
       "  <tbody>\n",
       "    <tr>\n",
       "      <th>406</th>\n",
       "      <td>3195</td>\n",
       "      <td>Sip Ave</td>\n",
       "      <td>0</td>\n",
       "      <td>34</td>\n",
       "      <td>34</td>\n",
       "      <td>In Service</td>\n",
       "    </tr>\n",
       "    <tr>\n",
       "      <th>447</th>\n",
       "      <td>3273</td>\n",
       "      <td>Manila &amp; 1st</td>\n",
       "      <td>0</td>\n",
       "      <td>17</td>\n",
       "      <td>18</td>\n",
       "      <td>In Service</td>\n",
       "    </tr>\n",
       "    <tr>\n",
       "      <th>843</th>\n",
       "      <td>3799</td>\n",
       "      <td>6 Ave &amp; W 34 St</td>\n",
       "      <td>0</td>\n",
       "      <td>31</td>\n",
       "      <td>31</td>\n",
       "      <td>In Service</td>\n",
       "    </tr>\n",
       "    <tr>\n",
       "      <th>209</th>\n",
       "      <td>469</td>\n",
       "      <td>Broadway &amp; W 53 St</td>\n",
       "      <td>0</td>\n",
       "      <td>56</td>\n",
       "      <td>57</td>\n",
       "      <td>In Service</td>\n",
       "    </tr>\n",
       "    <tr>\n",
       "      <th>110</th>\n",
       "      <td>335</td>\n",
       "      <td>Washington Pl &amp; Broadway</td>\n",
       "      <td>0</td>\n",
       "      <td>26</td>\n",
       "      <td>27</td>\n",
       "      <td>In Service</td>\n",
       "    </tr>\n",
       "  </tbody>\n",
       "</table>\n",
       "</div>"
      ],
      "text/plain": [
       "       id               stationName  availableBikes  availableDocks  \\\n",
       "406  3195                   Sip Ave               0              34   \n",
       "447  3273              Manila & 1st               0              17   \n",
       "843  3799           6 Ave & W 34 St               0              31   \n",
       "209   469        Broadway & W 53 St               0              56   \n",
       "110   335  Washington Pl & Broadway               0              26   \n",
       "\n",
       "     totalDocks statusValue  \n",
       "406          34  In Service  \n",
       "447          18  In Service  \n",
       "843          31  In Service  \n",
       "209          57  In Service  \n",
       "110          27  In Service  "
      ]
     },
     "execution_count": 26,
     "metadata": {},
     "output_type": "execute_result"
    }
   ],
   "source": [
    "# Create a boolean array mask where there are no bikes\n",
    "# Make sure the station is in service right now.\n",
    "in_service_mask = (station_df['statusValue'] == 'In Service')\n",
    "\n",
    "# Active station only\n",
    "active_station = station_df[in_service_mask]\n",
    "\n",
    "# Find out which station has no bike avaliable\n",
    "zero_bike_mask = (active_station['availableBikes'] == 0)\n",
    "\n",
    "# Apply the zero_bike_mask\n",
    "zero_bike = active_station[zero_bike_mask]\n",
    "\n",
    "# Sample the output\n",
    "zero_bike.sample(5)"
   ]
  },
  {
   "cell_type": "markdown",
   "metadata": {},
   "source": [
    "# Question: How many stations are without bike?"
   ]
  },
  {
   "cell_type": "code",
   "execution_count": 27,
   "metadata": {
    "scrolled": true
   },
   "outputs": [
    {
     "name": "stdout",
     "output_type": "stream",
     "text": [
      "There are 107 stations without bike!\n"
     ]
    }
   ],
   "source": [
    "# Get the count of stations without bikes\n",
    "num_of_stations_without_bike = zero_bike['id'].count()\n",
    "print('There are {0:,} stations without bike!'.format(\n",
    "    num_of_stations_without_bike))"
   ]
  },
  {
   "cell_type": "code",
   "execution_count": 28,
   "metadata": {},
   "outputs": [
    {
     "data": {
      "text/html": [
       "<div>\n",
       "<style scoped>\n",
       "    .dataframe tbody tr th:only-of-type {\n",
       "        vertical-align: middle;\n",
       "    }\n",
       "\n",
       "    .dataframe tbody tr th {\n",
       "        vertical-align: top;\n",
       "    }\n",
       "\n",
       "    .dataframe thead th {\n",
       "        text-align: right;\n",
       "    }\n",
       "</style>\n",
       "<table border=\"1\" class=\"dataframe\">\n",
       "  <thead>\n",
       "    <tr style=\"text-align: right;\">\n",
       "      <th></th>\n",
       "      <th>id</th>\n",
       "      <th>stationName</th>\n",
       "      <th>availableBikes</th>\n",
       "      <th>availableDocks</th>\n",
       "      <th>totalDocks</th>\n",
       "      <th>statusValue</th>\n",
       "    </tr>\n",
       "  </thead>\n",
       "  <tbody>\n",
       "    <tr>\n",
       "      <th>479</th>\n",
       "      <td>3308</td>\n",
       "      <td>Kane St &amp; Clinton St</td>\n",
       "      <td>26</td>\n",
       "      <td>0</td>\n",
       "      <td>27</td>\n",
       "      <td>In Service</td>\n",
       "    </tr>\n",
       "    <tr>\n",
       "      <th>635</th>\n",
       "      <td>3511</td>\n",
       "      <td>Adam Clayton Powell Blvd &amp; W 115 St</td>\n",
       "      <td>21</td>\n",
       "      <td>0</td>\n",
       "      <td>22</td>\n",
       "      <td>In Service</td>\n",
       "    </tr>\n",
       "    <tr>\n",
       "      <th>639</th>\n",
       "      <td>3515</td>\n",
       "      <td>24 Ave &amp; 26 St</td>\n",
       "      <td>19</td>\n",
       "      <td>0</td>\n",
       "      <td>19</td>\n",
       "      <td>In Service</td>\n",
       "    </tr>\n",
       "    <tr>\n",
       "      <th>585</th>\n",
       "      <td>3424</td>\n",
       "      <td>E 106 St &amp; Lexington Ave</td>\n",
       "      <td>27</td>\n",
       "      <td>0</td>\n",
       "      <td>27</td>\n",
       "      <td>In Service</td>\n",
       "    </tr>\n",
       "    <tr>\n",
       "      <th>712</th>\n",
       "      <td>3591</td>\n",
       "      <td>21 St &amp; 31 Dr</td>\n",
       "      <td>21</td>\n",
       "      <td>0</td>\n",
       "      <td>21</td>\n",
       "      <td>In Service</td>\n",
       "    </tr>\n",
       "  </tbody>\n",
       "</table>\n",
       "</div>"
      ],
      "text/plain": [
       "       id                          stationName  availableBikes  \\\n",
       "479  3308                 Kane St & Clinton St              26   \n",
       "635  3511  Adam Clayton Powell Blvd & W 115 St              21   \n",
       "639  3515                       24 Ave & 26 St              19   \n",
       "585  3424             E 106 St & Lexington Ave              27   \n",
       "712  3591                        21 St & 31 Dr              21   \n",
       "\n",
       "     availableDocks  totalDocks statusValue  \n",
       "479               0          27  In Service  \n",
       "635               0          22  In Service  \n",
       "639               0          19  In Service  \n",
       "585               0          27  In Service  \n",
       "712               0          21  In Service  "
      ]
     },
     "execution_count": 28,
     "metadata": {},
     "output_type": "execute_result"
    }
   ],
   "source": [
    "# Find out which station has no dock avaliable\n",
    "zero_dock_mask = (active_station['availableDocks'] == 0)\n",
    "\n",
    "# Apply the zero_dock_mask\n",
    "zero_dock = active_station[zero_dock_mask]\n",
    "\n",
    "zero_dock.sample(5)"
   ]
  },
  {
   "cell_type": "markdown",
   "metadata": {},
   "source": [
    "# Question: How many stations are without a dock?"
   ]
  },
  {
   "cell_type": "code",
   "execution_count": 29,
   "metadata": {},
   "outputs": [
    {
     "name": "stdout",
     "output_type": "stream",
     "text": [
      "There are 75 stations without dock!\n"
     ]
    }
   ],
   "source": [
    "num_of_stations_without_dock = zero_dock['id'].count()\n",
    "print('There are {0:,} stations without dock!'.format(\n",
    "    num_of_stations_without_dock))"
   ]
  },
  {
   "cell_type": "code",
   "execution_count": 30,
   "metadata": {},
   "outputs": [],
   "source": [
    "no_dock = num_of_stations_without_dock\n",
    "no_bike = num_of_stations_without_bike\n",
    "total = active_station.shape[0] - no_dock - no_bike"
   ]
  },
  {
   "cell_type": "code",
   "execution_count": 31,
   "metadata": {},
   "outputs": [],
   "source": [
    "arr = pd.Series([no_dock, no_bike, total],\n",
    "                dtype='int64',\n",
    "                index=['No Dock', 'No Bike', 'Active (Has Both)'])"
   ]
  },
  {
   "cell_type": "code",
   "execution_count": 32,
   "metadata": {},
   "outputs": [
    {
     "data": {
      "text/plain": [
       "<matplotlib.axes._subplots.AxesSubplot at 0x123ea1710>"
      ]
     },
     "execution_count": 32,
     "metadata": {},
     "output_type": "execute_result"
    },
    {
     "data": {
      "image/png": "[encoded data removed]",
      "text/plain": [
       "<Figure size 432x288 with 1 Axes>"
      ]
     },
     "metadata": {
      "needs_background": "light"
     },
     "output_type": "display_data"
    }
   ],
   "source": [
    "arr.plot(kind='bar', rot=0,\n",
    "         ylim=(0, 900),\n",
    "         title='Current Citibike System Health')"
   ]
  },
  {
   "cell_type": "code",
   "execution_count": 33,
   "metadata": {},
   "outputs": [],
   "source": [
    "# Motivated to plot these station onto a map!"
   ]
  },
  {
   "cell_type": "code",
   "execution_count": 35,
   "metadata": {
    "scrolled": true
   },
   "outputs": [
    {
     "data": {
      "text/html": [
       "<div>\n",
       "<style scoped>\n",
       "    .dataframe tbody tr th:only-of-type {\n",
       "        vertical-align: middle;\n",
       "    }\n",
       "\n",
       "    .dataframe tbody tr th {\n",
       "        vertical-align: top;\n",
       "    }\n",
       "\n",
       "    .dataframe thead th {\n",
       "        text-align: right;\n",
       "    }\n",
       "</style>\n",
       "<table border=\"1\" class=\"dataframe\">\n",
       "  <thead>\n",
       "    <tr style=\"text-align: right;\">\n",
       "      <th></th>\n",
       "      <th>altitude</th>\n",
       "      <th>availableBikes</th>\n",
       "      <th>availableDocks</th>\n",
       "      <th>city</th>\n",
       "      <th>id</th>\n",
       "      <th>landMark</th>\n",
       "      <th>lastCommunicationTime</th>\n",
       "      <th>latitude</th>\n",
       "      <th>location</th>\n",
       "      <th>longitude</th>\n",
       "      <th>postalCode</th>\n",
       "      <th>stAddress1</th>\n",
       "      <th>stAddress2</th>\n",
       "      <th>stationName</th>\n",
       "      <th>statusKey</th>\n",
       "      <th>statusValue</th>\n",
       "      <th>testStation</th>\n",
       "      <th>totalDocks</th>\n",
       "    </tr>\n",
       "  </thead>\n",
       "  <tbody>\n",
       "    <tr>\n",
       "      <th>0</th>\n",
       "      <td></td>\n",
       "      <td>38</td>\n",
       "      <td>19</td>\n",
       "      <td></td>\n",
       "      <td>301</td>\n",
       "      <td></td>\n",
       "      <td>2019-08-05 09:57:06 PM</td>\n",
       "      <td>40.722174</td>\n",
       "      <td></td>\n",
       "      <td>-73.983688</td>\n",
       "      <td></td>\n",
       "      <td>E 2 St &amp; Avenue B</td>\n",
       "      <td></td>\n",
       "      <td>E 2 St &amp; Avenue B</td>\n",
       "      <td>1</td>\n",
       "      <td>In Service</td>\n",
       "      <td>False</td>\n",
       "      <td>58</td>\n",
       "    </tr>\n",
       "    <tr>\n",
       "      <th>1</th>\n",
       "      <td></td>\n",
       "      <td>3</td>\n",
       "      <td>25</td>\n",
       "      <td></td>\n",
       "      <td>307</td>\n",
       "      <td></td>\n",
       "      <td>2019-08-05 09:55:45 PM</td>\n",
       "      <td>40.714275</td>\n",
       "      <td></td>\n",
       "      <td>-73.989900</td>\n",
       "      <td></td>\n",
       "      <td>Canal St &amp; Rutgers St</td>\n",
       "      <td></td>\n",
       "      <td>Canal St &amp; Rutgers St</td>\n",
       "      <td>1</td>\n",
       "      <td>In Service</td>\n",
       "      <td>False</td>\n",
       "      <td>30</td>\n",
       "    </tr>\n",
       "    <tr>\n",
       "      <th>2</th>\n",
       "      <td></td>\n",
       "      <td>5</td>\n",
       "      <td>22</td>\n",
       "      <td></td>\n",
       "      <td>312</td>\n",
       "      <td></td>\n",
       "      <td>2019-08-05 09:57:18 PM</td>\n",
       "      <td>40.722055</td>\n",
       "      <td></td>\n",
       "      <td>-73.989111</td>\n",
       "      <td></td>\n",
       "      <td>Allen St &amp; Stanton St</td>\n",
       "      <td></td>\n",
       "      <td>Allen St &amp; Stanton St</td>\n",
       "      <td>1</td>\n",
       "      <td>In Service</td>\n",
       "      <td>False</td>\n",
       "      <td>31</td>\n",
       "    </tr>\n",
       "    <tr>\n",
       "      <th>3</th>\n",
       "      <td></td>\n",
       "      <td>9</td>\n",
       "      <td>38</td>\n",
       "      <td></td>\n",
       "      <td>358</td>\n",
       "      <td></td>\n",
       "      <td>2019-08-05 09:54:19 PM</td>\n",
       "      <td>40.732916</td>\n",
       "      <td></td>\n",
       "      <td>-74.007114</td>\n",
       "      <td></td>\n",
       "      <td>Christopher St &amp; Greenwich St</td>\n",
       "      <td></td>\n",
       "      <td>Christopher St &amp; Greenwich St</td>\n",
       "      <td>1</td>\n",
       "      <td>In Service</td>\n",
       "      <td>False</td>\n",
       "      <td>50</td>\n",
       "    </tr>\n",
       "    <tr>\n",
       "      <th>4</th>\n",
       "      <td></td>\n",
       "      <td>7</td>\n",
       "      <td>19</td>\n",
       "      <td></td>\n",
       "      <td>432</td>\n",
       "      <td></td>\n",
       "      <td>2019-08-05 09:57:17 PM</td>\n",
       "      <td>40.726218</td>\n",
       "      <td></td>\n",
       "      <td>-73.983799</td>\n",
       "      <td></td>\n",
       "      <td>E 7 St &amp; Avenue A</td>\n",
       "      <td></td>\n",
       "      <td>E 7 St &amp; Avenue A</td>\n",
       "      <td>1</td>\n",
       "      <td>In Service</td>\n",
       "      <td>False</td>\n",
       "      <td>31</td>\n",
       "    </tr>\n",
       "  </tbody>\n",
       "</table>\n",
       "</div>"
      ],
      "text/plain": [
       "  altitude  availableBikes  availableDocks city   id landMark  \\\n",
       "0                       38              19       301            \n",
       "1                        3              25       307            \n",
       "2                        5              22       312            \n",
       "3                        9              38       358            \n",
       "4                        7              19       432            \n",
       "\n",
       "    lastCommunicationTime   latitude location  longitude postalCode  \\\n",
       "0  2019-08-05 09:57:06 PM  40.722174          -73.983688              \n",
       "1  2019-08-05 09:55:45 PM  40.714275          -73.989900              \n",
       "2  2019-08-05 09:57:18 PM  40.722055          -73.989111              \n",
       "3  2019-08-05 09:54:19 PM  40.732916          -74.007114              \n",
       "4  2019-08-05 09:57:17 PM  40.726218          -73.983799              \n",
       "\n",
       "                      stAddress1 stAddress2                    stationName  \\\n",
       "0              E 2 St & Avenue B                         E 2 St & Avenue B   \n",
       "1          Canal St & Rutgers St                     Canal St & Rutgers St   \n",
       "2          Allen St & Stanton St                     Allen St & Stanton St   \n",
       "3  Christopher St & Greenwich St             Christopher St & Greenwich St   \n",
       "4              E 7 St & Avenue A                         E 7 St & Avenue A   \n",
       "\n",
       "   statusKey statusValue  testStation  totalDocks  \n",
       "0          1  In Service        False          58  \n",
       "1          1  In Service        False          30  \n",
       "2          1  In Service        False          31  \n",
       "3          1  In Service        False          50  \n",
       "4          1  In Service        False          31  "
      ]
     },
     "execution_count": 35,
     "metadata": {},
     "output_type": "execute_result"
    }
   ],
   "source": [
    "station.head(5)"
   ]
  },
  {
   "cell_type": "code",
   "execution_count": 51,
   "metadata": {},
   "outputs": [],
   "source": [
    "import plotly.express as px\n",
    "\n",
    "px.set_mapbox_access_token(open('token.txt').read())\n",
    "fig = px.scatter_mapbox(station,\n",
    "                        lat='latitude',\n",
    "                        lon='longitude',\n",
    "                        color='availableBikes',\n",
    "                        size='availableBikes',\n",
    "                        color_continuous_scale='Magma',\n",
    "                        size_max=10,\n",
    "                        zoom=11)\n",
    "# fig.show()"
   ]
  },
  {
   "cell_type": "markdown",
   "metadata": {},
   "source": [
    "## Stations with no bikes!"
   ]
  },
  {
   "cell_type": "code",
   "execution_count": 76,
   "metadata": {},
   "outputs": [
    {
     "name": "stdout",
     "output_type": "stream",
     "text": [
      "There are 107 stations without bike to use.\n"
     ]
    },
    {
     "data": {
      "text/html": [
       "<div>\n",
       "<style scoped>\n",
       "    .dataframe tbody tr th:only-of-type {\n",
       "        vertical-align: middle;\n",
       "    }\n",
       "\n",
       "    .dataframe tbody tr th {\n",
       "        vertical-align: top;\n",
       "    }\n",
       "\n",
       "    .dataframe thead th {\n",
       "        text-align: right;\n",
       "    }\n",
       "</style>\n",
       "<table border=\"1\" class=\"dataframe\">\n",
       "  <thead>\n",
       "    <tr style=\"text-align: right;\">\n",
       "      <th></th>\n",
       "      <th>stationName</th>\n",
       "      <th>availableBikes</th>\n",
       "      <th>availableDocks</th>\n",
       "    </tr>\n",
       "  </thead>\n",
       "  <tbody>\n",
       "    <tr>\n",
       "      <th>112</th>\n",
       "      <td>Old Slip &amp; Front St</td>\n",
       "      <td>0</td>\n",
       "      <td>36</td>\n",
       "    </tr>\n",
       "    <tr>\n",
       "      <th>422</th>\n",
       "      <td>5 Corners Library</td>\n",
       "      <td>0</td>\n",
       "      <td>18</td>\n",
       "    </tr>\n",
       "    <tr>\n",
       "      <th>313</th>\n",
       "      <td>Division Ave &amp; Marcy Ave</td>\n",
       "      <td>0</td>\n",
       "      <td>33</td>\n",
       "    </tr>\n",
       "    <tr>\n",
       "      <th>50</th>\n",
       "      <td>Laight St &amp; Hudson St</td>\n",
       "      <td>0</td>\n",
       "      <td>23</td>\n",
       "    </tr>\n",
       "    <tr>\n",
       "      <th>189</th>\n",
       "      <td>W 27 St &amp; 7 Ave</td>\n",
       "      <td>0</td>\n",
       "      <td>51</td>\n",
       "    </tr>\n",
       "  </tbody>\n",
       "</table>\n",
       "</div>"
      ],
      "text/plain": [
       "                  stationName  availableBikes  availableDocks\n",
       "112       Old Slip & Front St               0              36\n",
       "422         5 Corners Library               0              18\n",
       "313  Division Ave & Marcy Ave               0              33\n",
       "50      Laight St & Hudson St               0              23\n",
       "189           W 27 St & 7 Ave               0              51"
      ]
     },
     "execution_count": 76,
     "metadata": {},
     "output_type": "execute_result"
    }
   ],
   "source": [
    "zero_bikes = station[station['availableBikes'] == 0]\n",
    "zero_bikes = zero_bikes[zero_bikes['statusValue'] == 'In Service']\n",
    "\n",
    "print('There are {0} stations without bike to use.'.format(zero_bikes.shape[0]))\n",
    "zero_bikes[['stationName', 'availableBikes', 'availableDocks']].sample(5)"
   ]
  },
  {
   "cell_type": "code",
   "execution_count": 77,
   "metadata": {},
   "outputs": [
    {
     "data": {
      "application/vnd.plotly.v1+json": {
       "config": {
        "plotlyServerURL": "https://plot.ly"
       },
       "data": [
        {
         "hoverlabel": {
          "namelength": 0
         },
         "hovertemplate": "availableDocks=%{marker.color}<br>latitude=%{lat}<br>longitude=%{lon}",
         "lat": [
          40.71911552,
          40.722103786686034,
          40.75323098,
          40.73971301,
          40.7546011026,
          40.72743423,
          40.72185379,
          40.72317958,
          40.70365182,
          40.75097711,
          40.71748752,
          40.7643971,
          40.72362738,
          40.7149787,
          40.73624527,
          40.71450451,
          40.72903917,
          40.7037992,
          40.75510267,
          40.75172632,
          40.749156,
          40.75797322,
          40.749717753,
          40.7047177,
          40.76584941,
          40.71754834,
          40.74173969,
          40.746647,
          40.76370739,
          40.7597108,
          40.746745,
          40.74395411,
          40.76344058,
          40.75500254,
          40.75038009,
          40.7462009,
          40.74096374,
          40.74734825,
          40.73704984,
          40.76915505,
          40.76228826,
          40.73827428,
          40.75206862,
          40.751873,
          40.75992262,
          40.75714758,
          40.75466591,
          40.74765947,
          40.74290902,
          40.75299641,
          40.74144387,
          40.74311555376486,
          40.70708701,
          40.70924826276157,
          40.74232744,
          40.74708586,
          40.76712840349542,
          40.76312584,
          40.766368,
          40.76500525,
          40.77632142182271,
          40.77862688,
          40.77163851,
          40.7734066,
          40.7141454,
          40.71958611647166,
          40.73089709786179,
          40.7272235,
          40.7311689,
          40.734961020009514,
          40.76780080148132,
          40.75724567911726,
          40.752165280621966,
          40.72706363348306,
          40.721650724879986,
          40.7835016,
          40.78948541553215,
          40.6729679,
          40.668132,
          40.76800889305947,
          40.76471851944339,
          40.804213,
          40.6750207,
          40.72430527250332,
          40.735367055605394,
          40.8082,
          40.8067581,
          40.81028506306003,
          40.805973,
          40.6721683,
          40.6716493,
          40.73367,
          40.74286877312112,
          40.701403172577244,
          40.754120810779256,
          40.739448201304036,
          40.71334184275907,
          40.699997484388504,
          40.7667405590595,
          40.7687620293096,
          40.705614,
          40.702831,
          40.69985,
          40.73269,
          40.71687,
          40.752269,
          40.74964
         ],
         "legendgroup": "",
         "lon": [
          -74.00666661,
          -73.99724900722504,
          -73.97032517,
          -73.99456405,
          -73.971878855,
          -73.99379025,
          -74.00771779,
          -73.99480012,
          -74.01167797,
          -73.98765428,
          -74.0104554,
          -73.97371465,
          -73.99949601,
          -74.013012,
          -73.98473765,
          -74.00562789,
          -73.99404649,
          -74.00838676,
          -73.97498696,
          -73.98753523,
          -73.9916,
          -73.96603308,
          -74.002950346,
          -74.00926027,
          -73.98690506,
          -74.01322069,
          -73.99415556,
          -73.993915,
          -73.9851615,
          -73.97402311,
          -74.007756,
          -73.99144871,
          -73.98268129,
          -73.98014437,
          -73.98338988,
          -73.98855723,
          -73.98602213,
          -73.99723551,
          -73.99009296,
          -73.98191841,
          -73.98336183,
          -73.98751968,
          -73.96784384,
          -73.977706,
          -73.97648516,
          -73.97207836,
          -73.99138152,
          -73.98490707,
          -73.97706058,
          -73.98721619,
          -73.97536082,
          -73.98215353488922,
          -73.95796783,
          -73.96063148975372,
          -73.95411749,
          -73.94977234,
          -73.96224617958069,
          -73.96526895,
          -73.971518,
          -73.95818491,
          -73.96427392959595,
          -73.95772073,
          -73.98261428,
          -73.97782542,
          -74.0335519,
          -74.04311746358871,
          -74.06391263008118,
          -74.0337589,
          -74.0575736,
          -74.0595030784607,
          -73.96592080593109,
          -73.97805914282799,
          -73.97992193698882,
          -73.99662137031554,
          -74.04288411140442,
          -73.955327,
          -73.95242929458618,
          -73.97087984,
          -73.97363831,
          -73.96845281124115,
          -73.96222069859505,
          -73.96699104,
          -73.97111473,
          -73.99600982666016,
          -73.98797392845154,
          -73.9641,
          -73.9607082,
          -73.95736455917358,
          -73.964928,
          -73.9609,
          -73.9631145,
          -74.0625,
          -73.98918628692627,
          -73.98672670125961,
          -73.98025184869766,
          -74.00507032871246,
          -74.00935515761375,
          -73.97440128028393,
          -73.9790689945221,
          -73.95840793848038,
          -73.92153,
          -73.9333,
          -73.97141,
          -73.98974,
          -74.03281,
          -73.982079,
          -73.98805
         ],
         "marker": {
          "color": [
           32,
           33,
           45,
           46,
           52,
           22,
           23,
           24,
           33,
           54,
           25,
           60,
           66,
           39,
           34,
           39,
           26,
           36,
           62,
           56,
           41,
           28,
           35,
           42,
           25,
           23,
           49,
           51,
           30,
           34,
           47,
           26,
           56,
           43,
           40,
           41,
           45,
           63,
           61,
           31,
           52,
           30,
           31,
           65,
           37,
           51,
           49,
           38,
           38,
           45,
           29,
           27,
           33,
           26,
           45,
           23,
           31,
           51,
           46,
           58,
           47,
           45,
           30,
           42,
           14,
           40,
           34,
           16,
           26,
           18,
           39,
           37,
           31,
           44,
           17,
           38,
           35,
           29,
           30,
           25,
           39,
           23,
           32,
           39,
           37,
           43,
           43,
           33,
           37,
           28,
           30,
           17,
           52,
           27,
           54,
           38,
           35,
           15,
           38,
           39,
           23,
           21,
           22,
           26,
           28,
           53,
           31
          ],
          "coloraxis": "coloraxis",
          "size": [
           32,
           33,
           45,
           46,
           52,
           22,
           23,
           24,
           33,
           54,
           25,
           60,
           66,
           39,
           34,
           39,
           26,
           36,
           62,
           56,
           41,
           28,
           35,
           42,
           25,
           23,
           49,
           51,
           30,
           34,
           47,
           26,
           56,
           43,
           40,
           41,
           45,
           63,
           61,
           31,
           52,
           30,
           31,
           65,
           37,
           51,
           49,
           38,
           38,
           45,
           29,
           27,
           33,
           26,
           45,
           23,
           31,
           51,
           46,
           58,
           47,
           45,
           30,
           42,
           14,
           40,
           34,
           16,
           26,
           18,
           39,
           37,
           31,
           44,
           17,
           38,
           35,
           29,
           30,
           25,
           39,
           23,
           32,
           39,
           37,
           43,
           43,
           33,
           37,
           28,
           30,
           17,
           52,
           27,
           54,
           38,
           35,
           15,
           38,
           39,
           23,
           21,
           22,
           26,
           28,
           53,
           31
          ],
          "sizemode": "area",
          "sizeref": 0.29333333333333333
         },
         "mode": "markers",
         "name": "",
         "showlegend": false,
         "subplot": "mapbox",
         "type": "scattermapbox"
        }
       ],
       "layout": {
        "coloraxis": {
         "colorbar": {
          "title": {
           "text": "availableDocks"
          }
         },
         "colorscale": [
          [
           0,
           "#000004"
          ],
          [
           0.1111111111111111,
           "#180f3d"
          ],
          [
           0.2222222222222222,
           "#440f76"
          ],
          [
           0.3333333333333333,
           "#721f81"
          ],
          [
           0.4444444444444444,
           "#9e2f7f"
          ],
          [
           0.5555555555555556,
           "#cd4071"
          ],
          [
           0.6666666666666666,
           "#f1605d"
          ],
          [
           0.7777777777777778,
           "#fd9668"
          ],
          [
           0.8888888888888888,
           "#feca8d"
          ],
          [
           1,
           "#fcfdbf"
          ]
         ]
        },
        "height": 600,
        "legend": {
         "itemsizing": "constant",
         "tracegroupgap": 0
        },
        "mapbox": {
         "accesstoken": "pk.eyJ1IjoieWdjaGFuIiwiYSI6ImNqeXo0dTQ3aTAxY2gzY29ranY1d2FxMmoifQ.PZG7c2AG-VqrcF9wESKjGA",
         "center": {
          "lat": 40.74187186346317,
          "lon": -73.98612033268081
         },
         "domain": {
          "x": [
           0,
           0.98
          ],
          "y": [
           0,
           1
          ]
         },
         "zoom": 11
        },
        "margin": {
         "t": 60
        },
        "template": {
         "data": {
          "bar": [
           {
            "error_x": {
             "color": "#2a3f5f"
            },
            "error_y": {
             "color": "#2a3f5f"
            },
            "marker": {
             "line": {
              "color": "#E5ECF6",
              "width": 0.5
             }
            },
            "type": "bar"
           }
          ],
          "barpolar": [
           {
            "marker": {
             "line": {
              "color": "#E5ECF6",
              "width": 0.5
             }
            },
            "type": "barpolar"
           }
          ],
          "carpet": [
           {
            "aaxis": {
             "endlinecolor": "#2a3f5f",
             "gridcolor": "white",
             "linecolor": "white",
             "minorgridcolor": "white",
             "startlinecolor": "#2a3f5f"
            },
            "baxis": {
             "endlinecolor": "#2a3f5f",
             "gridcolor": "white",
             "linecolor": "white",
             "minorgridcolor": "white",
             "startlinecolor": "#2a3f5f"
            },
            "type": "carpet"
           }
          ],
          "choropleth": [
           {
            "colorbar": {
             "outlinewidth": 0,
             "ticks": ""
            },
            "type": "choropleth"
           }
          ],
          "contour": [
           {
            "colorbar": {
             "outlinewidth": 0,
             "ticks": ""
            },
            "colorscale": [
             [
              0,
              "#0d0887"
             ],
             [
              0.1111111111111111,
              "#46039f"
             ],
             [
              0.2222222222222222,
              "#7201a8"
             ],
             [
              0.3333333333333333,
              "#9c179e"
             ],
             [
              0.4444444444444444,
              "#bd3786"
             ],
             [
              0.5555555555555556,
              "#d8576b"
             ],
             [
              0.6666666666666666,
              "#ed7953"
             ],
             [
              0.7777777777777778,
              "#fb9f3a"
             ],
             [
              0.8888888888888888,
              "#fdca26"
             ],
             [
              1,
              "#f0f921"
             ]
            ],
            "type": "contour"
           }
          ],
          "contourcarpet": [
           {
            "colorbar": {
             "outlinewidth": 0,
             "ticks": ""
            },
            "type": "contourcarpet"
           }
          ],
          "heatmap": [
           {
            "colorbar": {
             "outlinewidth": 0,
             "ticks": ""
            },
            "colorscale": [
             [
              0,
              "#0d0887"
             ],
             [
              0.1111111111111111,
              "#46039f"
             ],
             [
              0.2222222222222222,
              "#7201a8"
             ],
             [
              0.3333333333333333,
              "#9c179e"
             ],
             [
              0.4444444444444444,
              "#bd3786"
             ],
             [
              0.5555555555555556,
              "#d8576b"
             ],
             [
              0.6666666666666666,
              "#ed7953"
             ],
             [
              0.7777777777777778,
              "#fb9f3a"
             ],
             [
              0.8888888888888888,
              "#fdca26"
             ],
             [
              1,
              "#f0f921"
             ]
            ],
            "type": "heatmap"
           }
          ],
          "heatmapgl": [
           {
            "colorbar": {
             "outlinewidth": 0,
             "ticks": ""
            },
            "colorscale": [
             [
              0,
              "#0d0887"
             ],
             [
              0.1111111111111111,
              "#46039f"
             ],
             [
              0.2222222222222222,
              "#7201a8"
             ],
             [
              0.3333333333333333,
              "#9c179e"
             ],
             [
              0.4444444444444444,
              "#bd3786"
             ],
             [
              0.5555555555555556,
              "#d8576b"
             ],
             [
              0.6666666666666666,
              "#ed7953"
             ],
             [
              0.7777777777777778,
              "#fb9f3a"
             ],
             [
              0.8888888888888888,
              "#fdca26"
             ],
             [
              1,
              "#f0f921"
             ]
            ],
            "type": "heatmapgl"
           }
          ],
          "histogram": [
           {
            "marker": {
             "colorbar": {
              "outlinewidth": 0,
              "ticks": ""
             }
            },
            "type": "histogram"
           }
          ],
          "histogram2d": [
           {
            "colorbar": {
             "outlinewidth": 0,
             "ticks": ""
            },
            "colorscale": [
             [
              0,
              "#0d0887"
             ],
             [
              0.1111111111111111,
              "#46039f"
             ],
             [
              0.2222222222222222,
              "#7201a8"
             ],
             [
              0.3333333333333333,
              "#9c179e"
             ],
             [
              0.4444444444444444,
              "#bd3786"
             ],
             [
              0.5555555555555556,
              "#d8576b"
             ],
             [
              0.6666666666666666,
              "#ed7953"
             ],
             [
              0.7777777777777778,
              "#fb9f3a"
             ],
             [
              0.8888888888888888,
              "#fdca26"
             ],
             [
              1,
              "#f0f921"
             ]
            ],
            "type": "histogram2d"
           }
          ],
          "histogram2dcontour": [
           {
            "colorbar": {
             "outlinewidth": 0,
             "ticks": ""
            },
            "colorscale": [
             [
              0,
              "#0d0887"
             ],
             [
              0.1111111111111111,
              "#46039f"
             ],
             [
              0.2222222222222222,
              "#7201a8"
             ],
             [
              0.3333333333333333,
              "#9c179e"
             ],
             [
              0.4444444444444444,
              "#bd3786"
             ],
             [
              0.5555555555555556,
              "#d8576b"
             ],
             [
              0.6666666666666666,
              "#ed7953"
             ],
             [
              0.7777777777777778,
              "#fb9f3a"
             ],
             [
              0.8888888888888888,
              "#fdca26"
             ],
             [
              1,
              "#f0f921"
             ]
            ],
            "type": "histogram2dcontour"
           }
          ],
          "mesh3d": [
           {
            "colorbar": {
             "outlinewidth": 0,
             "ticks": ""
            },
            "type": "mesh3d"
           }
          ],
          "parcoords": [
           {
            "line": {
             "colorbar": {
              "outlinewidth": 0,
              "ticks": ""
             }
            },
            "type": "parcoords"
           }
          ],
          "scatter": [
           {
            "marker": {
             "colorbar": {
              "outlinewidth": 0,
              "ticks": ""
             }
            },
            "type": "scatter"
           }
          ],
          "scatter3d": [
           {
            "line": {
             "colorbar": {
              "outlinewidth": 0,
              "ticks": ""
             }
            },
            "marker": {
             "colorbar": {
              "outlinewidth": 0,
              "ticks": ""
             }
            },
            "type": "scatter3d"
           }
          ],
          "scattercarpet": [
           {
            "marker": {
             "colorbar": {
              "outlinewidth": 0,
              "ticks": ""
             }
            },
            "type": "scattercarpet"
           }
          ],
          "scattergeo": [
           {
            "marker": {
             "colorbar": {
              "outlinewidth": 0,
              "ticks": ""
             }
            },
            "type": "scattergeo"
           }
          ],
          "scattergl": [
           {
            "marker": {
             "colorbar": {
              "outlinewidth": 0,
              "ticks": ""
             }
            },
            "type": "scattergl"
           }
          ],
          "scattermapbox": [
           {
            "marker": {
             "colorbar": {
              "outlinewidth": 0,
              "ticks": ""
             }
            },
            "type": "scattermapbox"
           }
          ],
          "scatterpolar": [
           {
            "marker": {
             "colorbar": {
              "outlinewidth": 0,
              "ticks": ""
             }
            },
            "type": "scatterpolar"
           }
          ],
          "scatterpolargl": [
           {
            "marker": {
             "colorbar": {
              "outlinewidth": 0,
              "ticks": ""
             }
            },
            "type": "scatterpolargl"
           }
          ],
          "scatterternary": [
           {
            "marker": {
             "colorbar": {
              "outlinewidth": 0,
              "ticks": ""
             }
            },
            "type": "scatterternary"
           }
          ],
          "surface": [
           {
            "colorbar": {
             "outlinewidth": 0,
             "ticks": ""
            },
            "colorscale": [
             [
              0,
              "#0d0887"
             ],
             [
              0.1111111111111111,
              "#46039f"
             ],
             [
              0.2222222222222222,
              "#7201a8"
             ],
             [
              0.3333333333333333,
              "#9c179e"
             ],
             [
              0.4444444444444444,
              "#bd3786"
             ],
             [
              0.5555555555555556,
              "#d8576b"
             ],
             [
              0.6666666666666666,
              "#ed7953"
             ],
             [
              0.7777777777777778,
              "#fb9f3a"
             ],
             [
              0.8888888888888888,
              "#fdca26"
             ],
             [
              1,
              "#f0f921"
             ]
            ],
            "type": "surface"
           }
          ],
          "table": [
           {
            "cells": {
             "fill": {
              "color": "#EBF0F8"
             },
             "line": {
              "color": "white"
             }
            },
            "header": {
             "fill": {
              "color": "#C8D4E3"
             },
             "line": {
              "color": "white"
             }
            },
            "type": "table"
           }
          ]
         },
         "layout": {
          "annotationdefaults": {
           "arrowcolor": "#2a3f5f",
           "arrowhead": 0,
           "arrowwidth": 1
          },
          "colorscale": {
           "diverging": [
            [
             0,
             "#8e0152"
            ],
            [
             0.1,
             "#c51b7d"
            ],
            [
             0.2,
             "#de77ae"
            ],
            [
             0.3,
             "#f1b6da"
            ],
            [
             0.4,
             "#fde0ef"
            ],
            [
             0.5,
             "#f7f7f7"
            ],
            [
             0.6,
             "#e6f5d0"
            ],
            [
             0.7,
             "#b8e186"
            ],
            [
             0.8,
             "#7fbc41"
            ],
            [
             0.9,
             "#4d9221"
            ],
            [
             1,
             "#276419"
            ]
           ],
           "sequential": [
            [
             0,
             "#0d0887"
            ],
            [
             0.1111111111111111,
             "#46039f"
            ],
            [
             0.2222222222222222,
             "#7201a8"
            ],
            [
             0.3333333333333333,
             "#9c179e"
            ],
            [
             0.4444444444444444,
             "#bd3786"
            ],
            [
             0.5555555555555556,
             "#d8576b"
            ],
            [
             0.6666666666666666,
             "#ed7953"
            ],
            [
             0.7777777777777778,
             "#fb9f3a"
            ],
            [
             0.8888888888888888,
             "#fdca26"
            ],
            [
             1,
             "#f0f921"
            ]
           ],
           "sequentialminus": [
            [
             0,
             "#0d0887"
            ],
            [
             0.1111111111111111,
             "#46039f"
            ],
            [
             0.2222222222222222,
             "#7201a8"
            ],
            [
             0.3333333333333333,
             "#9c179e"
            ],
            [
             0.4444444444444444,
             "#bd3786"
            ],
            [
             0.5555555555555556,
             "#d8576b"
            ],
            [
             0.6666666666666666,
             "#ed7953"
            ],
            [
             0.7777777777777778,
             "#fb9f3a"
            ],
            [
             0.8888888888888888,
             "#fdca26"
            ],
            [
             1,
             "#f0f921"
            ]
           ]
          },
          "colorway": [
           "#636efa",
           "#EF553B",
           "#00cc96",
           "#ab63fa",
           "#FFA15A",
           "#19d3f3",
           "#FF6692",
           "#B6E880",
           "#FF97FF",
           "#FECB52"
          ],
          "font": {
           "color": "#2a3f5f"
          },
          "geo": {
           "bgcolor": "white",
           "lakecolor": "white",
           "landcolor": "#E5ECF6",
           "showlakes": true,
           "showland": true,
           "subunitcolor": "white"
          },
          "hoverlabel": {
           "align": "left"
          },
          "hovermode": "closest",
          "mapbox": {
           "style": "light"
          },
          "paper_bgcolor": "white",
          "plot_bgcolor": "#E5ECF6",
          "polar": {
           "angularaxis": {
            "gridcolor": "white",
            "linecolor": "white",
            "ticks": ""
           },
           "bgcolor": "#E5ECF6",
           "radialaxis": {
            "gridcolor": "white",
            "linecolor": "white",
            "ticks": ""
           }
          },
          "scene": {
           "xaxis": {
            "backgroundcolor": "#E5ECF6",
            "gridcolor": "white",
            "gridwidth": 2,
            "linecolor": "white",
            "showbackground": true,
            "ticks": "",
            "zerolinecolor": "white"
           },
           "yaxis": {
            "backgroundcolor": "#E5ECF6",
            "gridcolor": "white",
            "gridwidth": 2,
            "linecolor": "white",
            "showbackground": true,
            "ticks": "",
            "zerolinecolor": "white"
           },
           "zaxis": {
            "backgroundcolor": "#E5ECF6",
            "gridcolor": "white",
            "gridwidth": 2,
            "linecolor": "white",
            "showbackground": true,
            "ticks": "",
            "zerolinecolor": "white"
           }
          },
          "shapedefaults": {
           "line": {
            "color": "#2a3f5f"
           }
          },
          "ternary": {
           "aaxis": {
            "gridcolor": "white",
            "linecolor": "white",
            "ticks": ""
           },
           "baxis": {
            "gridcolor": "white",
            "linecolor": "white",
            "ticks": ""
           },
           "bgcolor": "#E5ECF6",
           "caxis": {
            "gridcolor": "white",
            "linecolor": "white",
            "ticks": ""
           }
          },
          "title": {
           "x": 0.05
          },
          "xaxis": {
           "automargin": true,
           "gridcolor": "white",
           "linecolor": "white",
           "ticks": "",
           "zerolinecolor": "white",
           "zerolinewidth": 2
          },
          "yaxis": {
           "automargin": true,
           "gridcolor": "white",
           "linecolor": "white",
           "ticks": "",
           "zerolinecolor": "white",
           "zerolinewidth": 2
          }
         }
        }
       }
      },
      "text/html": [
       "<div>\n",
       "        \n",
       "        \n",
       "            <div id=\"5a0b8284-7b2f-4b79-a422-7db6895c029c\" class=\"plotly-graph-div\" style=\"height:600px; width:100%;\"></div>\n",
       "            <script type=\"text/javascript\">\n",
       "                require([\"plotly\"], function(Plotly) {\n",
       "                    window.PLOTLYENV=window.PLOTLYENV || {};\n",
       "                    \n",
       "                if (document.getElementById(\"5a0b8284-7b2f-4b79-a422-7db6895c029c\")) {\n",
       "                    Plotly.newPlot(\n",
       "                        '5a0b8284-7b2f-4b79-a422-7db6895c029c',\n",
       "                        [{\"hoverlabel\": {\"namelength\": 0}, \"hovertemplate\": \"availableDocks=%{marker.color}<br>latitude=%{lat}<br>longitude=%{lon}\", \"lat\": [40.71911552, 40.722103786686034, 40.75323098, 40.73971301, 40.7546011026, 40.72743423, 40.72185379, 40.72317958, 40.70365182, 40.75097711, 40.71748752, 40.7643971, 40.72362738, 40.7149787, 40.73624527, 40.71450451, 40.72903917, 40.7037992, 40.75510267, 40.75172632, 40.749156, 40.75797322, 40.749717753, 40.7047177, 40.76584941, 40.71754834, 40.74173969, 40.746647, 40.76370739, 40.7597108, 40.746745, 40.74395411, 40.76344058, 40.75500254, 40.75038009, 40.7462009, 40.74096374, 40.74734825, 40.73704984, 40.76915505, 40.76228826, 40.73827428, 40.75206862, 40.751873, 40.75992262, 40.75714758, 40.75466591, 40.74765947, 40.74290902, 40.75299641, 40.74144387, 40.74311555376486, 40.70708701, 40.70924826276157, 40.74232744, 40.74708586, 40.76712840349542, 40.76312584, 40.766368, 40.76500525, 40.77632142182271, 40.77862688, 40.77163851, 40.7734066, 40.7141454, 40.71958611647166, 40.73089709786179, 40.7272235, 40.7311689, 40.734961020009514, 40.76780080148132, 40.75724567911726, 40.752165280621966, 40.72706363348306, 40.721650724879986, 40.7835016, 40.78948541553215, 40.6729679, 40.668132, 40.76800889305947, 40.76471851944339, 40.804213, 40.6750207, 40.72430527250332, 40.735367055605394, 40.8082, 40.8067581, 40.81028506306003, 40.805973, 40.6721683, 40.6716493, 40.73367, 40.74286877312112, 40.701403172577244, 40.754120810779256, 40.739448201304036, 40.71334184275907, 40.699997484388504, 40.7667405590595, 40.7687620293096, 40.705614, 40.702831, 40.69985, 40.73269, 40.71687, 40.752269, 40.74964], \"legendgroup\": \"\", \"lon\": [-74.00666661, -73.99724900722504, -73.97032517, -73.99456405, -73.971878855, -73.99379025, -74.00771779, -73.99480012, -74.01167797, -73.98765428, -74.0104554, -73.97371465, -73.99949601, -74.013012, -73.98473765, -74.00562789, -73.99404649, -74.00838676, -73.97498696, -73.98753523, -73.9916, -73.96603308, -74.002950346, -74.00926027, -73.98690506, -74.01322069, -73.99415556, -73.993915, -73.9851615, -73.97402311, -74.007756, -73.99144871, -73.98268129, -73.98014437, -73.98338988, -73.98855723, -73.98602213, -73.99723551, -73.99009296, -73.98191841, -73.98336183, -73.98751968, -73.96784384, -73.977706, -73.97648516, -73.97207836, -73.99138152, -73.98490707, -73.97706058, -73.98721619, -73.97536082, -73.98215353488922, -73.95796783, -73.96063148975372, -73.95411749, -73.94977234, -73.96224617958069, -73.96526895, -73.971518, -73.95818491, -73.96427392959595, -73.95772073, -73.98261428, -73.97782542, -74.0335519, -74.04311746358871, -74.06391263008118, -74.0337589, -74.0575736, -74.0595030784607, -73.96592080593109, -73.97805914282799, -73.97992193698882, -73.99662137031554, -74.04288411140442, -73.955327, -73.95242929458618, -73.97087984, -73.97363831, -73.96845281124115, -73.96222069859505, -73.96699104, -73.97111473, -73.99600982666016, -73.98797392845154, -73.9641, -73.9607082, -73.95736455917358, -73.964928, -73.9609, -73.9631145, -74.0625, -73.98918628692627, -73.98672670125961, -73.98025184869766, -74.00507032871246, -74.00935515761375, -73.97440128028393, -73.9790689945221, -73.95840793848038, -73.92153, -73.9333, -73.97141, -73.98974, -74.03281, -73.982079, -73.98805], \"marker\": {\"color\": [32, 33, 45, 46, 52, 22, 23, 24, 33, 54, 25, 60, 66, 39, 34, 39, 26, 36, 62, 56, 41, 28, 35, 42, 25, 23, 49, 51, 30, 34, 47, 26, 56, 43, 40, 41, 45, 63, 61, 31, 52, 30, 31, 65, 37, 51, 49, 38, 38, 45, 29, 27, 33, 26, 45, 23, 31, 51, 46, 58, 47, 45, 30, 42, 14, 40, 34, 16, 26, 18, 39, 37, 31, 44, 17, 38, 35, 29, 30, 25, 39, 23, 32, 39, 37, 43, 43, 33, 37, 28, 30, 17, 52, 27, 54, 38, 35, 15, 38, 39, 23, 21, 22, 26, 28, 53, 31], \"coloraxis\": \"coloraxis\", \"size\": [32, 33, 45, 46, 52, 22, 23, 24, 33, 54, 25, 60, 66, 39, 34, 39, 26, 36, 62, 56, 41, 28, 35, 42, 25, 23, 49, 51, 30, 34, 47, 26, 56, 43, 40, 41, 45, 63, 61, 31, 52, 30, 31, 65, 37, 51, 49, 38, 38, 45, 29, 27, 33, 26, 45, 23, 31, 51, 46, 58, 47, 45, 30, 42, 14, 40, 34, 16, 26, 18, 39, 37, 31, 44, 17, 38, 35, 29, 30, 25, 39, 23, 32, 39, 37, 43, 43, 33, 37, 28, 30, 17, 52, 27, 54, 38, 35, 15, 38, 39, 23, 21, 22, 26, 28, 53, 31], \"sizemode\": \"area\", \"sizeref\": 0.29333333333333333}, \"mode\": \"markers\", \"name\": \"\", \"showlegend\": false, \"subplot\": \"mapbox\", \"type\": \"scattermapbox\"}],\n",
       "                        {\"coloraxis\": {\"colorbar\": {\"title\": {\"text\": \"availableDocks\"}}, \"colorscale\": [[0.0, \"#000004\"], [0.1111111111111111, \"#180f3d\"], [0.2222222222222222, \"#440f76\"], [0.3333333333333333, \"#721f81\"], [0.4444444444444444, \"#9e2f7f\"], [0.5555555555555556, \"#cd4071\"], [0.6666666666666666, \"#f1605d\"], [0.7777777777777778, \"#fd9668\"], [0.8888888888888888, \"#feca8d\"], [1.0, \"#fcfdbf\"]]}, \"height\": 600, \"legend\": {\"itemsizing\": \"constant\", \"tracegroupgap\": 0}, \"mapbox\": {\"accesstoken\": \"pk.eyJ1IjoieWdjaGFuIiwiYSI6ImNqeXo0dTQ3aTAxY2gzY29ranY1d2FxMmoifQ.PZG7c2AG-VqrcF9wESKjGA\", \"center\": {\"lat\": 40.74187186346317, \"lon\": -73.98612033268081}, \"domain\": {\"x\": [0.0, 0.98], \"y\": [0.0, 1.0]}, \"zoom\": 11}, \"margin\": {\"t\": 60}, \"template\": {\"data\": {\"bar\": [{\"error_x\": {\"color\": \"#2a3f5f\"}, \"error_y\": {\"color\": \"#2a3f5f\"}, \"marker\": {\"line\": {\"color\": \"#E5ECF6\", \"width\": 0.5}}, \"type\": \"bar\"}], \"barpolar\": [{\"marker\": {\"line\": {\"color\": \"#E5ECF6\", \"width\": 0.5}}, \"type\": \"barpolar\"}], \"carpet\": [{\"aaxis\": {\"endlinecolor\": \"#2a3f5f\", \"gridcolor\": \"white\", \"linecolor\": \"white\", \"minorgridcolor\": \"white\", \"startlinecolor\": \"#2a3f5f\"}, \"baxis\": {\"endlinecolor\": \"#2a3f5f\", \"gridcolor\": \"white\", \"linecolor\": \"white\", \"minorgridcolor\": \"white\", \"startlinecolor\": \"#2a3f5f\"}, \"type\": \"carpet\"}], \"choropleth\": [{\"colorbar\": {\"outlinewidth\": 0, \"ticks\": \"\"}, \"type\": \"choropleth\"}], \"contour\": [{\"colorbar\": {\"outlinewidth\": 0, \"ticks\": \"\"}, \"colorscale\": [[0.0, \"#0d0887\"], [0.1111111111111111, \"#46039f\"], [0.2222222222222222, \"#7201a8\"], [0.3333333333333333, \"#9c179e\"], [0.4444444444444444, \"#bd3786\"], [0.5555555555555556, \"#d8576b\"], [0.6666666666666666, \"#ed7953\"], [0.7777777777777778, \"#fb9f3a\"], [0.8888888888888888, \"#fdca26\"], [1.0, \"#f0f921\"]], \"type\": \"contour\"}], \"contourcarpet\": [{\"colorbar\": {\"outlinewidth\": 0, \"ticks\": \"\"}, \"type\": \"contourcarpet\"}], \"heatmap\": [{\"colorbar\": {\"outlinewidth\": 0, \"ticks\": \"\"}, \"colorscale\": [[0.0, \"#0d0887\"], [0.1111111111111111, \"#46039f\"], [0.2222222222222222, \"#7201a8\"], [0.3333333333333333, \"#9c179e\"], [0.4444444444444444, \"#bd3786\"], [0.5555555555555556, \"#d8576b\"], [0.6666666666666666, \"#ed7953\"], [0.7777777777777778, \"#fb9f3a\"], [0.8888888888888888, \"#fdca26\"], [1.0, \"#f0f921\"]], \"type\": \"heatmap\"}], \"heatmapgl\": [{\"colorbar\": {\"outlinewidth\": 0, \"ticks\": \"\"}, \"colorscale\": [[0.0, \"#0d0887\"], [0.1111111111111111, \"#46039f\"], [0.2222222222222222, \"#7201a8\"], [0.3333333333333333, \"#9c179e\"], [0.4444444444444444, \"#bd3786\"], [0.5555555555555556, \"#d8576b\"], [0.6666666666666666, \"#ed7953\"], [0.7777777777777778, \"#fb9f3a\"], [0.8888888888888888, \"#fdca26\"], [1.0, \"#f0f921\"]], \"type\": \"heatmapgl\"}], \"histogram\": [{\"marker\": {\"colorbar\": {\"outlinewidth\": 0, \"ticks\": \"\"}}, \"type\": \"histogram\"}], \"histogram2d\": [{\"colorbar\": {\"outlinewidth\": 0, \"ticks\": \"\"}, \"colorscale\": [[0.0, \"#0d0887\"], [0.1111111111111111, \"#46039f\"], [0.2222222222222222, \"#7201a8\"], [0.3333333333333333, \"#9c179e\"], [0.4444444444444444, \"#bd3786\"], [0.5555555555555556, \"#d8576b\"], [0.6666666666666666, \"#ed7953\"], [0.7777777777777778, \"#fb9f3a\"], [0.8888888888888888, \"#fdca26\"], [1.0, \"#f0f921\"]], \"type\": \"histogram2d\"}], \"histogram2dcontour\": [{\"colorbar\": {\"outlinewidth\": 0, \"ticks\": \"\"}, \"colorscale\": [[0.0, \"#0d0887\"], [0.1111111111111111, \"#46039f\"], [0.2222222222222222, \"#7201a8\"], [0.3333333333333333, \"#9c179e\"], [0.4444444444444444, \"#bd3786\"], [0.5555555555555556, \"#d8576b\"], [0.6666666666666666, \"#ed7953\"], [0.7777777777777778, \"#fb9f3a\"], [0.8888888888888888, \"#fdca26\"], [1.0, \"#f0f921\"]], \"type\": \"histogram2dcontour\"}], \"mesh3d\": [{\"colorbar\": {\"outlinewidth\": 0, \"ticks\": \"\"}, \"type\": \"mesh3d\"}], \"parcoords\": [{\"line\": {\"colorbar\": {\"outlinewidth\": 0, \"ticks\": \"\"}}, \"type\": \"parcoords\"}], \"scatter\": [{\"marker\": {\"colorbar\": {\"outlinewidth\": 0, \"ticks\": \"\"}}, \"type\": \"scatter\"}], \"scatter3d\": [{\"line\": {\"colorbar\": {\"outlinewidth\": 0, \"ticks\": \"\"}}, \"marker\": {\"colorbar\": {\"outlinewidth\": 0, \"ticks\": \"\"}}, \"type\": \"scatter3d\"}], \"scattercarpet\": [{\"marker\": {\"colorbar\": {\"outlinewidth\": 0, \"ticks\": \"\"}}, \"type\": \"scattercarpet\"}], \"scattergeo\": [{\"marker\": {\"colorbar\": {\"outlinewidth\": 0, \"ticks\": \"\"}}, \"type\": \"scattergeo\"}], \"scattergl\": [{\"marker\": {\"colorbar\": {\"outlinewidth\": 0, \"ticks\": \"\"}}, \"type\": \"scattergl\"}], \"scattermapbox\": [{\"marker\": {\"colorbar\": {\"outlinewidth\": 0, \"ticks\": \"\"}}, \"type\": \"scattermapbox\"}], \"scatterpolar\": [{\"marker\": {\"colorbar\": {\"outlinewidth\": 0, \"ticks\": \"\"}}, \"type\": \"scatterpolar\"}], \"scatterpolargl\": [{\"marker\": {\"colorbar\": {\"outlinewidth\": 0, \"ticks\": \"\"}}, \"type\": \"scatterpolargl\"}], \"scatterternary\": [{\"marker\": {\"colorbar\": {\"outlinewidth\": 0, \"ticks\": \"\"}}, \"type\": \"scatterternary\"}], \"surface\": [{\"colorbar\": {\"outlinewidth\": 0, \"ticks\": \"\"}, \"colorscale\": [[0.0, \"#0d0887\"], [0.1111111111111111, \"#46039f\"], [0.2222222222222222, \"#7201a8\"], [0.3333333333333333, \"#9c179e\"], [0.4444444444444444, \"#bd3786\"], [0.5555555555555556, \"#d8576b\"], [0.6666666666666666, \"#ed7953\"], [0.7777777777777778, \"#fb9f3a\"], [0.8888888888888888, \"#fdca26\"], [1.0, \"#f0f921\"]], \"type\": \"surface\"}], \"table\": [{\"cells\": {\"fill\": {\"color\": \"#EBF0F8\"}, \"line\": {\"color\": \"white\"}}, \"header\": {\"fill\": {\"color\": \"#C8D4E3\"}, \"line\": {\"color\": \"white\"}}, \"type\": \"table\"}]}, \"layout\": {\"annotationdefaults\": {\"arrowcolor\": \"#2a3f5f\", \"arrowhead\": 0, \"arrowwidth\": 1}, \"colorscale\": {\"diverging\": [[0, \"#8e0152\"], [0.1, \"#c51b7d\"], [0.2, \"#de77ae\"], [0.3, \"#f1b6da\"], [0.4, \"#fde0ef\"], [0.5, \"#f7f7f7\"], [0.6, \"#e6f5d0\"], [0.7, \"#b8e186\"], [0.8, \"#7fbc41\"], [0.9, \"#4d9221\"], [1, \"#276419\"]], \"sequential\": [[0.0, \"#0d0887\"], [0.1111111111111111, \"#46039f\"], [0.2222222222222222, \"#7201a8\"], [0.3333333333333333, \"#9c179e\"], [0.4444444444444444, \"#bd3786\"], [0.5555555555555556, \"#d8576b\"], [0.6666666666666666, \"#ed7953\"], [0.7777777777777778, \"#fb9f3a\"], [0.8888888888888888, \"#fdca26\"], [1.0, \"#f0f921\"]], \"sequentialminus\": [[0.0, \"#0d0887\"], [0.1111111111111111, \"#46039f\"], [0.2222222222222222, \"#7201a8\"], [0.3333333333333333, \"#9c179e\"], [0.4444444444444444, \"#bd3786\"], [0.5555555555555556, \"#d8576b\"], [0.6666666666666666, \"#ed7953\"], [0.7777777777777778, \"#fb9f3a\"], [0.8888888888888888, \"#fdca26\"], [1.0, \"#f0f921\"]]}, \"colorway\": [\"#636efa\", \"#EF553B\", \"#00cc96\", \"#ab63fa\", \"#FFA15A\", \"#19d3f3\", \"#FF6692\", \"#B6E880\", \"#FF97FF\", \"#FECB52\"], \"font\": {\"color\": \"#2a3f5f\"}, \"geo\": {\"bgcolor\": \"white\", \"lakecolor\": \"white\", \"landcolor\": \"#E5ECF6\", \"showlakes\": true, \"showland\": true, \"subunitcolor\": \"white\"}, \"hoverlabel\": {\"align\": \"left\"}, \"hovermode\": \"closest\", \"mapbox\": {\"style\": \"light\"}, \"paper_bgcolor\": \"white\", \"plot_bgcolor\": \"#E5ECF6\", \"polar\": {\"angularaxis\": {\"gridcolor\": \"white\", \"linecolor\": \"white\", \"ticks\": \"\"}, \"bgcolor\": \"#E5ECF6\", \"radialaxis\": {\"gridcolor\": \"white\", \"linecolor\": \"white\", \"ticks\": \"\"}}, \"scene\": {\"xaxis\": {\"backgroundcolor\": \"#E5ECF6\", \"gridcolor\": \"white\", \"gridwidth\": 2, \"linecolor\": \"white\", \"showbackground\": true, \"ticks\": \"\", \"zerolinecolor\": \"white\"}, \"yaxis\": {\"backgroundcolor\": \"#E5ECF6\", \"gridcolor\": \"white\", \"gridwidth\": 2, \"linecolor\": \"white\", \"showbackground\": true, \"ticks\": \"\", \"zerolinecolor\": \"white\"}, \"zaxis\": {\"backgroundcolor\": \"#E5ECF6\", \"gridcolor\": \"white\", \"gridwidth\": 2, \"linecolor\": \"white\", \"showbackground\": true, \"ticks\": \"\", \"zerolinecolor\": \"white\"}}, \"shapedefaults\": {\"line\": {\"color\": \"#2a3f5f\"}}, \"ternary\": {\"aaxis\": {\"gridcolor\": \"white\", \"linecolor\": \"white\", \"ticks\": \"\"}, \"baxis\": {\"gridcolor\": \"white\", \"linecolor\": \"white\", \"ticks\": \"\"}, \"bgcolor\": \"#E5ECF6\", \"caxis\": {\"gridcolor\": \"white\", \"linecolor\": \"white\", \"ticks\": \"\"}}, \"title\": {\"x\": 0.05}, \"xaxis\": {\"automargin\": true, \"gridcolor\": \"white\", \"linecolor\": \"white\", \"ticks\": \"\", \"zerolinecolor\": \"white\", \"zerolinewidth\": 2}, \"yaxis\": {\"automargin\": true, \"gridcolor\": \"white\", \"linecolor\": \"white\", \"ticks\": \"\", \"zerolinecolor\": \"white\", \"zerolinewidth\": 2}}}},\n",
       "                        {\"responsive\": true}\n",
       "                    ).then(function(){\n",
       "                            \n",
       "var gd = document.getElementById('5a0b8284-7b2f-4b79-a422-7db6895c029c');\n",
       "var x = new MutationObserver(function (mutations, observer) {{\n",
       "        var display = window.getComputedStyle(gd).display;\n",
       "        if (!display || display === 'none') {{\n",
       "            console.log([gd, 'removed!']);\n",
       "            Plotly.purge(gd);\n",
       "            observer.disconnect();\n",
       "        }}\n",
       "}});\n",
       "\n",
       "// Listen for the removal of the full notebook cells\n",
       "var notebookContainer = gd.closest('#notebook-container');\n",
       "if (notebookContainer) {{\n",
       "    x.observe(notebookContainer, {childList: true});\n",
       "}}\n",
       "\n",
       "// Listen for the clearing of the current output cell\n",
       "var outputEl = gd.closest('.output');\n",
       "if (outputEl) {{\n",
       "    x.observe(outputEl, {childList: true});\n",
       "}}\n",
       "\n",
       "                        })\n",
       "                };\n",
       "                });\n",
       "            </script>\n",
       "        </div>"
      ]
     },
     "metadata": {},
     "output_type": "display_data"
    }
   ],
   "source": [
    "fig = px.scatter_mapbox(zero_bikes,\n",
    "                        lat='latitude',\n",
    "                        lon='longitude',\n",
    "                        color='availableDocks',\n",
    "                        size='availableDocks',\n",
    "                        color_continuous_scale='Magma',\n",
    "                        size_max=15,\n",
    "                        zoom=11)\n",
    "fig.show()"
   ]
  },
  {
   "cell_type": "code",
   "execution_count": null,
   "metadata": {},
   "outputs": [],
   "source": []
  }
 ],
 "metadata": {
  "kernelspec": {
   "display_name": "Python 3",
   "language": "python",
   "name": "python3"
  },
  "language_info": {
   "codemirror_mode": {
    "name": "ipython",
    "version": 3
   },
   "file_extension": ".py",
   "mimetype": "text/x-python",
   "name": "python",
   "nbconvert_exporter": "python",
   "pygments_lexer": "ipython3",
   "version": "3.7.3"
  }
 },
 "nbformat": 4,
 "nbformat_minor": 2
}
